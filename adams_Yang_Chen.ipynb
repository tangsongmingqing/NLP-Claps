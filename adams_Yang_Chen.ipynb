{
 "cells": [
  {
   "cell_type": "markdown",
   "metadata": {
    "colab_type": "text",
    "id": "BfbHfXSyS6h0"
   },
   "source": [
    "## **Predicting Number of Claps Using NLP**\n",
    "### **Project of Module: Advanced Data Analytics for Management Support SS2020**\n"
   ]
  },
  {
   "cell_type": "markdown",
   "metadata": {
    "colab_type": "text",
    "id": "MxD2eS55QiZA"
   },
   "source": [
    "*Abstract* - Medium is a online publishing platform, where posts can be viewed and commented by all internet users. In this project, one mean of quantified feedback - number of claps will be predicted based on the text-based content. Since the target value is continious, a regression model will be used. A simple linear regression model was used as benchmark and then followed by a neural network model using GRU. The prediction accuracy is measured as mean square error concerning the regression model. And result shows that a neural netword model has improved MSE by 58.4%"
   ]
  },
  {
   "cell_type": "markdown",
   "metadata": {
    "colab_type": "text",
    "id": "xtbeQWNI-25Q"
   },
   "source": [
    "*keywords* prediction, neural network, social media, NLP"
   ]
  },
  {
   "cell_type": "markdown",
   "metadata": {
    "colab_type": "text",
    "id": "I_MoJGiJ_-KF"
   },
   "source": [
    "### **Introduction**"
   ]
  },
  {
   "cell_type": "markdown",
   "metadata": {
    "colab_type": "text",
    "id": "qqov82p8ANOM"
   },
   "source": [
    "Although social media are nowadays mostly bonded with mobile devices, social media websites still have big scale of users for longer contents or more complicated topics. Since social media not only serve as a place connecting family and friends but also a source of information. As for our target data source MEDIUM, it also specify the time need to be consumed in reading the whole article. There are multiple measures to evaluate if an article is popular, such as how many people have followed the author, how many comments and out target variable: number of claps.\n"
   ]
  },
  {
   "cell_type": "markdown",
   "metadata": {
    "colab_type": "text",
    "id": "GUmf-DvdQjeU"
   },
   "source": [
    "There are many related work that have done similiar research to predict social media popularity, varying from number of 'likes' and 'retweets'[1][2], in sentiment analysis it is defined as positive/negative[3]. De Freitas has predicted popularity of social media(number of likes on Twitter) article by it's title. He has used multiple classification tools like support vector machines(SVM), decision tree, gaussian naive Bayes and so on in the multinominal NB model to make the prediction. Zamorano has used mixed input: text and images to improve model performance compared to the XGBoost Regression model. His target variable is the ration of likes to the average likes. Afham meanwhile has used NLTK library for sentiment analysis of posts on Twitter."
   ]
  },
  {
   "cell_type": "markdown",
   "metadata": {
    "colab_type": "text",
    "id": "UCJ3ibwBfTTB"
   },
   "source": [
    "### **Problem Statement**"
   ]
  },
  {
   "cell_type": "markdown",
   "metadata": {
    "colab_type": "text",
    "id": "aL0hzOVefdAE"
   },
   "source": [
    "In this project, it is to predict a continious numeric variable: number of claps for an article on the median plattform - MEDIUM. The raw data for training contains various data forms, such as the raw text of the article, tags, title, published date, authors' personal information. Data structure is dataframe. While the data sets for model prediction contain different information as the training set. Many varible is also difined differently as in the training set. So the first problem is to select suitable variable for modeling and making sure that the variables are not only in the same data structure but also defined in the same way.\n",
    "The second chanllange in this project is that, our target variable is a continious numeric varible. So that it is important to choose a suitable model for that."
   ]
  },
  {
   "cell_type": "markdown",
   "metadata": {
    "colab_type": "text",
    "id": "TOq8mJLAhpsC"
   },
   "source": [
    "### **Evaluation Metrics**"
   ]
  },
  {
   "cell_type": "markdown",
   "metadata": {
    "colab_type": "text",
    "id": "M2mUQvsgh1US"
   },
   "source": [
    "How to compare the solution model to the benchmark model need to be quantified. Due to the numeric character of out target variable, mean squared error(MSE) is chosed as the only evaluation metrics. \\\n",
    "$ MSE = \\frac{1}{n}\\Sigma(y_{i} -\\hat{y})^2 $\\\n",
    "In order to keep the scale of MSE to be the same, the portion for validation in each model need to be kept the same. So that this evaluation metrics can rule out the effect of systematical deviation."
   ]
  },
  {
   "cell_type": "markdown",
   "metadata": {
    "colab_type": "text",
    "id": "e03q9Bw0PkiP"
   },
   "source": [
    "## **1. Data Preprocessing**"
   ]
  },
  {
   "cell_type": "code",
   "execution_count": null,
   "metadata": {
    "colab": {},
    "colab_type": "code",
    "id": "utYEW02oTdFP"
   },
   "outputs": [],
   "source": [
    "# import libraries\n",
    "import pandas as pd\n",
    "import numpy as np\n",
    "import matplotlib.pyplot as plt\n",
    "import time\n",
    "import warnings\n",
    "\n",
    "# settings\n",
    "warnings.filterwarnings(\"ignore\")\n",
    "%matplotlib inline"
   ]
  },
  {
   "cell_type": "code",
   "execution_count": null,
   "metadata": {
    "colab": {
     "base_uri": "https://localhost:8080/",
     "height": 119
    },
    "colab_type": "code",
    "id": "iIN64YyHnA8-",
    "outputId": "83c91b55-3f8e-4805-cadc-6d82ecaf3fca"
   },
   "outputs": [
    {
     "name": "stdout",
     "output_type": "stream",
     "text": [
      "[nltk_data] Downloading package stopwords to /root/nltk_data...\n",
      "[nltk_data]   Package stopwords is already up-to-date!\n",
      "[nltk_data] Downloading package wordnet to /root/nltk_data...\n",
      "[nltk_data]   Package wordnet is already up-to-date!\n",
      "[nltk_data] Downloading package punkt to /root/nltk_data...\n",
      "[nltk_data]   Package punkt is already up-to-date!\n"
     ]
    }
   ],
   "source": [
    "import nltk\n",
    "nltk.download('stopwords')\n",
    "nltk.download('wordnet')\n",
    "nltk.download('punkt')\n",
    "from nltk.tokenize import sent_tokenize\n",
    "from nltk.tokenize import WordPunctTokenizer\n",
    "from nltk.corpus import stopwords\n",
    "import collections"
   ]
  },
  {
   "cell_type": "code",
   "execution_count": null,
   "metadata": {
    "colab": {
     "base_uri": "https://localhost:8080/",
     "height": 102
    },
    "colab_type": "code",
    "id": "UZ39Njnc4CI6",
    "outputId": "2e18f2ae-feb0-41f3-ed2e-5b93d5df04bb"
   },
   "outputs": [
    {
     "name": "stdout",
     "output_type": "stream",
     "text": [
      "[nltk_data] Downloading package averaged_perceptron_tagger to\n",
      "[nltk_data]     /root/nltk_data...\n",
      "[nltk_data]   Package averaged_perceptron_tagger is already up-to-\n",
      "[nltk_data]       date!\n"
     ]
    },
    {
     "data": {
      "text/plain": [
       "True"
      ]
     },
     "execution_count": 111,
     "metadata": {
      "tags": []
     },
     "output_type": "execute_result"
    }
   ],
   "source": [
    "import pickle\n",
    "from bs4 import BeautifulSoup\n",
    "from nltk.corpus import wordnet\n",
    "from nltk.stem import WordNetLemmatizer\n",
    "nltk.download('averaged_perceptron_tagger')\n"
   ]
  },
  {
   "cell_type": "code",
   "execution_count": null,
   "metadata": {
    "colab": {},
    "colab_type": "code",
    "id": "bFL373-UXw7G"
   },
   "outputs": [],
   "source": [
    "from gensim.models import KeyedVectors\n",
    "from gensim.models.keyedvectors import Word2VecKeyedVectors"
   ]
  },
  {
   "cell_type": "code",
   "execution_count": null,
   "metadata": {
    "colab": {
     "base_uri": "https://localhost:8080/",
     "height": 34
    },
    "colab_type": "code",
    "id": "da5NghYjUgMq",
    "outputId": "29f5b598-91c0-4ba8-d32f-82d255f10fc6"
   },
   "outputs": [
    {
     "data": {
      "text/plain": [
       "(279577, 50)"
      ]
     },
     "execution_count": 25,
     "metadata": {
      "tags": []
     },
     "output_type": "execute_result"
    }
   ],
   "source": [
    "df = pd.read_csv(\"/content/drive/My Drive/ADAMS_NLPtask_SS20-2/Train.csv\")\n",
    "df.shape"
   ]
  },
  {
   "cell_type": "code",
   "execution_count": null,
   "metadata": {
    "colab": {
     "base_uri": "https://localhost:8080/",
     "height": 547
    },
    "colab_type": "code",
    "id": "s_ahxx4SZwCF",
    "outputId": "acca860d-b0ad-486a-aa08-479812944672"
   },
   "outputs": [
    {
     "data": {
      "text/html": [
       "<div>\n",
       "<style scoped>\n",
       "    .dataframe tbody tr th:only-of-type {\n",
       "        vertical-align: middle;\n",
       "    }\n",
       "\n",
       "    .dataframe tbody tr th {\n",
       "        vertical-align: top;\n",
       "    }\n",
       "\n",
       "    .dataframe thead th {\n",
       "        text-align: right;\n",
       "    }\n",
       "</style>\n",
       "<table border=\"1\" class=\"dataframe\">\n",
       "  <thead>\n",
       "    <tr style=\"text-align: right;\">\n",
       "      <th></th>\n",
       "      <th>audioVersionDurationSec</th>\n",
       "      <th>codeBlock</th>\n",
       "      <th>codeBlockCount</th>\n",
       "      <th>collectionId</th>\n",
       "      <th>createdDate</th>\n",
       "      <th>createdDatetime</th>\n",
       "      <th>firstPublishedDate</th>\n",
       "      <th>firstPublishedDatetime</th>\n",
       "      <th>imageCount</th>\n",
       "      <th>isSubscriptionLocked</th>\n",
       "      <th>language</th>\n",
       "      <th>latestPublishedDate</th>\n",
       "      <th>latestPublishedDatetime</th>\n",
       "      <th>linksCount</th>\n",
       "      <th>postId</th>\n",
       "      <th>readingTime</th>\n",
       "      <th>recommends</th>\n",
       "      <th>responsesCreatedCount</th>\n",
       "      <th>socialRecommendsCount</th>\n",
       "      <th>subTitle</th>\n",
       "      <th>tagsCount</th>\n",
       "      <th>text</th>\n",
       "      <th>title</th>\n",
       "      <th>totalClapCount</th>\n",
       "      <th>uniqueSlug</th>\n",
       "      <th>updatedDate</th>\n",
       "      <th>updatedDatetime</th>\n",
       "      <th>url</th>\n",
       "      <th>vote</th>\n",
       "      <th>wordCount</th>\n",
       "      <th>publicationdescription</th>\n",
       "      <th>publicationdomain</th>\n",
       "      <th>publicationfacebookPageName</th>\n",
       "      <th>publicationfollowerCount</th>\n",
       "      <th>publicationname</th>\n",
       "      <th>publicationpublicEmail</th>\n",
       "      <th>publicationslug</th>\n",
       "      <th>publicationtags</th>\n",
       "      <th>publicationtwitterUsername</th>\n",
       "      <th>tag_name</th>\n",
       "      <th>slug</th>\n",
       "      <th>name</th>\n",
       "      <th>postCount</th>\n",
       "      <th>author</th>\n",
       "      <th>bio</th>\n",
       "      <th>userId</th>\n",
       "      <th>userName</th>\n",
       "      <th>usersFollowedByCount</th>\n",
       "      <th>usersFollowedCount</th>\n",
       "      <th>scrappedDate</th>\n",
       "    </tr>\n",
       "  </thead>\n",
       "  <tbody>\n",
       "    <tr>\n",
       "      <th>0</th>\n",
       "      <td>0</td>\n",
       "      <td>NaN</td>\n",
       "      <td>0.0</td>\n",
       "      <td>638f418c8464</td>\n",
       "      <td>2018-09-18</td>\n",
       "      <td>2018-09-18 20:55:34</td>\n",
       "      <td>2018-09-18</td>\n",
       "      <td>2018-09-18 20:57:03</td>\n",
       "      <td>1</td>\n",
       "      <td>False</td>\n",
       "      <td>en</td>\n",
       "      <td>2018-09-18</td>\n",
       "      <td>2018-09-18 20:58:20</td>\n",
       "      <td>1</td>\n",
       "      <td>10007d3018fe</td>\n",
       "      <td>0.958491</td>\n",
       "      <td>2</td>\n",
       "      <td>0</td>\n",
       "      <td>0</td>\n",
       "      <td>A major private IT company implements blockcha...</td>\n",
       "      <td>5</td>\n",
       "      <td>Private Business, Government and Blockchain\\n\\...</td>\n",
       "      <td>Private Business, Government and Blockchain</td>\n",
       "      <td>100</td>\n",
       "      <td>private-business-government-and-blockchain-100...</td>\n",
       "      <td>2018-09-18</td>\n",
       "      <td>2018-09-18 20:58:20</td>\n",
       "      <td>https://medium.com/s/story/private-business-go...</td>\n",
       "      <td>False</td>\n",
       "      <td>201</td>\n",
       "      <td>ICOBox is the first and the biggest new genera...</td>\n",
       "      <td>NaN</td>\n",
       "      <td>icobox.io</td>\n",
       "      <td>NaN</td>\n",
       "      <td>ICOBox</td>\n",
       "      <td>support@icobox.io</td>\n",
       "      <td>icobox-io</td>\n",
       "      <td>BLOCKCHAIN,ICO,ETHEREUM,ETHEREUM BLOCKCHAIN,TO...</td>\n",
       "      <td>icobox_io</td>\n",
       "      <td>Blockchain</td>\n",
       "      <td>blockchain</td>\n",
       "      <td>Blockchain</td>\n",
       "      <td>265164.0</td>\n",
       "      <td>Anar Babaev</td>\n",
       "      <td>NaN</td>\n",
       "      <td>f1ad85af0169</td>\n",
       "      <td>babaevanar</td>\n",
       "      <td>450.0</td>\n",
       "      <td>404.0</td>\n",
       "      <td>20181104</td>\n",
       "    </tr>\n",
       "    <tr>\n",
       "      <th>1</th>\n",
       "      <td>0</td>\n",
       "      <td>NaN</td>\n",
       "      <td>0.0</td>\n",
       "      <td>638f418c8464</td>\n",
       "      <td>2018-09-18</td>\n",
       "      <td>2018-09-18 20:55:34</td>\n",
       "      <td>2018-09-18</td>\n",
       "      <td>2018-09-18 20:57:03</td>\n",
       "      <td>1</td>\n",
       "      <td>False</td>\n",
       "      <td>en</td>\n",
       "      <td>2018-09-18</td>\n",
       "      <td>2018-09-18 20:58:20</td>\n",
       "      <td>1</td>\n",
       "      <td>10007d3018fe</td>\n",
       "      <td>0.958491</td>\n",
       "      <td>2</td>\n",
       "      <td>0</td>\n",
       "      <td>0</td>\n",
       "      <td>A major private IT company implements blockcha...</td>\n",
       "      <td>5</td>\n",
       "      <td>Private Business, Government and Blockchain\\n\\...</td>\n",
       "      <td>Private Business, Government and Blockchain</td>\n",
       "      <td>100</td>\n",
       "      <td>private-business-government-and-blockchain-100...</td>\n",
       "      <td>2018-09-18</td>\n",
       "      <td>2018-09-18 20:58:20</td>\n",
       "      <td>https://medium.com/s/story/private-business-go...</td>\n",
       "      <td>False</td>\n",
       "      <td>201</td>\n",
       "      <td>ICOBox is the first and the biggest new genera...</td>\n",
       "      <td>NaN</td>\n",
       "      <td>icobox.io</td>\n",
       "      <td>NaN</td>\n",
       "      <td>ICOBox</td>\n",
       "      <td>support@icobox.io</td>\n",
       "      <td>icobox-io</td>\n",
       "      <td>BLOCKCHAIN,ICO,ETHEREUM,ETHEREUM BLOCKCHAIN,TO...</td>\n",
       "      <td>icobox_io</td>\n",
       "      <td>Samsung</td>\n",
       "      <td>samsung</td>\n",
       "      <td>Samsung</td>\n",
       "      <td>5708.0</td>\n",
       "      <td>Anar Babaev</td>\n",
       "      <td>NaN</td>\n",
       "      <td>f1ad85af0169</td>\n",
       "      <td>babaevanar</td>\n",
       "      <td>450.0</td>\n",
       "      <td>404.0</td>\n",
       "      <td>20181104</td>\n",
       "    </tr>\n",
       "    <tr>\n",
       "      <th>2</th>\n",
       "      <td>0</td>\n",
       "      <td>NaN</td>\n",
       "      <td>0.0</td>\n",
       "      <td>638f418c8464</td>\n",
       "      <td>2018-09-18</td>\n",
       "      <td>2018-09-18 20:55:34</td>\n",
       "      <td>2018-09-18</td>\n",
       "      <td>2018-09-18 20:57:03</td>\n",
       "      <td>1</td>\n",
       "      <td>False</td>\n",
       "      <td>en</td>\n",
       "      <td>2018-09-18</td>\n",
       "      <td>2018-09-18 20:58:20</td>\n",
       "      <td>1</td>\n",
       "      <td>10007d3018fe</td>\n",
       "      <td>0.958491</td>\n",
       "      <td>2</td>\n",
       "      <td>0</td>\n",
       "      <td>0</td>\n",
       "      <td>A major private IT company implements blockcha...</td>\n",
       "      <td>5</td>\n",
       "      <td>Private Business, Government and Blockchain\\n\\...</td>\n",
       "      <td>Private Business, Government and Blockchain</td>\n",
       "      <td>100</td>\n",
       "      <td>private-business-government-and-blockchain-100...</td>\n",
       "      <td>2018-09-18</td>\n",
       "      <td>2018-09-18 20:58:20</td>\n",
       "      <td>https://medium.com/s/story/private-business-go...</td>\n",
       "      <td>False</td>\n",
       "      <td>201</td>\n",
       "      <td>ICOBox is the first and the biggest new genera...</td>\n",
       "      <td>NaN</td>\n",
       "      <td>icobox.io</td>\n",
       "      <td>NaN</td>\n",
       "      <td>ICOBox</td>\n",
       "      <td>support@icobox.io</td>\n",
       "      <td>icobox-io</td>\n",
       "      <td>BLOCKCHAIN,ICO,ETHEREUM,ETHEREUM BLOCKCHAIN,TO...</td>\n",
       "      <td>icobox_io</td>\n",
       "      <td>It</td>\n",
       "      <td>it</td>\n",
       "      <td>It</td>\n",
       "      <td>3720.0</td>\n",
       "      <td>Anar Babaev</td>\n",
       "      <td>NaN</td>\n",
       "      <td>f1ad85af0169</td>\n",
       "      <td>babaevanar</td>\n",
       "      <td>450.0</td>\n",
       "      <td>404.0</td>\n",
       "      <td>20181104</td>\n",
       "    </tr>\n",
       "    <tr>\n",
       "      <th>3</th>\n",
       "      <td>0</td>\n",
       "      <td>NaN</td>\n",
       "      <td>0.0</td>\n",
       "      <td>NaN</td>\n",
       "      <td>2018-01-07</td>\n",
       "      <td>2018-01-07 17:04:37</td>\n",
       "      <td>2018-01-07</td>\n",
       "      <td>2018-01-07 17:06:29</td>\n",
       "      <td>13</td>\n",
       "      <td>False</td>\n",
       "      <td>en</td>\n",
       "      <td>2018-01-07</td>\n",
       "      <td>2018-01-07 17:18:38</td>\n",
       "      <td>24</td>\n",
       "      <td>1000c43bcb97</td>\n",
       "      <td>19.716981</td>\n",
       "      <td>0</td>\n",
       "      <td>0</td>\n",
       "      <td>0</td>\n",
       "      <td>Introduction</td>\n",
       "      <td>5</td>\n",
       "      <td>EPQ draft 1 (4844 words)\\nhttps://upload.wikim...</td>\n",
       "      <td>EPQ draft 1 (4844 words)</td>\n",
       "      <td>0</td>\n",
       "      <td>introduction-3-1000c43bcb97</td>\n",
       "      <td>2018-01-07</td>\n",
       "      <td>2018-01-07 17:18:39</td>\n",
       "      <td>https://medium.com/s/story/introduction-3-1000...</td>\n",
       "      <td>False</td>\n",
       "      <td>4854</td>\n",
       "      <td>NaN</td>\n",
       "      <td>NaN</td>\n",
       "      <td>NaN</td>\n",
       "      <td>NaN</td>\n",
       "      <td>NaN</td>\n",
       "      <td>NaN</td>\n",
       "      <td>NaN</td>\n",
       "      <td>NaN</td>\n",
       "      <td>NaN</td>\n",
       "      <td>Technology</td>\n",
       "      <td>technology</td>\n",
       "      <td>Technology</td>\n",
       "      <td>166125.0</td>\n",
       "      <td>George Sykes</td>\n",
       "      <td>NaN</td>\n",
       "      <td>93b9e94f08ca</td>\n",
       "      <td>tasty231</td>\n",
       "      <td>6.0</td>\n",
       "      <td>22.0</td>\n",
       "      <td>20181104</td>\n",
       "    </tr>\n",
       "    <tr>\n",
       "      <th>4</th>\n",
       "      <td>0</td>\n",
       "      <td>NaN</td>\n",
       "      <td>0.0</td>\n",
       "      <td>NaN</td>\n",
       "      <td>2018-01-07</td>\n",
       "      <td>2018-01-07 17:04:37</td>\n",
       "      <td>2018-01-07</td>\n",
       "      <td>2018-01-07 17:06:29</td>\n",
       "      <td>13</td>\n",
       "      <td>False</td>\n",
       "      <td>en</td>\n",
       "      <td>2018-01-07</td>\n",
       "      <td>2018-01-07 17:18:38</td>\n",
       "      <td>24</td>\n",
       "      <td>1000c43bcb97</td>\n",
       "      <td>19.716981</td>\n",
       "      <td>0</td>\n",
       "      <td>0</td>\n",
       "      <td>0</td>\n",
       "      <td>Introduction</td>\n",
       "      <td>5</td>\n",
       "      <td>EPQ draft 1 (4844 words)\\nhttps://upload.wikim...</td>\n",
       "      <td>EPQ draft 1 (4844 words)</td>\n",
       "      <td>0</td>\n",
       "      <td>introduction-3-1000c43bcb97</td>\n",
       "      <td>2018-01-07</td>\n",
       "      <td>2018-01-07 17:18:39</td>\n",
       "      <td>https://medium.com/s/story/introduction-3-1000...</td>\n",
       "      <td>False</td>\n",
       "      <td>4854</td>\n",
       "      <td>NaN</td>\n",
       "      <td>NaN</td>\n",
       "      <td>NaN</td>\n",
       "      <td>NaN</td>\n",
       "      <td>NaN</td>\n",
       "      <td>NaN</td>\n",
       "      <td>NaN</td>\n",
       "      <td>NaN</td>\n",
       "      <td>NaN</td>\n",
       "      <td>Robotics</td>\n",
       "      <td>robotics</td>\n",
       "      <td>Robotics</td>\n",
       "      <td>9103.0</td>\n",
       "      <td>George Sykes</td>\n",
       "      <td>NaN</td>\n",
       "      <td>93b9e94f08ca</td>\n",
       "      <td>tasty231</td>\n",
       "      <td>6.0</td>\n",
       "      <td>22.0</td>\n",
       "      <td>20181104</td>\n",
       "    </tr>\n",
       "  </tbody>\n",
       "</table>\n",
       "</div>"
      ],
      "text/plain": [
       "   audioVersionDurationSec codeBlock  ...  usersFollowedCount scrappedDate\n",
       "0                        0       NaN  ...               404.0     20181104\n",
       "1                        0       NaN  ...               404.0     20181104\n",
       "2                        0       NaN  ...               404.0     20181104\n",
       "3                        0       NaN  ...                22.0     20181104\n",
       "4                        0       NaN  ...                22.0     20181104\n",
       "\n",
       "[5 rows x 50 columns]"
      ]
     },
     "execution_count": 22,
     "metadata": {
      "tags": []
     },
     "output_type": "execute_result"
    }
   ],
   "source": [
    "df.head()"
   ]
  },
  {
   "cell_type": "code",
   "execution_count": null,
   "metadata": {
    "colab": {
     "base_uri": "https://localhost:8080/",
     "height": 34
    },
    "colab_type": "code",
    "id": "7nJF7vcSr8KM",
    "outputId": "814ba906-3afc-4904-c0e4-34ff1a241696"
   },
   "outputs": [
    {
     "data": {
      "text/plain": [
       "(514, 8)"
      ]
     },
     "execution_count": 21,
     "metadata": {
      "tags": []
     },
     "output_type": "execute_result"
    }
   ],
   "source": [
    "test = pd.read_csv(\"/content/drive/My Drive/ADAMS_NLPtask_SS20-2/Test.csv\")\n",
    "test.shape "
   ]
  },
  {
   "cell_type": "code",
   "execution_count": null,
   "metadata": {
    "colab": {
     "base_uri": "https://localhost:8080/",
     "height": 425
    },
    "colab_type": "code",
    "id": "7g1WSSPYam1F",
    "outputId": "061349df-b222-4e96-841e-4e1fc0c53a3f"
   },
   "outputs": [
    {
     "data": {
      "text/html": [
       "<div>\n",
       "<style scoped>\n",
       "    .dataframe tbody tr th:only-of-type {\n",
       "        vertical-align: middle;\n",
       "    }\n",
       "\n",
       "    .dataframe tbody tr th {\n",
       "        vertical-align: top;\n",
       "    }\n",
       "\n",
       "    .dataframe thead th {\n",
       "        text-align: right;\n",
       "    }\n",
       "</style>\n",
       "<table border=\"1\" class=\"dataframe\">\n",
       "  <thead>\n",
       "    <tr style=\"text-align: right;\">\n",
       "      <th></th>\n",
       "      <th>Unnamed: 0</th>\n",
       "      <th>index</th>\n",
       "      <th>Author</th>\n",
       "      <th>PublicationDetails</th>\n",
       "      <th>Responses</th>\n",
       "      <th>Header</th>\n",
       "      <th>Text</th>\n",
       "      <th>Length</th>\n",
       "    </tr>\n",
       "  </thead>\n",
       "  <tbody>\n",
       "    <tr>\n",
       "      <th>0</th>\n",
       "      <td>0</td>\n",
       "      <td>0</td>\n",
       "      <td>Daniel Jeffries</td>\n",
       "      <td>Daniel Jeffries in HackerNoon.comJul 31, 2017</td>\n",
       "      <td>627 responses</td>\n",
       "      <td>Why Everyone Missed the Most Mind-Blowing Feat...</td>\n",
       "      <td>There’s one incredible feature of cryptocurren...</td>\n",
       "      <td>23401</td>\n",
       "    </tr>\n",
       "    <tr>\n",
       "      <th>1</th>\n",
       "      <td>1</td>\n",
       "      <td>1</td>\n",
       "      <td>Noam Levenson</td>\n",
       "      <td>Noam Levenson in HackerNoon.comDec 6, 2017</td>\n",
       "      <td>156 responses</td>\n",
       "      <td>NEO versus Ethereum: Why NEO might be 2018’s s...</td>\n",
       "      <td>&lt;img class=\"progressiveMedia-noscript js-progr...</td>\n",
       "      <td>23972</td>\n",
       "    </tr>\n",
       "    <tr>\n",
       "      <th>2</th>\n",
       "      <td>2</td>\n",
       "      <td>2</td>\n",
       "      <td>Daniel Jeffries</td>\n",
       "      <td>Daniel Jeffries in HackerNoon.comJul 21, 2017</td>\n",
       "      <td>176 responses</td>\n",
       "      <td>The Cryptocurrency Trading Bible</td>\n",
       "      <td>So you want to trade cryptocurrency?You’ve see...</td>\n",
       "      <td>402</td>\n",
       "    </tr>\n",
       "    <tr>\n",
       "      <th>3</th>\n",
       "      <td>3</td>\n",
       "      <td>5</td>\n",
       "      <td>Haseeb Qureshi</td>\n",
       "      <td>Haseeb Qureshi in HackerNoon.comFeb 19, 2018</td>\n",
       "      <td>72 responses</td>\n",
       "      <td>Stablecoins: designing a price-stable cryptocu...</td>\n",
       "      <td>A useful currency should be a medium of exchan...</td>\n",
       "      <td>19730</td>\n",
       "    </tr>\n",
       "    <tr>\n",
       "      <th>4</th>\n",
       "      <td>4</td>\n",
       "      <td>7</td>\n",
       "      <td>William Belk</td>\n",
       "      <td>William Belk in HackerNoon.comJan 28, 2018</td>\n",
       "      <td>19 responses</td>\n",
       "      <td>Chaos vs. Order — The Cryptocurrency Dilemma</td>\n",
       "      <td>Crypto crypto crypto crypto. It’s here. It’s h...</td>\n",
       "      <td>5324</td>\n",
       "    </tr>\n",
       "  </tbody>\n",
       "</table>\n",
       "</div>"
      ],
      "text/plain": [
       "   Unnamed: 0  index  ...                                               Text Length\n",
       "0           0      0  ...  There’s one incredible feature of cryptocurren...  23401\n",
       "1           1      1  ...  <img class=\"progressiveMedia-noscript js-progr...  23972\n",
       "2           2      2  ...  So you want to trade cryptocurrency?You’ve see...    402\n",
       "3           3      5  ...  A useful currency should be a medium of exchan...  19730\n",
       "4           4      7  ...  Crypto crypto crypto crypto. It’s here. It’s h...   5324\n",
       "\n",
       "[5 rows x 8 columns]"
      ]
     },
     "execution_count": 23,
     "metadata": {
      "tags": []
     },
     "output_type": "execute_result"
    }
   ],
   "source": [
    "test.head()"
   ]
  },
  {
   "cell_type": "code",
   "execution_count": null,
   "metadata": {
    "colab": {
     "base_uri": "https://localhost:8080/",
     "height": 105
    },
    "colab_type": "code",
    "id": "edyRo7tOt1fr",
    "outputId": "4fca12de-a906-4a43-c282-bce4d6c0f308"
   },
   "outputs": [
    {
     "name": "stdout",
     "output_type": "stream",
     "text": [
      "Length    23401\n",
      "Name: 0, dtype: object\n",
      "['Text', 'There’s', 'one', 'incredible', 'feature', 'of', 'cryptocurrencies', 'that', 'almost', 'everyone', 'seems', 'to', 'have', 'missed,', 'including', 'Satoshi', 'himself.But', 'it’s', 'there,', 'hidden', 'away,', 'steadily', 'gathering', 'power', 'like', 'a', 'hurricane', 'far', 'out', 'to', 'sea', 'that’s', 'sweeping', 'towards', 'the', 'shore.It’s', 'a', 'stealth', 'feature,', 'one', 'that', 'hasn’t', 'activated', 'yet.But', 'when', 'it', 'does', 'it', 'will', 'ripple', 'across', 'the', 'entire', 'world,', 'remaking', 'every', 'aspect', 'of', 'society.To', 'understand', 'why,', 'you', 'just', 'have', 'to', 'understand', 'a', 'little', 'about', 'the', 'history', 'of', 'money.The', 'Ascent', 'of', 'MoneyMoney', 'is', 'power.Nobody', 'knew', 'this', 'better', 'than', 'the', 'kings', 'of', 'the', 'ancient', 'world.', 'That’s', 'why', 'they', 'gave', 'themselves', 'an', 'absolute', 'monopoly', 'on', 'minting', 'moolah.They', 'turned', 'shiny', 'metal', 'into', 'coins,', 'paid', 'their', 'soldiers', 'and', 'their', 'soldiers', 'bought', 'things', 'at', 'local', 'stores.', 'The', 'king', 'then', 'sent', 'their', 'soldiers', 'to', 'the', 'merchants', 'with', 'a', 'simple', 'message:“Pay', 'your', 'taxes', 'in', 'this', 'coin', 'or', 'we’ll', 'kill', 'you.”<img', 'class=\"progressiveMedia-noscript', 'js-progressiveMedia-inner\"', 'src=\"https://cdn-images-1.medium.com/max/1500/1*IDIFBNUVL5u9-qvmV40jTw.jpeg\">That’s', 'almost', 'the', 'entire', 'history', 'of', 'money', 'in', 'one', 'paragraph.', 'Coercion', 'and', 'control', 'of', 'the', 'supply', 'with', 'violence,', 'aka', 'the', '“violence', 'hack.”', 'The', 'one', 'hack', 'to', 'rule', 'them', 'all.When', 'power', 'passed', 'from', 'monarchs', 'to', 'nation-states,', 'distributing', 'power', 'from', 'one', 'strongman', 'to', 'a', 'small', 'group', 'of', 'strongmen,', 'the', 'power', 'to', 'print', 'money', 'passed', 'to', 'the', 'state.', 'Anyone', 'who', 'tried', 'to', 'create', 'their', 'own', 'money', 'got', 'crushed.The', 'reason', 'is', 'simple:Centralized', 'enemies', 'are', 'easy', 'to', 'destroy', 'with', 'a', '“decapitation', 'attack.”', 'Cut', 'off', 'the', 'head', 'of', 'the', 'snake', 'and', 'that’s', 'the', 'end', 'of', 'anyone', 'who', 'would', 'dare', 'challenge', 'the', 'power', 'of', 'the', 'state', 'and', 'its', 'divine', 'right', 'to', 'create', 'coins.That’s', 'what', 'happened', 'to', 'e-gold', 'in', '2008,', 'one', 'of', 'the', 'first', 'attempts', 'to', 'create', 'an', 'alternative', 'currency.', 'Launched', 'in', '1996,', 'by', '2004', 'it', 'had', 'over', 'a', 'million', 'accounts', 'and', 'at', 'its', 'peak', 'in', '2008', 'it', 'was', 'processing', 'over', '$2', 'billion', 'dollars', 'worth', 'of', 'transactions.The', 'US', 'government', 'attacked', 'the', 'four', 'leaders', 'of', 'the', 'system,', 'bringing', 'charges', 'against', 'them', 'for', 'money', 'laundering', 'and', 'running', 'an', '“unlicensed', 'money', 'transmitting”', 'business', 'in', 'the', 'case', '“UNITED', 'STATES', 'of', 'America', 'v.', 'E-GOLD,', 'LTD,', 'et', 'al.”', 'It', 'destroyed', 'the', 'company', 'by', 'bankrupting', 'the', 'founders.', 'Even', 'with', 'light', 'sentences', 'for', 'the', 'ring', 'leaders,', 'it', 'was', 'game', 'over.', 'Although', 'the', 'government', 'didn’t', 'technically', 'shut', 'down', 'e-gold,', 'practically', 'it', 'was', 'finished.', '“Unlicensed”', 'is', 'the', 'key', 'word', 'in', 'their', 'attack.The', 'power', 'to', 'grant', 'a', 'license', 'is', 'monopoly', 'power.E-gold', 'was', 'free', 'to', 'apply', 'for', 'interstate', 'money', 'transmitting', 'licenses.It’s', 'just', 'they', 'were', 'never', 'going', 'to', 'get', 'them.And', 'of', 'course', 'that', 'put', 'them', 'out', 'of', 'business.', 'It’s', 'a', 'living,', 'breathing', 'Catch-22.', 'And', 'it', 'works', 'every', 'time.Kings', 'and', 'nation', 'states', 'know', 'the', 'real', 'golden', 'rule:Control', 'the', 'money', 'and', 'you', 'control', 'the', 'world.And', 'so', 'it’s', 'gone', 'for', 'thousands', 'and', 'thousands', 'of', 'years.', 'The', 'very', 'first', 'emperor', 'of', 'China,', 'Qin', 'Shi', 'Huang', '(260–210', 'BC),', 'abolished', 'all', 'other', 'forms', 'of', 'local', 'currency', 'and', 'introduced', 'a', 'uniform', 'copper', 'coin.', 'That’s', 'been', 'the', 'blueprint', 'ever', 'since.', 'Eradicate', 'alternative', 'coins,', 'create', 'one', 'coin', 'to', 'rule', 'them', 'all', 'and', 'use', 'brutality', 'and', 'blood', 'to', 'keep', 'that', 'power', 'at', 'all', 'costs.In', 'the', 'end,', 'every', 'system', 'is', 'vulnerable', 'to', 'violence.Well,', 'almost', 'every', 'one.The', 'HydraIn', 'decentralized', 'systems,', 'there', 'is', 'no', 'head', 'of', 'the', 'snake.', 'Decentralized', 'systems', 'are', 'a', 'hydra.', 'Cut', 'off', 'one', 'head', 'and', 'two', 'more', 'pop-in', 'to', 'take', 'its', 'place.<img', 'class=\"progressiveMedia-noscript', 'js-progressiveMedia-inner\"', 'src=\"https://cdn-images-1.medium.com/max/1500/1*3G1K9kkG2y4tgJZ7epsPRw.jpeg\">In', '2008,', 'an', 'anonymous', 'programmer,', 'working', 'in', 'secret,', 'figured', 'out', 'the', 'solution', 'to', 'the', 'violence', 'hack', 'once', 'and', 'for', 'all', 'when', 'he', 'wrote:', '“Governments', 'are', 'good', 'at', 'cutting', 'off', 'the', 'heads', 'of', 'centrally', 'controlled', 'networks', 'like', 'Napster,', 'but', 'pure', 'P2P', 'networks', 'like', 'Gnutella', 'and', 'Tor', 'seem', 'to', 'be', 'holding', 'their', 'own.”And', 'the', 'first', 'decentralized', 'system', 'of', 'money', 'was', 'born:Bitcoin.It', 'was', 'explicitly', 'designed', 'to', 'resist', 'coercion', 'and', 'control', 'by', 'centralized', 'powers.Satoshi', 'wisely', 'remained', 'anonymous', 'for', 'that', 'very', 'reason.', 'He', 'knew', 'they', 'would', 'come', 'after', 'him', 'because', 'he', 'was', 'the', 'symbolic', 'head', 'of', 'Bitcoin.That’s', 'what’s', 'happened', 'every', 'time', 'someone', 'has', 'come', 'forward', 'claiming', 'to', 'be', 'Satoshi', 'or', 'when', 'someone', 'has', 'been', '“outed”', 'by', 'the', 'news', 'media', 'as', 'Bitcoin’s', 'mysterious', 'creator.', 'When', 'fake', 'Satoshi', 'Craig', 'Wright', 'came', 'out,', 'Australian', 'authorities', 'immediately', 'raided', 'his', 'house.', 'The', 'official', 'reason', 'is', 'always', 'spurious.', 'The', 'real', 'reason', 'is', 'to', 'cut', 'off', 'the', 'head', 'of', 'the', 'snake.As', 'Bitcoin', 'rises', 'in', 'value,', 'the', 'hunt', 'for', 'Satoshi', 'will', 'only', 'intensify.', 'He', 'controls', 'at', 'least', 'a', 'million', 'coins', 'that', 'have', 'never', 'moved', 'from', 'his', 'original', 'wallets.', 'If', 'VC', 'Chris', 'Dixon', 'is', 'right', 'and', 'Bitcoin', 'rocket', 'to', '$100,000', 'a', 'coin,', 'those', 'million', 'coins', 'will', 'shoot', 'up', 'to', '$100', 'billion.', 'If', 'it', 'goes', 'even', 'higher,', 'say', 'a', '$1', 'million', 'a', 'coin,', 'that', 'would', 'make', 'him', 'the', 'world’s', 'first', 'trillionaire.', 'And', 'that', 'will', 'only', 'bring', 'the', 'hammer', 'down', 'harder', 'and', 'faster', 'on', 'him.', 'You', 'can', 'be', '100%', 'sure', 'that', 'black', 'ops', 'units', 'would', 'be', 'gunning', 'for', 'him', 'around', 'the', 'clock.Wherever', 'he', 'is,', 'my', 'advice', 'to', 'Satoshi', 'is', 'this:Stay', 'anonymous', 'until', 'your', 'death', 'bed.But', 'resistance', 'to', 'censorship', 'and', 'violence', 'are', 'only', 'one', 'of', 'a', 'number', 'of', 'incredible', 'features', 'of', 'Bitcoin.', 'Many', 'of', 'those', 'key', 'components', 'are', 'already', 'at', 'work', 'in', 'a', 'number', 'of', 'other', 'cryptocurrencies', 'and', 'decentralized', 'app', 'projects,', 'most', 'notably', 'blockchains.Blockchains', 'are', 'distributed', 'ledgers,', 'the', 'third', 'entry', 'in', 'the', 'world’s', 'first', 'triple-entry', 'accounting', 'system.', 'And', 'breakthroughs', 'in', 'accounting', 'have', 'always', 'presaged', 'a', 'massive', 'uptick', 'in', 'human', 'complexity', 'and', 'economic', 'growth,', 'as', 'I', 'laid', 'out', 'in', 'my', 'article', 'Why', 'Everyone', 'Missed', 'the', 'Most', 'Important', 'Invention', 'in', 'the', 'Last', '500', 'Years.But', 'even', 'triple-entry', 'accounting,', 'decentralization', 'and', 'resistance', 'to', 'the', 'violence', 'hack', 'are', 'not', 'the', 'true', 'power', 'of', 'cryptocurrencies.', 'Those', 'are', 'merely', 'the', 'mechanisms', 'of', 'the', 'system,', 'the', 'way', 'it', 'survives', 'and', 'thrives,', 'bringing', 'new', 'capabilities', 'to', 'the', 'human', 'race.The', 'ultimate', 'feature', 'is', 'one', 'that', 'Bitcoin', 'and', 'current', 'cryptocurrencies', 'have', 'only', 'hinted', 'at', 'so', 'far,', 'a', 'latent', 'feature.The', 'true', 'power', 'of', 'cryptocurrencies', 'is', 'the', 'power', 'to', 'print', 'and', 'distribute', 'money', 'without', 'a', 'central', 'power.Maybe', 'that', 'seems', 'obvious,', 'but', 'I', 'assure', 'you,', 'it’s', 'not.', 'Especially', 'the', 'second', 'part.That', 'power', 'has', 'always', 'rested', 'with', 'the', 'divine', 'right', 'of', 'kings', 'and', 'nation-states.Until', 'now.Now', 'that', 'right', 'returns', 'to', 'its', 'rightful', 'owners:', 'The', 'people.And', 'that', 'will', 'blow', 'open', 'the', 'doors', 'of', 'world', 'commerce,', 'sowing', 'the', 'seeds', 'for', 'Star', 'Trek', 'like', 'abundance', 'economics,', 'leaving', 'the', 'Old', 'World', 'Order', 'of', 'pure', 'scarcity', 'economics', 'in', 'the', 'pages', 'of', 'history', 'books.There’s', 'just', 'one', 'problem.Nobody', 'has', 'created', 'the', 'cryptocurrency', 'we', 'actually', 'need', 'just', 'yet.You', 'see,', 'Satoshi', 'understood', 'the', 'first', 'part', 'of', 'the', 'maxim,', 'the', 'power', 'to', 'print', 'money.', 'What', 'he', 'missed', 'was', 'the', 'power', 'to', 'distribute', 'that', 'money.The', 'second', 'part', 'is', 'actually', 'the', 'most', 'crucial', 'part', 'of', 'the', 'puzzle.', 'Missing', 'it', 'created', 'a', 'critical', 'flaw', 'in', 'the', 'Bitcoin', 'ecosystem.', 'Instead', 'of', 'distributing', 'the', 'money', 'far', 'and', 'wide,', 'it', 'traded', 'central', 'bankers', 'for', 'an', 'un-elected', 'group', 'of', 'miners.These', 'miners', 'play', 'havoc', 'with', 'the', 'system,', 'holding', 'back', 'much', 'needed', 'software', 'upgrades', 'like', 'SegWit', 'for', 'years', 'and', 'threatening', 'pointless', 'hard', 'forks', 'in', 'order', 'to', 'drive', 'down', 'the', 'price', 'with', 'FUD', 'and', 'scoop', 'up', 'more', 'coins', 'at', 'a', 'depressed', 'price.But', 'what', 'if', 'there', 'was', 'a', 'different', 'way?What', 'if', 'you', 'could', 'design', 'a', 'system', 'that', 'would', 'completely', 'alter', 'the', 'economic', 'landscape', 'of', 'the', 'world', 'forever?The', 'key', 'is', 'how', 'you', 'distribute', 'the', 'money', 'at', 'the', 'moment', 'of', 'creation.And', 'the', 'first', 'group', 'to', 'recognize', 'this', 'opportunity', 'and', 'put', 'it', 'into', 'action', 'will', 'change', 'the', 'world.To', 'understand', 'why', 'you', 'have', 'to', 'look', 'at', 'how', 'money', 'is', 'created', 'and', 'pushed', 'out', 'into', 'the', 'system', 'today.The', 'Great', 'PyramidToday,', 'money', 'starts', 'at', 'the', 'top', 'and', 'flows', 'down', 'to', 'everyone', 'else.', 'Think', 'of', 'it', 'as', 'a', 'pyramid.<img', 'class=\"progressiveMedia-noscript', 'js-progressiveMedia-inner\"', 'src=\"https://cdn-images-1.medium.com/max/1500/1*4VUTPy5Z4KL4kKYoR95nwA.jpeg\">In', 'fact,', 'we', 'have', 'a', 'famous', 'pyramid,', 'with', 'a', 'third', 'eye,', 'on', 'the', 'dollar', 'itself.One', 'of', 'the', 'most', 'cliched', 'arguments', 'against', 'Bitcoin', 'is', 'that', 'it’s', 'a', 'Ponzi', 'or', '“pyramid”', 'scheme.', 'A', 'pyramid', 'scheme', 'rests', 'on', 'the', 'original', 'creators', 'of', 'the', 'system', 'roping', 'in', 'as', 'many', 'suckers', 'as', 'possible,', 'paying', 'them', 'for', 'enrolling', 'people', 'in', 'the', 'system', 'rather', 'than', 'by', 'offering', 'goods', 'and', 'services.', 'Eventually', 'you', 'run', 'out', 'of', 'people', 'to', 'bring', 'in', 'and', 'the', 'whole', 'things', 'collapses', 'like', 'a', 'house', 'of', 'cards.', 'A', 'Ponzi', 'scheme', 'is', 'basically', 'the', 'same,', 'in', 'that', 'you', 'dupe', 'the', 'original', 'investors', 'with', 'fake', 'returns', 'on', 'their', 'initial', 'investment,', 'a', 'la', 'Bernie', 'Madoff,', 'and', 'then', 'get', 'them', 'to', 'rope', 'in', 'more', 'suckers', 'because', 'they’re', 'so', 'elated', 'by', 'the', 'huge', 'returns.<img', 'class=\"progressiveMedia-noscript', 'js-progressiveMedia-inner\"', 'src=\"https://cdn-images-1.medium.com/max/1500/1*CFLzM3Z0_sUPSfRhEHj92g.png\">The', 'irony', 'of', 'course', 'is', 'that', 'fiat', 'currency,', 'i.e.', 'government', 'printed', 'money', 'like', 'the', 'Yen', 'or', 'US', 'dollar,', 'is', 'closer', 'to', 'a', 'pyramid', 'scheme', 'than', 'Bitcoin.', 'Why?', 'Because', 'fiat', 'money', 'is', 'minted', 'at', 'the', 'top', 'of', 'the', 'pyramid', 'by', 'central', 'banks', 'and', 'then', '“trickled', 'down”', 'to', 'everyone', 'else.The', 'only', 'problem', 'is,', 'it', 'doesn’t', 'trickle', 'down', 'all', 'that', 'well.It', 'moves', 'out', 'to', 'a', 'few', 'big', 'banks,', 'who', 'either', 'lend', 'it', 'to', 'people', 'or', 'give', 'it', 'to', 'people', 'for', 'their', 'labor.', 'In', 'fact,', 'having', 'a', 'job', 'or', 'getting', 'a', 'loan', 'are', 'the', 'primary', 'methods', 'that', 'people', 'at', 'the', 'bottom', 'of', 'the', 'pyramid', 'get', 'any', 'of', 'the', 'money.', 'In', 'other', 'words,', 'they', 'trade', 'their', 'current', 'time', '(with', 'a', 'job)', 'or', 'their', 'future', 'time', '(with', 'a', 'loan)', 'for', 'that', 'money.', 'It’s', 'just', 'that', 'their', 'time', 'is', 'a', 'limited', 'resource', 'and', 'they', 'can', 'only', 'trade', 'so', 'much', 'of', 'it', 'before', 'it', 'runs', 'out.Think', 'of', 'economics', 'as', 'a', 'game.', 'Everyone', 'in', 'the', 'system', 'is', 'a', 'player,', 'looking', 'to', 'maximize', 'their', 'advantage', 'and', 'the', 'advantage', 'of', 'their', 'team', '(a', 'company,', 'their', 'family', 'and', 'friends,', 'etc.)', 'to', 'get', 'more', 'of', 'the', 'money.', 'But', 'to', 'start', 'the', 'game', 'you', 'need', 'to', 'initially', 'distribute', 'the', 'money', 'or', 'nobody', 'can', 'play.', 'Distributing', 'money', 'sets', 'the', 'playing', 'field.Now', 'if', 'you', 'were', 'in', 'charge', 'of', 'the', 'money,', 'how', 'would', 'you', 'distribute', 'it', 'to', 'the', 'network?', 'You’d', 'want', 'to', 'keep', 'as', 'much', 'of', 'it', 'for', 'yourself', 'as', 'possible,', 'so', 'you’d', 'set', 'the', 'rules', 'to', 'maximize', 'your', 'own', 'personal', 'advantage.', 'Of', 'course', 'you', 'would!', 'That’s', 'what', 'anyone', 'in', 'their', 'right', 'mind', 'would', 'do,', 'maximize', 'their', 'own', 'power', 'to', 'keep', 'it', 'for', 'as', 'long', 'as', 'possible.<img', 'class=\"progressiveMedia-noscript', 'js-progressiveMedia-inner\"', 'src=\"https://cdn-images-1.medium.com/max/1500/1*1RCHZKLZRBZwOItpO96raw.jpeg\">That’s', 'precisely', 'what', 'the', 'kings', 'and', 'queens', 'of', 'the', 'ancient', 'world', 'did,', 'and', 'that’s', 'what', 'nation', 'states', 'do', 'today.', 'As', 'Naval', 'Ravikant', 'said', 'in', 'his', 'epic', 'series', 'of', 'tweets', 'on', 'blockchain,', 'today’s', 'networks', 'are', 'run', 'by', '“kings,', 'corporations,', 'aristocracies,', 'and', 'mobs.”', '“And', 'the', 'Rulers', 'of', 'these', 'networks', '[are]', 'the', 'most', 'powerful', 'people', 'in', 'society.”That’s', 'why', 'every', 'single', 'system', 'in', 'the', 'history', 'of', 'the', 'world', 'has', 'distributed', 'the', 'money', 'in', 'one', 'way:From', 'the', 'top', 'down.Because', 'it', 'maximizes', 'the', 'advantage', 'of', 'the', 'kings', 'and', 'mobs', 'at', 'the', 'top.Unfortunately,', 'that', 'means', 'most', 'of', 'the', 'money', 'never', 'really', 'leaves', 'the', 'top.', 'It', 'stays', 'right', 'there,', 'as', 'wasted', 'and', 'frozen', 'potential', 'that’s', 'never', 'realized.', 'There', 'is', 'little', 'to', 'no', 'incentive', 'for', 'the', 'money', 'to', 'move.', 'Since', 'money', 'is', 'power,', 'hoarding', 'it', 'is', 'literally', 'hoarding', 'more', 'power', 'and', 'nobody', 'would', 'willingly', 'give', 'up', 'that', 'power.In', 'other', 'words,', 'the', 'game', 'is', 'rigged.What', 'we', 'need', 'is', 'a', 'way', 'to', 'reset', 'the', 'game.Up', 'until', 'now,', 'our', 'prospects', 'looked', 'very', 'dim.For', 'example,', 'we', 'could', 'pass', 'a', 'law,', 'like', 'a', 'Universal', 'Basic', 'Income', '(UBI).', 'That', 'would', 'give', 'everyone', 'a', 'stream', 'of', 'money,', 'pushing', 'it', 'out', 'across', 'the', 'entire', 'playing', 'field', 'and', 'giving', 'more', 'people', 'a', 'chance', 'to', 'participate', 'in', 'the', 'system.', 'If', 'more', 'people', 'can', 'participate,', 'we', 'unlock', 'all', 'kinds', 'of', 'hidden', 'and', 'untapped', 'value.How', 'many', 'great', 'inventors', 'never', 'managed', 'to', 'create', 'their', 'next', 'breakthrough', 'because', 'they', 'were', 'stuck', 'driving', 'a', 'bus', 'seven', 'days', 'a', 'week', 'to', 'feed', 'their', 'family,', 'with', 'no', 'hope', 'of', 'free', 'time', 'or', 'any', 'clear', 'path', 'to', 'digging', 'themselves', 'out', 'of', 'debt?', 'How', 'many', 'great', 'writers', 'went', 'to', 'their', 'graves', 'never', 'having', 'written', 'their', 'great', 'novel?', 'How', 'many', 'budding', 'scientists', 'never', 'discovered', 'the', 'cure', 'to', 'cancer', 'or', 'heart', 'disease?The', 'problem', 'with', 'all', 'of', 'the', 'plans', 'before', 'now,', 'from', 'UBI', 'to', 'socialism', '(high', 'taxes', 'on', 'the', 'rich', 'to', 'spread', 'the', 'wealth', 'across', 'the', 'game)', 'is', 'that', 'to', 'redistribute', 'the', 'money', 'after', 'it’s', 'already', 'been', 'distributed', 'is', 'nearly', 'impossible.', 'The', 'people', 'with', 'that', 'money', 'rightfully', 'resist', 'its', 'redistribution.', 'And', 'as', 'Margret', 'Thatcher', 'said', '“The', 'trouble', 'with', 'Socialism', 'is', 'that', 'eventually', 'you', 'run', 'out', 'of', 'other', 'people’s', 'money.”But', 'what', 'if', 'the', 'money', 'is', 'NOT', 'already', 'distributed?What', 'if', 'we', 'don’t', 'have', 'to', 'take', 'it', 'from', 'anyone', 'at', 'all?<img', 'class=\"progressiveMedia-noscript', 'js-progressiveMedia-inner\"', 'src=\"https://cdn-images-1.medium.com/max/1500/1*nSS4SIR_wmtH7r-F9sM6FA.jpeg\">The', 'inevitable', 'outcome', 'of', 'all', 'fractional', 'reserve', 'lending', 'booms', 'is', 'bust.That’s', 'the', 'missed', 'opportunity', 'of', 'all', 'of', 'today’s', 'cryptocurrencies.', 'Cryptocurrencies', 'are', 'creating', 'new', 'money.', 'And', 'unlike', 'credit', 'markets,', 'which', 'only', 'pretend', 'to', 'expand', 'the', 'money', 'supply,', 'by', 'lending', 'it', 'out', '10x', 'with', 'fractional', 'reserve', 'lending,', 'cryptocurrencies', 'are', 'literally', 'printing', 'money.', 'And', 'they', 'aren’t', 'loaning', 'it', 'to', 'people,', 'they’re', 'giving', 'it', 'to', 'them', 'for', 'their', 'service', 'to', 'the', 'network.It’s', 'like', 'microloans,', 'without', 'the', 'loans.As', 'Naval', 'said:', '“Society', 'gives', 'you', 'money', 'for', 'giving', 'society', 'what', 'it', 'wants,', 'blockchains', 'give', 'you', 'coins', 'for', 'giving', 'the', 'network', 'what', 'it', 'wants.”So', 'instead', 'of', 'giving', 'all', 'the', 'money', 'to', 'a', 'small', 'group', 'of', 'miners,', 'what', 'if', 'we', 'could', 'do', 'better?', 'A', 'lot', 'better?We', 'can.I', 'outlined', 'one', 'way', 'in', 'the', 'an', 'article', 'about', 'the', 'Cicada', 'project,', 'How', 'We', 'Deliver', 'a', 'Universal', 'Basic', 'Income', 'Right', 'Now', 'and', 'Save', 'Ourselves', 'from', 'the', 'Robots.', 'The', 'Cicada', 'design', 'flips', 'the', 'idea', 'of', 'mining', 'on', 'its', 'head.', 'Everyone', 'on', 'the', 'network', 'is', 'a', 'miner', 'and', 'nobody', 'can', 'have', 'more', 'than', 'one', 'miner.Miners', 'are', 'drafted', 'randomly', 'to', 'keep', 'the', 'network', 'running', 'smoothly.', 'You', 'might', 'be', 'walking', 'along,', 'getting', 'coffee', 'and', 'your', 'phone', 'gets', 'called', 'on', 'to', 'secure', 'the', 'network', 'for', 'a', 'few', 'minutes.', 'After', 'that', 'it', 'goes', 'right', 'back', 'to', 'sleep.', 'As', 'a', 'reward,', 'you', 'might', 'win', 'new', 'coins', 'for', 'doing', 'nothing', 'but', 'having', 'the', 'application', 'on', 'your', 'phone.', 'Simple', 'right?Because', 'everyone', 'is', 'eventually', 'drafted,', 'everyone', 'gets', 'paid,', 'in', 'essence', 'creating', 'a', 'UBI', 'right', 'now.And', 'that’s', 'just', 'one', 'way.If', 'you', 'think', 'about', 'it', 'you', 'can', 'come', 'up', 'with', 'dozens.', 'Oh', 'and', 'don’t', 'get', 'caught', 'up', 'with', 'thinking', 'the', 'only', 'way', 'to', 'do', 'this', 'is', 'with', 'an', 'ID.', 'Lots', 'of', 'ways', 'to', 'randomly', 'draft', 'miners', 'without', 'that', 'too.', 'The', 'key', 'is', 'to', 'free', 'your', 'mind', 'of', 'the', '“Satoshi', 'box”', 'and', 'think', 'different.What', 'we', 'really', 'need', 'is', 'to', 'completely', 'gamify', 'the', 'delivery', 'of', 'money,', 'distributing', 'it', 'far', 'and', 'wide', 'at', 'the', 'moment', 'of', 'creation.<img', 'class=\"progressiveMedia-noscript', 'js-progressiveMedia-inner\"', 'src=\"https://cdn-images-1.medium.com/max/1500/1*FEc8Zg3OyVoKwd0ehBFdMg.jpeg\">Money', 'is', 'a', 'Game.', 'Embrace', 'it.Give', 'it', 'out', 'as', 'rewards', 'for', 'using', 'apps,', 'or', 'as', 'distributed', 'mining', 'fees,', 'or', 'as', 'shared', 'cuts', 'of', 'the', 'mining', 'fees', 'to', 'organizations', 'that', 'provide', 'value', 'to', 'the', 'network', 'are', 'just', 'a', 'few', 'more', 'ways', 'to', 'do', 'it', 'right.', 'Those', 'are', 'just', 'the', 'tip', 'of', 'the', 'iceberg.', 'There', 'are', 'thousands', 'of', 'ways', 'but', 'we', 'just', 'haven’t', 'been', 'thinking', 'about', 'the', 'problem', 'the', 'right', 'way.In', 'other', 'words,', 'we', 'missed', 'the', 'real', 'power', 'of', 'Satoshi’s', 'creation:', 'the', 'distribution', 'of', 'money.The', 'first', 'system', 'that', 'truly', 'gamifies', 'the', 'delivery', 'of', 'money', 'will', 'rocket', 'to', 'exponential', 'growth,', 'upending', 'the', 'current', 'system', 'for', 'good.', 'That', 'will', 'set', 'the', 'initial', 'playing', 'field', 'dynamically', 'and', 'allow', 'players', 'who', 'never', 'would', 'have', 'gotten', 'into', 'the', 'game', 'to', 'compete.', 'The', 'more', 'people', 'who', 'can', 'participate,', 'the', 'more', 'efficient', 'and', 'valuable', 'the', 'network', 'becomes.“Networks', 'have', '“network', 'effects.”', 'Adding', 'a', 'new', 'participant', 'increases', 'the', 'value', 'of', 'the', 'network', 'for', 'all', 'existing', 'participants.”Right', 'now,', 'we’re', 'not', 'adding', 'new', 'participants', 'fast', 'enough', 'to', 'the', 'cryptonets', 'of', 'tomorrow.', 'The', 'system', 'is', 'still', 'vulnerable', 'to', 'the', 'violence', 'hack.', 'Gamified', 'money', 'is', 'the', 'answer', 'to', 'exponential', 'growth.If', 'the', 'system', 'can', 'grow', 'large', 'enough,', 'fast', 'enough,', 'it', 'will', 'become', 'an', 'unstoppable', 'juggernaut,', 'and', 'the', 'rest', 'of', 'the', 'economic', 'universe', 'will', 'need', 'to', 'come', 'over', 'to', 'the', 'new', 'playing', 'field.Once', 'the', 'Amazons', 'and', 'Google’s', 'of', 'the', 'world', 'join', 'the', 'playing', 'field,', 'their', 'self-preservation', 'instinct', 'will', 'kick', 'in', 'and', 'they’ll', 'want', 'to', 'protect', 'and', 'expand', 'it.', 'And', 'this', 'new', 'network', 'will', 'behave', 'differently.', 'Instead', 'of', 'rewarding', 'just', 'the', 'people', 'at', 'the', 'top,', 'who’ve', 'been', 'rigging', 'the', 'rules', 'in', 'their', 'favor', 'since', 'the', 'beginning', 'of', 'time,', 'the', 'game', 'will', 'completely', 'reset', 'with', 'a', 'new', 'set', 'of', 'rules.What’s', 'best', 'for', 'the', 'whole', 'network,', 'not', 'just', 'the', 'few', 'players', 'at', 'the', 'top,', 'is', 'best.“Blockchains', 'are', 'a', 'new', 'invention', 'that', 'allows', 'meritorious', 'participants', 'in', 'an', 'open', 'network', 'to', 'govern', 'without', 'a', 'ruler', 'and', 'without', 'money.', 'They', 'are', 'merit-based,', 'tamper-proof,', 'open,', 'voting', 'systems.', 'The', 'meritorious', 'are', 'those', 'who', 'work', 'to', 'advance', 'the', 'network.', 'Blockchains’', 'open', 'and', 'merit', 'based', 'markets', 'can', 'replace', 'networks', 'previously', 'run', 'by', 'kings,', 'corporations,', 'aristocracies,', 'and', 'mobs.”Those', 'that', 'join', 'the', 'network', 'and', 'help', 'it', 'grow', 'will', 'thrive', 'and', 'flourish', 'with', 'it.', 'It', 'will', 'amplify', 'their', 'own', 'value,', 'making', 'it', 'grow', 'faster', 'than', 'at', 'any', 'point', 'in', 'history.', 'Every', 'ounce', 'they', 'give', 'to', 'the', 'system', 'will', 'magnify', 'their', 'own', 'rewards.By', 'contrast,', 'economies', 'that', 'stand', 'against', 'the', 'network,', 'attempting', 'to', 'cripple', 'it', 'with', 'arbitrary', 'rules,', 'will', 'pay', 'a', 'heavy', 'price.', 'The', 'system', 'will', 'stretch', 'across', 'the', 'globe', 'and', 'only', 'the', 'most', 'essential', 'rules', 'will', 'take', 'root,', 'because', 'in', 'order', 'to', 'upgrade', 'a', 'distributed', 'system,', 'you', 'need', 'vast', 'consensus', 'across', 'the', 'network.', 'Since', 'people', 'can', 'generally', 'only', 'agree', 'on', 'big,', 'essential', 'solutions,', 'no', 'self-defeating,', 'narrow-minded', 'rules', 'will', 'be', 'allowed.Let’s', 'say', 'that', 'a', 'country', 'decides', 'to', 'restrict', 'ICOs', 'to', 'their', 'citizens', 'altogether', 'or', 'make', 'cryptocurrencies', 'illegal.', 'Instead', 'of', 'killing', 'the', 'network,', 'the', 'rules', 'will', 'blow', 'back', 'on', 'their', 'creators.', 'Only', 'their', 'own', 'people', 'will', 'suffer,', 'as', 'they', 'won’t', 'be', 'able', 'to', 'participate', 'in', 'the', 'explosion', 'of', 'new', 'potential', 'that', 'ICOs', 'bring', 'to', 'the', 'table,', 'draining', 'money', 'out', 'of', 'the', 'economy', 'into', 'rival', 'economies.', 'Even', 'worse,', 'if', 'they', 'make', 'cryptos', 'illegal,', 'they’ll', 'simply', 'drive', 'that', 'money', 'underground,', 'which', 'will', 'keep', 'them', 'from', 'getting', 'tax', 'from', 'their', 'citizens,', 'which', 'will', 'starve', 'them', 'of', 'revenue.As', 'the', 'system', 'spreads', 'it', 'will', 'put', 'people', 'back', 'in', 'control', 'of', 'their', 'own', 'financial', 'power.', 'No', 'one', 'will', 'be', 'able', 'to', 'take', 'your', 'money', 'from', 'you.', 'And', 'that', 'is', 'a', 'good', 'thing.<img', 'class=\"progressiveMedia-noscript', 'js-progressiveMedia-inner\"', 'src=\"https://cdn-images-1.medium.com/max/1500/1*ZM7mV6UPEcD_s1Fchi5caA.jpeg\">Of', 'course,', 'not', 'everyone', 'thinks', 'so.', 'Some', 'folks', 'always', 'worry', 'that', 'people', 'will', 'do', 'bad', 'things', 'with', 'this', 'power,', 'like', 'commit', 'crimes.', 'But', 'people', 'will', 'always', 'do', 'bad', 'things.', 'They', 'do', 'those', 'things', 'now', 'and', 'they', 'always', 'have.', 'Crippling', 'the', 'system', 'for', 'everyone', 'just', 'to', 'get', 'those', 'people', 'is', 'the', 'height', 'of', 'insanity.', 'It', 'has', 'never', 'worked', 'and', 'it', 'never', 'will.Still,', 'some', 'people', 'will', 'never', 'believe', 'that.They', 'trust', 'their', 'central', 'powers', 'unquestioningly.', 'All', 'you', 'have', 'to', 'do', 'is', 'wrap', 'up', 'your', 'argument', 'in', '“protecting', 'the', 'children”', 'or', '“fighting', 'terrorism”', 'and', 'you', 'can', 'generally', 'fool', 'half', 'of', 'the', 'people', 'half', 'of', 'the', 'time', 'about', 'any', 'terrible', 'policy', 'you', 'want.Yet', 'I’ve', 'found', 'that', 'people', 'who', 'see', 'central', 'systems', 'as', 'the', 'answer', 'to', 'everything', 'have', 'usually', 'lived', 'in', 'a', 'stable', 'central', 'system', 'for', 'their', 'whole', 'lives.A', 'few', 'days', 'in', 'an', 'unstable', 'system', 'would', 'change', 'their', 'minds', 'very', 'quickly.Don’t', 'believe', 'me?Imagine', 'you', 'lived', 'in', 'Syria', 'right', 'now.Your', 'central', 'infrastructure', 'is', 'destroyed,', 'as', 'is', 'your', 'money.', 'You', 'don’t', 'want', 'the', 'war,', 'but', 'there’s', 'nothing', 'you', 'can', 'do', 'about', 'it.', 'Now', 'your', 'house', 'is', 'gone,', 'your', 'friends', 'and', 'family', 'are', 'dead,', 'your', 'banks', 'are', 'bombed', 'out', 'and', 'you’re', 'cast', 'out,', 'adrift,', 'homeless', 'and', 'penniless.', 'Even', 'worse,', 'nobody', 'wants', 'you.', 'The', 'world', 'has', 'shifted', 'from', 'open', 'borders', 'to', 'building', 'walls', 'everywhere.', 'You’re', 'not', 'welcome', 'anywhere,', 'you', 'can’t', 'stay', 'where', 'you', 'are', 'and', 'you’re', 'broke.But', 'what', 'if', 'your', 'money', 'was', 'still', 'there,', 'recorded', 'on', 'the', 'blockchain,', 'waiting', 'for', 'you', 'to', 'download', 'and', 'restore', 'a', 'deterministic', 'wallet', 'and', 'give', 'it', 'the', 'right', 'passphrase', 'to', 'restore', 'it?How', 'much', 'easier', 'would', 'it', 'be', 'to', 'start', 'your', 'life', 'over?Cryptocurrencies', 'finally', 'offer', 'a', 'way', 'for', 'us', 'to', 'control', 'our', 'own', 'destiny.', 'For', 'the', 'very', 'first', 'time', 'in', 'the', 'history', 'of', 'the', 'world,', 'we', 'have', 'a', 'way', 'to', 'generate', 'and', 'distribute', 'money', 'without', 'a', 'central', 'power.', 'People', 'will', 'have', 'control', 'over', 'the', 'money', 'they', 'rightfully', 'earned.And', 'even', 'better,', 'instead', 'of', 'setting', 'the', 'playing', 'field', 'so', 'the', 'game', 'is', 'always', 'rigged,', 'we', 'can', 'set', 'the', 'game', 'up', 'the', 'way', 'it', 'was', 'always', 'meant', 'to', 'be', 'played,', 'with', 'open', 'competition', 'and', 'flexible', 'rules', 'in', 'a', 'dynamic', 'system', 'that', 'allows', 'everyone', 'to', 'compete.But', 'we', 'need', 'to', 'think', 'big.', 'We', 'need', 'to', 'find', 'a', 'way', 'to', 'distribute', 'the', 'money', 'far', 'and', 'wide', 'without', 'taking', 'it', 'from', 'everyone', 'else.', 'Do', 'that', 'and', 'we', 'change', 'the', 'game', 'forever.That’s', 'what', 'my', 'team', 'is', 'working', 'on.', 'Want', 'to', 'talk?', 'Find', 'us', 'in', 'DecStack.com.Centralized', 'money', 'is', 'the', 'ultimate', 'chain.Cut', 'that', 'chain', 'and', 'you', 'free', 'the', 'world.###########################################Come', 'check', 'out', 'the', 'podcast', 'about', 'this', 'article', 'on', 'my', 'new', 'show,', 'The', 'Daily', 'PostHuman,', 'covering', 'crypto,', 'AI,', 'tech,', 'the', 'future,', 'history,', 'society', 'and', 'more!<img', 'class=\"progressiveMedia-noscript', 'js-progressiveMedia-inner\"', 'src=\"https://cdn-images-1.medium.com/max/2000/1*BXuQWtSQzZlOoyCdC6qnaw.jpeg\">###########################################Spanish', 'translation', 'of', 'this', 'story', 'is', 'here.', 'Thanks', 'to', 'Professor', 'Fernando', 'Johann', 'for', 'leading', 'the', 'charge.############################################If', 'you', 'love', 'my', 'work', 'please', 'visit', 'my', 'Patreon', 'page', 'because', 'that’s', 'where', 'I', 'share', 'special', 'insights', 'with', 'all', 'my', 'fans.Top', 'Patrons', 'get', 'EXCLUSIVE', 'ACCESS', 'to', 'so', 'many', 'things:Early', 'links', 'to', 'every', 'article,', 'podcast', 'and', 'private', 'talk.', 'You', 'read', 'it', 'and', 'hear', 'first', 'before', 'anyone', 'else!A', 'monthly', 'virtual', 'meet', 'up', 'and', 'Q&A', 'with', 'me.', 'Ask', 'me', 'anything', 'and', 'I’ll', 'answer.', 'I', 'also', 'share', 'everything', 'I’m', 'working', 'on', 'and', 'give', 'you', 'a', 'behind', 'the', 'scenes', 'look', 'at', 'my', 'process.Access', 'to', 'the', 'legendary', 'Coin', 'Sheets', 'Discord', 'where', 'you’ll', 'find:Market', 'calls', 'from', 'me', 'and', 'other', 'pro', 'technical', 'analysis', 'masters.The', 'Coin’bassaders', 'only', 'private', 'chat.The', 'private', 'Turtle', 'Beach', 'channel,', 'where', 'coders', 'share', 'various', 'versions', 'of', 'the', 'Crypto', 'Turtle', 'Trader', 'strategy', 'and', 'other', 'signals', 'and', 'trading', 'software.Behind', 'the', 'scenes', 'look', 'at', 'how', 'I', 'and', 'other', 'pros', 'interpret', 'the', 'market.###########################################If', 'you', 'love', 'the', 'crypto', 'space', 'as', 'much', 'as', 'I', 'do,', 'come', 'on', 'over', 'and', 'join', 'DecStack,', 'the', 'Virtual', 'Co-Working', 'Spot', 'for', 'CryptoCurrency', 'and', 'Decentralized', 'App', 'Projects,', 'where', 'you', 'can', 'rub', 'elbows', 'with', 'multiple', 'projects', 'in', 'the', 'space.', 'It’s', 'totally', 'free', 'forever.', 'Just', 'come', 'on', 'in', 'and', 'socialize,', 'work', 'together,', 'share', 'code', 'and', 'ideas.', 'Make', 'your', 'ideas', 'better', 'through', 'feedback.', 'Find', 'new', 'friends.', 'Meet', 'your', 'new', 'family.###########################################<img', 'class=\"progressiveMedia-noscript', 'js-progressiveMedia-inner\"', 'src=\"https://cdn-images-1.medium.com/max/1500/1*2NoaJZdn-t-1HPQGiUq9-A.jpeg\">Photo', 'creditA', 'bit', 'about', 'me:', 'I’m', 'an', 'author,', 'engineer', 'and', 'serial', 'entrepreneur.', 'During', 'the', 'last', 'two', 'decades,', 'I’ve', 'covered', 'a', 'broad', 'range', 'of', 'tech', 'from', 'Linux', 'to', 'virtualization', 'and', 'containers.You', 'can', 'check', 'out', 'my', 'latest', 'novel,an', 'epic', 'Chinese', 'sci-fi', 'civil', 'war', 'saga', 'where', 'China', 'throws', 'off', 'the', 'chains', 'of', 'communism', 'and', 'becomes', 'the', 'world’s', 'first', 'direct', 'democracy,', 'running', 'a', 'highly', 'advanced,', 'artificially', 'intelligent', 'decentralized', 'app', 'platform', 'with', 'no', 'leaders.You', 'can', 'get', 'a', 'FREE', 'copy', 'of', 'my', 'first', 'novel,', 'The', 'Scorpion', 'Game,', 'when', 'you', 'join', 'my', 'Readers', 'Group.', 'Readers', 'have', 'called', 'it', '“the', 'first', 'serious', 'competition', 'to', 'Neuromancer”', 'and', '“Detective', 'noir', 'meets', 'Johnny', 'Mnemonic.”You', 'can', 'also', 'check', 'out', 'the', 'Cicada', 'open', 'source', 'project', 'based', 'on', 'ideas', 'from', 'the', 'book', 'that', 'outlines', 'how', 'to', 'make', 'that', 'tech', 'a', 'reality', 'right', 'now', 'and', 'you', 'can', 'get', 'in', 'on', 'the', 'alpha.Lastly,', 'you', 'can', 'join', 'my', 'private', 'Facebook', 'group,', 'the', 'Nanopunk', 'Posthuman', 'Assassins,', 'where', 'we', 'discuss', 'all', 'things', 'tech,', 'sci-fi,', 'fantasy', 'and', 'more.', 'Name:', '0,', 'dtype:', 'object']\n",
      "3702\n"
     ]
    }
   ],
   "source": [
    "pd.set_option('display.max_colwidth', None)\n",
    "print(test.loc[0, ['Length']])\n",
    "cell_text1 = str(test.loc[0, ['Text']])\n",
    "words = cell_text1.split()\n",
    "print(words)\n",
    "len1 = len(words)\n",
    "print(str(len1))\n",
    "#'Length' variable in test data sets does not equal to the number of words in 'Text' variable"
   ]
  },
  {
   "cell_type": "markdown",
   "metadata": {
    "colab_type": "text",
    "id": "Jru75CAO6oAU"
   },
   "source": [
    "### **1.1 Selecting Columns**###\n",
    "The first part of the data processing is to clean the data set.\n",
    "In the first step, variables: 'language', 'responsesCreatedCount','text', 'totalClapCount' in training data set are selected because the other variables are either not clearly defined or do not have corresponding variables in test data set; while only variables 'Text', 'Responses' in test data will be taken into consideration. Then in the second step duplictated data points in training data will be removed, this is due to the articles have multiple tags and each tag has a separate data point."
   ]
  },
  {
   "cell_type": "code",
   "execution_count": null,
   "metadata": {
    "colab": {
     "base_uri": "https://localhost:8080/",
     "height": 204
    },
    "colab_type": "code",
    "id": "76s9P4il7Xpc",
    "outputId": "544b4c96-2a72-4357-c8e2-aa1f430d3281"
   },
   "outputs": [
    {
     "data": {
      "text/html": [
       "<div>\n",
       "<style scoped>\n",
       "    .dataframe tbody tr th:only-of-type {\n",
       "        vertical-align: middle;\n",
       "    }\n",
       "\n",
       "    .dataframe tbody tr th {\n",
       "        vertical-align: top;\n",
       "    }\n",
       "\n",
       "    .dataframe thead th {\n",
       "        text-align: right;\n",
       "    }\n",
       "</style>\n",
       "<table border=\"1\" class=\"dataframe\">\n",
       "  <thead>\n",
       "    <tr style=\"text-align: right;\">\n",
       "      <th></th>\n",
       "      <th>language</th>\n",
       "      <th>text</th>\n",
       "      <th>responsesCreatedCount</th>\n",
       "      <th>totalClapCount</th>\n",
       "    </tr>\n",
       "  </thead>\n",
       "  <tbody>\n",
       "    <tr>\n",
       "      <th>0</th>\n",
       "      <td>en</td>\n",
       "      <td>Private Business, Government and Blockchain\\n\\...</td>\n",
       "      <td>0</td>\n",
       "      <td>100</td>\n",
       "    </tr>\n",
       "    <tr>\n",
       "      <th>1</th>\n",
       "      <td>en</td>\n",
       "      <td>Private Business, Government and Blockchain\\n\\...</td>\n",
       "      <td>0</td>\n",
       "      <td>100</td>\n",
       "    </tr>\n",
       "    <tr>\n",
       "      <th>2</th>\n",
       "      <td>en</td>\n",
       "      <td>Private Business, Government and Blockchain\\n\\...</td>\n",
       "      <td>0</td>\n",
       "      <td>100</td>\n",
       "    </tr>\n",
       "    <tr>\n",
       "      <th>3</th>\n",
       "      <td>en</td>\n",
       "      <td>EPQ draft 1 (4844 words)\\nhttps://upload.wikim...</td>\n",
       "      <td>0</td>\n",
       "      <td>0</td>\n",
       "    </tr>\n",
       "    <tr>\n",
       "      <th>4</th>\n",
       "      <td>en</td>\n",
       "      <td>EPQ draft 1 (4844 words)\\nhttps://upload.wikim...</td>\n",
       "      <td>0</td>\n",
       "      <td>0</td>\n",
       "    </tr>\n",
       "  </tbody>\n",
       "</table>\n",
       "</div>"
      ],
      "text/plain": [
       "  language  ... totalClapCount\n",
       "0       en  ...            100\n",
       "1       en  ...            100\n",
       "2       en  ...            100\n",
       "3       en  ...              0\n",
       "4       en  ...              0\n",
       "\n",
       "[5 rows x 4 columns]"
      ]
     },
     "execution_count": 24,
     "metadata": {
      "tags": []
     },
     "output_type": "execute_result"
    }
   ],
   "source": [
    "train = df[['language', 'text', 'responsesCreatedCount', 'totalClapCount']]\n",
    "train.head()"
   ]
  },
  {
   "cell_type": "code",
   "execution_count": null,
   "metadata": {
    "colab": {
     "base_uri": "https://localhost:8080/",
     "height": 34
    },
    "colab_type": "code",
    "id": "QM0ya_Xb9wU0",
    "outputId": "ef337e99-bc3d-459d-8853-a5d1a6a4d3fd"
   },
   "outputs": [
    {
     "data": {
      "text/plain": [
       "(72195, 4)"
      ]
     },
     "execution_count": 25,
     "metadata": {
      "tags": []
     },
     "output_type": "execute_result"
    }
   ],
   "source": [
    "train = train.drop_duplicates()\n",
    "train.shape "
   ]
  },
  {
   "cell_type": "markdown",
   "metadata": {
    "colab_type": "text",
    "id": "yrp5Q5QYleMI"
   },
   "source": [
    "A new feature 'text_length' is created with a lambda funtion because the original variable for the length of article indicate the number of digits instead of words. For the sake of our later analysis on the words, it is better to create a new feature based on the number of words in each article."
   ]
  },
  {
   "cell_type": "code",
   "execution_count": null,
   "metadata": {
    "colab": {
     "base_uri": "https://localhost:8080/",
     "height": 221
    },
    "colab_type": "code",
    "id": "XT5pJJJDNXYC",
    "outputId": "b9128e6e-aab3-4a1a-b86b-a3df0d23aba7"
   },
   "outputs": [
    {
     "data": {
      "text/html": [
       "<div>\n",
       "<style scoped>\n",
       "    .dataframe tbody tr th:only-of-type {\n",
       "        vertical-align: middle;\n",
       "    }\n",
       "\n",
       "    .dataframe tbody tr th {\n",
       "        vertical-align: top;\n",
       "    }\n",
       "\n",
       "    .dataframe thead th {\n",
       "        text-align: right;\n",
       "    }\n",
       "</style>\n",
       "<table border=\"1\" class=\"dataframe\">\n",
       "  <thead>\n",
       "    <tr style=\"text-align: right;\">\n",
       "      <th></th>\n",
       "      <th>language</th>\n",
       "      <th>text</th>\n",
       "      <th>responsesCreatedCount</th>\n",
       "      <th>totalClapCount</th>\n",
       "      <th>text_length</th>\n",
       "    </tr>\n",
       "  </thead>\n",
       "  <tbody>\n",
       "    <tr>\n",
       "      <th>0</th>\n",
       "      <td>en</td>\n",
       "      <td>Private Business, Government and Blockchain\\n\\...</td>\n",
       "      <td>0</td>\n",
       "      <td>100</td>\n",
       "      <td>192</td>\n",
       "    </tr>\n",
       "    <tr>\n",
       "      <th>3</th>\n",
       "      <td>en</td>\n",
       "      <td>EPQ draft 1 (4844 words)\\nhttps://upload.wikim...</td>\n",
       "      <td>0</td>\n",
       "      <td>0</td>\n",
       "      <td>4751</td>\n",
       "    </tr>\n",
       "    <tr>\n",
       "      <th>7</th>\n",
       "      <td>en</td>\n",
       "      <td>Ascent of data Science, SAS and Big data Analy...</td>\n",
       "      <td>0</td>\n",
       "      <td>0</td>\n",
       "      <td>533</td>\n",
       "    </tr>\n",
       "    <tr>\n",
       "      <th>11</th>\n",
       "      <td>en</td>\n",
       "      <td>Can a robot love us better than another human ...</td>\n",
       "      <td>0</td>\n",
       "      <td>50</td>\n",
       "      <td>173</td>\n",
       "    </tr>\n",
       "    <tr>\n",
       "      <th>16</th>\n",
       "      <td>en</td>\n",
       "      <td>2017 Big Data, AI and IOT Use Cases\\nAn Active...</td>\n",
       "      <td>0</td>\n",
       "      <td>27</td>\n",
       "      <td>1762</td>\n",
       "    </tr>\n",
       "  </tbody>\n",
       "</table>\n",
       "</div>"
      ],
      "text/plain": [
       "   language  ... text_length\n",
       "0        en  ...         192\n",
       "3        en  ...        4751\n",
       "7        en  ...         533\n",
       "11       en  ...         173\n",
       "16       en  ...        1762\n",
       "\n",
       "[5 rows x 5 columns]"
      ]
     },
     "execution_count": 26,
     "metadata": {
      "tags": []
     },
     "output_type": "execute_result"
    }
   ],
   "source": [
    "train['text_length'] = train.text.apply(lambda x : len(x.split()))#create new feature from 'text'\n",
    "train.head()"
   ]
  },
  {
   "cell_type": "code",
   "execution_count": null,
   "metadata": {
    "colab": {},
    "colab_type": "code",
    "id": "7VZ1liKDRhVl"
   },
   "outputs": [],
   "source": [
    "import matplotlib.pyplot as plt\n",
    "plt.plot('text_length', data = train)\n",
    "#the most of 'text' have a length from 0 to 5000"
   ]
  },
  {
   "cell_type": "code",
   "execution_count": null,
   "metadata": {
    "colab": {
     "base_uri": "https://localhost:8080/",
     "height": 282
    },
    "colab_type": "code",
    "id": "Uel1yEs1Vvlq",
    "outputId": "2d8fa858-4e9b-4e2e-997c-809b8678823e"
   },
   "outputs": [
    {
     "data": {
      "text/plain": [
       "[<matplotlib.lines.Line2D at 0x7f37c0c2dfd0>]"
      ]
     },
     "execution_count": 28,
     "metadata": {
      "tags": []
     },
     "output_type": "execute_result"
    },
    {
     "data": {
      "image/png": "[encoded data removed]",
      "text/plain": [
       "<Figure size 432x288 with 1 Axes>"
      ]
     },
     "metadata": {
      "needs_background": "light",
      "tags": []
     },
     "output_type": "display_data"
    }
   ],
   "source": [
    "train2 = train[train.text_length < np.percentile(train.text_length,95)]\n",
    "#remove outliers of extrem long 'text_length'\n",
    "plt.plot('text_length', data = train2)"
   ]
  },
  {
   "cell_type": "code",
   "execution_count": null,
   "metadata": {
    "colab": {
     "base_uri": "https://localhost:8080/",
     "height": 204
    },
    "colab_type": "code",
    "id": "lQI3tXMbN4O3",
    "outputId": "6f244ace-b89b-45e4-a454-854a6ce6077c"
   },
   "outputs": [
    {
     "data": {
      "text/html": [
       "<div>\n",
       "<style scoped>\n",
       "    .dataframe tbody tr th:only-of-type {\n",
       "        vertical-align: middle;\n",
       "    }\n",
       "\n",
       "    .dataframe tbody tr th {\n",
       "        vertical-align: top;\n",
       "    }\n",
       "\n",
       "    .dataframe thead th {\n",
       "        text-align: right;\n",
       "    }\n",
       "</style>\n",
       "<table border=\"1\" class=\"dataframe\">\n",
       "  <thead>\n",
       "    <tr style=\"text-align: right;\">\n",
       "      <th></th>\n",
       "      <th>index</th>\n",
       "      <th>response</th>\n",
       "      <th>text</th>\n",
       "    </tr>\n",
       "  </thead>\n",
       "  <tbody>\n",
       "    <tr>\n",
       "      <th>0</th>\n",
       "      <td>0</td>\n",
       "      <td>627 responses</td>\n",
       "      <td>There’s one incredible feature of cryptocurren...</td>\n",
       "    </tr>\n",
       "    <tr>\n",
       "      <th>1</th>\n",
       "      <td>1</td>\n",
       "      <td>156 responses</td>\n",
       "      <td>&lt;img class=\"progressiveMedia-noscript js-progr...</td>\n",
       "    </tr>\n",
       "    <tr>\n",
       "      <th>2</th>\n",
       "      <td>2</td>\n",
       "      <td>176 responses</td>\n",
       "      <td>So you want to trade cryptocurrency?You’ve see...</td>\n",
       "    </tr>\n",
       "    <tr>\n",
       "      <th>3</th>\n",
       "      <td>5</td>\n",
       "      <td>72 responses</td>\n",
       "      <td>A useful currency should be a medium of exchan...</td>\n",
       "    </tr>\n",
       "    <tr>\n",
       "      <th>4</th>\n",
       "      <td>7</td>\n",
       "      <td>19 responses</td>\n",
       "      <td>Crypto crypto crypto crypto. It’s here. It’s h...</td>\n",
       "    </tr>\n",
       "  </tbody>\n",
       "</table>\n",
       "</div>"
      ],
      "text/plain": [
       "   index       response                                               text\n",
       "0      0  627 responses  There’s one incredible feature of cryptocurren...\n",
       "1      1  156 responses  <img class=\"progressiveMedia-noscript js-progr...\n",
       "2      2  176 responses  So you want to trade cryptocurrency?You’ve see...\n",
       "3      5   72 responses  A useful currency should be a medium of exchan...\n",
       "4      7   19 responses  Crypto crypto crypto crypto. It’s here. It’s h..."
      ]
     },
     "execution_count": 29,
     "metadata": {
      "tags": []
     },
     "output_type": "execute_result"
    }
   ],
   "source": [
    "test = test[['index', 'Responses', 'Text']]\n",
    "test.rename(columns={'Text':'text','Responses':'response'}, inplace=True)#change column name of test data sets in order to be consistant with train data\n",
    "test.head()"
   ]
  },
  {
   "cell_type": "code",
   "execution_count": null,
   "metadata": {
    "colab": {
     "base_uri": "https://localhost:8080/",
     "height": 282
    },
    "colab_type": "code",
    "id": "y-kk7GHpS4iE",
    "outputId": "d726eaa4-7ef5-46a4-e868-b93e14056bd2"
   },
   "outputs": [
    {
     "data": {
      "text/plain": [
       "[<matplotlib.lines.Line2D at 0x7fe254df7f98>]"
      ]
     },
     "execution_count": 10,
     "metadata": {
      "tags": []
     },
     "output_type": "execute_result"
    },
    {
     "data": {
      "image/png": "[encoded data removed]",
      "text/plain": [
       "<Figure size 432x288 with 1 Axes>"
      ]
     },
     "metadata": {
      "needs_background": "light",
      "tags": []
     },
     "output_type": "display_data"
    }
   ],
   "source": [
    "plt.plot('text_length', data = test) #the distribution of 'text_length' is from 0-3000, which is much shorter to train data"
   ]
  },
  {
   "cell_type": "code",
   "execution_count": null,
   "metadata": {
    "colab": {
     "base_uri": "https://localhost:8080/",
     "height": 204
    },
    "colab_type": "code",
    "id": "ysLJEQuaPJzF",
    "outputId": "5f205126-a481-4c9c-adac-46e41ad5b146"
   },
   "outputs": [
    {
     "data": {
      "text/html": [
       "<div>\n",
       "<style scoped>\n",
       "    .dataframe tbody tr th:only-of-type {\n",
       "        vertical-align: middle;\n",
       "    }\n",
       "\n",
       "    .dataframe tbody tr th {\n",
       "        vertical-align: top;\n",
       "    }\n",
       "\n",
       "    .dataframe thead th {\n",
       "        text-align: right;\n",
       "    }\n",
       "</style>\n",
       "<table border=\"1\" class=\"dataframe\">\n",
       "  <thead>\n",
       "    <tr style=\"text-align: right;\">\n",
       "      <th></th>\n",
       "      <th>index</th>\n",
       "      <th>response</th>\n",
       "      <th>text</th>\n",
       "      <th>text_length</th>\n",
       "    </tr>\n",
       "  </thead>\n",
       "  <tbody>\n",
       "    <tr>\n",
       "      <th>0</th>\n",
       "      <td>0</td>\n",
       "      <td>627 responses</td>\n",
       "      <td>There’s one incredible feature of cryptocurren...</td>\n",
       "      <td>3697</td>\n",
       "    </tr>\n",
       "    <tr>\n",
       "      <th>1</th>\n",
       "      <td>1</td>\n",
       "      <td>156 responses</td>\n",
       "      <td>&lt;img class=\"progressiveMedia-noscript js-progr...</td>\n",
       "      <td>3622</td>\n",
       "    </tr>\n",
       "    <tr>\n",
       "      <th>2</th>\n",
       "      <td>2</td>\n",
       "      <td>176 responses</td>\n",
       "      <td>So you want to trade cryptocurrency?You’ve see...</td>\n",
       "      <td>71</td>\n",
       "    </tr>\n",
       "    <tr>\n",
       "      <th>3</th>\n",
       "      <td>5</td>\n",
       "      <td>72 responses</td>\n",
       "      <td>A useful currency should be a medium of exchan...</td>\n",
       "      <td>2986</td>\n",
       "    </tr>\n",
       "    <tr>\n",
       "      <th>4</th>\n",
       "      <td>7</td>\n",
       "      <td>19 responses</td>\n",
       "      <td>Crypto crypto crypto crypto. It’s here. It’s h...</td>\n",
       "      <td>810</td>\n",
       "    </tr>\n",
       "  </tbody>\n",
       "</table>\n",
       "</div>"
      ],
      "text/plain": [
       "   index  ... text_length\n",
       "0      0  ...        3697\n",
       "1      1  ...        3622\n",
       "2      2  ...          71\n",
       "3      5  ...        2986\n",
       "4      7  ...         810\n",
       "\n",
       "[5 rows x 4 columns]"
      ]
     },
     "execution_count": 30,
     "metadata": {
      "tags": []
     },
     "output_type": "execute_result"
    }
   ],
   "source": [
    "test['text_length'] = test.text.apply(lambda x : len(x.split()))\n",
    "#create new feature from 'text'\n",
    "test.head()"
   ]
  },
  {
   "cell_type": "code",
   "execution_count": null,
   "metadata": {
    "colab": {},
    "colab_type": "code",
    "id": "nPh7xxylcqCe"
   },
   "outputs": [],
   "source": [
    "#due to that 'response' variable in test data is not numeric, we need to extract the number out of it\n",
    "test['response'] = test.response.str.extract('(\\d+)')"
   ]
  },
  {
   "cell_type": "code",
   "execution_count": null,
   "metadata": {
    "colab": {
     "base_uri": "https://localhost:8080/",
     "height": 204
    },
    "colab_type": "code",
    "id": "LOy4c50Iliaw",
    "outputId": "23deca97-2fcc-4df1-fe00-bb7dbd778b62"
   },
   "outputs": [
    {
     "data": {
      "text/html": [
       "<div>\n",
       "<style scoped>\n",
       "    .dataframe tbody tr th:only-of-type {\n",
       "        vertical-align: middle;\n",
       "    }\n",
       "\n",
       "    .dataframe tbody tr th {\n",
       "        vertical-align: top;\n",
       "    }\n",
       "\n",
       "    .dataframe thead th {\n",
       "        text-align: right;\n",
       "    }\n",
       "</style>\n",
       "<table border=\"1\" class=\"dataframe\">\n",
       "  <thead>\n",
       "    <tr style=\"text-align: right;\">\n",
       "      <th></th>\n",
       "      <th>index</th>\n",
       "      <th>response</th>\n",
       "      <th>text</th>\n",
       "      <th>text_length</th>\n",
       "    </tr>\n",
       "  </thead>\n",
       "  <tbody>\n",
       "    <tr>\n",
       "      <th>0</th>\n",
       "      <td>0</td>\n",
       "      <td>627</td>\n",
       "      <td>There’s one incredible feature of cryptocurren...</td>\n",
       "      <td>3697</td>\n",
       "    </tr>\n",
       "    <tr>\n",
       "      <th>1</th>\n",
       "      <td>1</td>\n",
       "      <td>156</td>\n",
       "      <td>&lt;img class=\"progressiveMedia-noscript js-progr...</td>\n",
       "      <td>3622</td>\n",
       "    </tr>\n",
       "    <tr>\n",
       "      <th>2</th>\n",
       "      <td>2</td>\n",
       "      <td>176</td>\n",
       "      <td>So you want to trade cryptocurrency?You’ve see...</td>\n",
       "      <td>71</td>\n",
       "    </tr>\n",
       "    <tr>\n",
       "      <th>3</th>\n",
       "      <td>5</td>\n",
       "      <td>72</td>\n",
       "      <td>A useful currency should be a medium of exchan...</td>\n",
       "      <td>2986</td>\n",
       "    </tr>\n",
       "    <tr>\n",
       "      <th>4</th>\n",
       "      <td>7</td>\n",
       "      <td>19</td>\n",
       "      <td>Crypto crypto crypto crypto. It’s here. It’s h...</td>\n",
       "      <td>810</td>\n",
       "    </tr>\n",
       "  </tbody>\n",
       "</table>\n",
       "</div>"
      ],
      "text/plain": [
       "   index  ... text_length\n",
       "0      0  ...        3697\n",
       "1      1  ...        3622\n",
       "2      2  ...          71\n",
       "3      5  ...        2986\n",
       "4      7  ...         810\n",
       "\n",
       "[5 rows x 4 columns]"
      ]
     },
     "execution_count": 75,
     "metadata": {
      "tags": []
     },
     "output_type": "execute_result"
    }
   ],
   "source": [
    "test.head()"
   ]
  },
  {
   "cell_type": "code",
   "execution_count": null,
   "metadata": {
    "colab": {},
    "colab_type": "code",
    "id": "qdFj0dXmoXYB"
   },
   "outputs": [],
   "source": [
    "test.to_csv('/content/drive/My Drive/ADAMS_NLPtask_SS20-2/test.csv')"
   ]
  },
  {
   "cell_type": "code",
   "execution_count": null,
   "metadata": {
    "colab": {},
    "colab_type": "code",
    "id": "VqoWRzIABDCE"
   },
   "outputs": [],
   "source": [
    "#see how many different language that train2 data sets has\n",
    "train2.language.value_counts()"
   ]
  },
  {
   "cell_type": "markdown",
   "metadata": {
    "colab_type": "text",
    "id": "bK7C-RgQmWAq"
   },
   "source": [
    "The language of articles in test data sets are not given so that a predefined library langdetect is used to detect the language used in test data sets, so that we can decide how to deal with potential multi-language problem."
   ]
  },
  {
   "cell_type": "code",
   "execution_count": null,
   "metadata": {
    "colab": {},
    "colab_type": "code",
    "id": "mjw-MvXXDxd0"
   },
   "outputs": [],
   "source": [
    "! pip install langdetect"
   ]
  },
  {
   "cell_type": "code",
   "execution_count": null,
   "metadata": {
    "colab": {},
    "colab_type": "code",
    "id": "SDK9vaj7C06I"
   },
   "outputs": [],
   "source": [
    "from langdetect import detect\n",
    "lang = [detect(x) for x in test.text]\n",
    "print(lang)\n",
    "#as we can see that all test data are in english, so that we drop the cases in train data that are not english"
   ]
  },
  {
   "cell_type": "code",
   "execution_count": null,
   "metadata": {
    "colab": {
     "base_uri": "https://localhost:8080/",
     "height": 221
    },
    "colab_type": "code",
    "id": "Ra59XQwNE6WG",
    "outputId": "eb421804-f99f-4fe8-c3fa-ffe8aad7fa23"
   },
   "outputs": [
    {
     "data": {
      "text/html": [
       "<div>\n",
       "<style scoped>\n",
       "    .dataframe tbody tr th:only-of-type {\n",
       "        vertical-align: middle;\n",
       "    }\n",
       "\n",
       "    .dataframe tbody tr th {\n",
       "        vertical-align: top;\n",
       "    }\n",
       "\n",
       "    .dataframe thead th {\n",
       "        text-align: right;\n",
       "    }\n",
       "</style>\n",
       "<table border=\"1\" class=\"dataframe\">\n",
       "  <thead>\n",
       "    <tr style=\"text-align: right;\">\n",
       "      <th></th>\n",
       "      <th>language</th>\n",
       "      <th>text</th>\n",
       "      <th>responsesCreatedCount</th>\n",
       "      <th>totalClapCount</th>\n",
       "      <th>text_length</th>\n",
       "    </tr>\n",
       "  </thead>\n",
       "  <tbody>\n",
       "    <tr>\n",
       "      <th>0</th>\n",
       "      <td>en</td>\n",
       "      <td>Private Business, Government and Blockchain\\n\\...</td>\n",
       "      <td>0</td>\n",
       "      <td>100</td>\n",
       "      <td>192</td>\n",
       "    </tr>\n",
       "    <tr>\n",
       "      <th>7</th>\n",
       "      <td>en</td>\n",
       "      <td>Ascent of data Science, SAS and Big data Analy...</td>\n",
       "      <td>0</td>\n",
       "      <td>0</td>\n",
       "      <td>533</td>\n",
       "    </tr>\n",
       "    <tr>\n",
       "      <th>11</th>\n",
       "      <td>en</td>\n",
       "      <td>Can a robot love us better than another human ...</td>\n",
       "      <td>0</td>\n",
       "      <td>50</td>\n",
       "      <td>173</td>\n",
       "    </tr>\n",
       "    <tr>\n",
       "      <th>16</th>\n",
       "      <td>en</td>\n",
       "      <td>2017 Big Data, AI and IOT Use Cases\\nAn Active...</td>\n",
       "      <td>0</td>\n",
       "      <td>27</td>\n",
       "      <td>1762</td>\n",
       "    </tr>\n",
       "    <tr>\n",
       "      <th>25</th>\n",
       "      <td>en</td>\n",
       "      <td>Artificial Intelligence is the Next Frontier\\n...</td>\n",
       "      <td>0</td>\n",
       "      <td>1</td>\n",
       "      <td>379</td>\n",
       "    </tr>\n",
       "  </tbody>\n",
       "</table>\n",
       "</div>"
      ],
      "text/plain": [
       "   language  ... text_length\n",
       "0        en  ...         192\n",
       "7        en  ...         533\n",
       "11       en  ...         173\n",
       "16       en  ...        1762\n",
       "25       en  ...         379\n",
       "\n",
       "[5 rows x 5 columns]"
      ]
     },
     "execution_count": 77,
     "metadata": {
      "tags": []
     },
     "output_type": "execute_result"
    }
   ],
   "source": [
    "train3 = train2.loc[train2['language'] == 'en']\n",
    "train3.head()"
   ]
  },
  {
   "cell_type": "code",
   "execution_count": null,
   "metadata": {
    "colab": {
     "base_uri": "https://localhost:8080/",
     "height": 122
    },
    "colab_type": "code",
    "id": "FIGCDrqSn3QT",
    "outputId": "c665e8f4-87d9-4458-c178-16a163554120"
   },
   "outputs": [
    {
     "name": "stderr",
     "output_type": "stream",
     "text": [
      "/usr/local/lib/python3.6/dist-packages/pandas/core/frame.py:4133: SettingWithCopyWarning: \n",
      "A value is trying to be set on a copy of a slice from a DataFrame\n",
      "\n",
      "See the caveats in the documentation: https://pandas.pydata.org/pandas-docs/stable/user_guide/indexing.html#returning-a-view-versus-a-copy\n",
      "  errors=errors,\n"
     ]
    }
   ],
   "source": [
    "train3.rename(columns={'responsesCreatedCount':'response'}, inplace=True)"
   ]
  },
  {
   "cell_type": "code",
   "execution_count": null,
   "metadata": {
    "colab": {
     "base_uri": "https://localhost:8080/",
     "height": 204
    },
    "colab_type": "code",
    "id": "64IwRIW-oH6j",
    "outputId": "1a98b043-569d-4365-e49b-46005e367369"
   },
   "outputs": [
    {
     "data": {
      "text/html": [
       "<div>\n",
       "<style scoped>\n",
       "    .dataframe tbody tr th:only-of-type {\n",
       "        vertical-align: middle;\n",
       "    }\n",
       "\n",
       "    .dataframe tbody tr th {\n",
       "        vertical-align: top;\n",
       "    }\n",
       "\n",
       "    .dataframe thead th {\n",
       "        text-align: right;\n",
       "    }\n",
       "</style>\n",
       "<table border=\"1\" class=\"dataframe\">\n",
       "  <thead>\n",
       "    <tr style=\"text-align: right;\">\n",
       "      <th></th>\n",
       "      <th>language</th>\n",
       "      <th>text</th>\n",
       "      <th>response</th>\n",
       "      <th>totalClapCount</th>\n",
       "      <th>text_length</th>\n",
       "    </tr>\n",
       "  </thead>\n",
       "  <tbody>\n",
       "    <tr>\n",
       "      <th>0</th>\n",
       "      <td>en</td>\n",
       "      <td>Private Business, Government and Blockchain\\n\\...</td>\n",
       "      <td>0</td>\n",
       "      <td>100</td>\n",
       "      <td>192</td>\n",
       "    </tr>\n",
       "    <tr>\n",
       "      <th>7</th>\n",
       "      <td>en</td>\n",
       "      <td>Ascent of data Science, SAS and Big data Analy...</td>\n",
       "      <td>0</td>\n",
       "      <td>0</td>\n",
       "      <td>533</td>\n",
       "    </tr>\n",
       "    <tr>\n",
       "      <th>11</th>\n",
       "      <td>en</td>\n",
       "      <td>Can a robot love us better than another human ...</td>\n",
       "      <td>0</td>\n",
       "      <td>50</td>\n",
       "      <td>173</td>\n",
       "    </tr>\n",
       "    <tr>\n",
       "      <th>16</th>\n",
       "      <td>en</td>\n",
       "      <td>2017 Big Data, AI and IOT Use Cases\\nAn Active...</td>\n",
       "      <td>0</td>\n",
       "      <td>27</td>\n",
       "      <td>1762</td>\n",
       "    </tr>\n",
       "    <tr>\n",
       "      <th>25</th>\n",
       "      <td>en</td>\n",
       "      <td>Artificial Intelligence is the Next Frontier\\n...</td>\n",
       "      <td>0</td>\n",
       "      <td>1</td>\n",
       "      <td>379</td>\n",
       "    </tr>\n",
       "  </tbody>\n",
       "</table>\n",
       "</div>"
      ],
      "text/plain": [
       "   language  ... text_length\n",
       "0        en  ...         192\n",
       "7        en  ...         533\n",
       "11       en  ...         173\n",
       "16       en  ...        1762\n",
       "25       en  ...         379\n",
       "\n",
       "[5 rows x 5 columns]"
      ]
     },
     "execution_count": 79,
     "metadata": {
      "tags": []
     },
     "output_type": "execute_result"
    }
   ],
   "source": [
    "train3.head()"
   ]
  },
  {
   "cell_type": "code",
   "execution_count": null,
   "metadata": {
    "colab": {
     "base_uri": "https://localhost:8080/",
     "height": 34
    },
    "colab_type": "code",
    "id": "O1zYJVkWolbP",
    "outputId": "40b457dc-838f-47c0-83dc-29fc28630841"
   },
   "outputs": [
    {
     "data": {
      "text/plain": [
       "(62823, 4)"
      ]
     },
     "execution_count": 82,
     "metadata": {
      "tags": []
     },
     "output_type": "execute_result"
    }
   ],
   "source": [
    "train4 = train3[['response', 'text', 'text_length', 'totalClapCount']]\n",
    "train4.shape"
   ]
  },
  {
   "cell_type": "code",
   "execution_count": null,
   "metadata": {
    "colab": {},
    "colab_type": "code",
    "id": "rubmaRCwbmz0"
   },
   "outputs": [],
   "source": [
    "train4.to_csv('/content/drive/My Drive/ADAMS_NLPtask_SS20-2/train4.csv')"
   ]
  },
  {
   "cell_type": "markdown",
   "metadata": {
    "colab_type": "text",
    "id": "yqgM0widvgwO"
   },
   "source": [
    "### **1.2 Exploratory Data Analysis**\n",
    "The following section will shows our data visually and analyze possible correlations between some variables(features of the posts) to identify possible relationships between variables and performance of the post(number of claps)."
   ]
  },
  {
   "cell_type": "code",
   "execution_count": null,
   "metadata": {
    "colab": {},
    "colab_type": "code",
    "id": "E89Mpf8xp2eU"
   },
   "outputs": [],
   "source": [
    "train4 = pd.read_csv('/content/drive/My Drive/ADAMS_NLPtask_SS20-2/train4.csv')\n",
    "test = pd.read_csv('/content/drive/My Drive/ADAMS_NLPtask_SS20-2/test.csv')"
   ]
  },
  {
   "cell_type": "code",
   "execution_count": null,
   "metadata": {
    "colab": {
     "base_uri": "https://localhost:8080/",
     "height": 297
    },
    "colab_type": "code",
    "id": "Z63DcyGNyBJ0",
    "outputId": "564b42cb-a62a-40f4-d88e-6e0cddf7b43e"
   },
   "outputs": [
    {
     "data": {
      "text/html": [
       "<div>\n",
       "<style scoped>\n",
       "    .dataframe tbody tr th:only-of-type {\n",
       "        vertical-align: middle;\n",
       "    }\n",
       "\n",
       "    .dataframe tbody tr th {\n",
       "        vertical-align: top;\n",
       "    }\n",
       "\n",
       "    .dataframe thead th {\n",
       "        text-align: right;\n",
       "    }\n",
       "</style>\n",
       "<table border=\"1\" class=\"dataframe\">\n",
       "  <thead>\n",
       "    <tr style=\"text-align: right;\">\n",
       "      <th></th>\n",
       "      <th>response</th>\n",
       "      <th>text_length</th>\n",
       "    </tr>\n",
       "  </thead>\n",
       "  <tbody>\n",
       "    <tr>\n",
       "      <th>count</th>\n",
       "      <td>432.000000</td>\n",
       "      <td>514.000000</td>\n",
       "    </tr>\n",
       "    <tr>\n",
       "      <th>mean</th>\n",
       "      <td>23.560185</td>\n",
       "      <td>1037.513619</td>\n",
       "    </tr>\n",
       "    <tr>\n",
       "      <th>std</th>\n",
       "      <td>66.497919</td>\n",
       "      <td>1021.613140</td>\n",
       "    </tr>\n",
       "    <tr>\n",
       "      <th>min</th>\n",
       "      <td>1.000000</td>\n",
       "      <td>3.000000</td>\n",
       "    </tr>\n",
       "    <tr>\n",
       "      <th>25%</th>\n",
       "      <td>2.000000</td>\n",
       "      <td>142.750000</td>\n",
       "    </tr>\n",
       "    <tr>\n",
       "      <th>50%</th>\n",
       "      <td>5.000000</td>\n",
       "      <td>771.500000</td>\n",
       "    </tr>\n",
       "    <tr>\n",
       "      <th>75%</th>\n",
       "      <td>14.250000</td>\n",
       "      <td>1666.250000</td>\n",
       "    </tr>\n",
       "    <tr>\n",
       "      <th>max</th>\n",
       "      <td>827.000000</td>\n",
       "      <td>5610.000000</td>\n",
       "    </tr>\n",
       "  </tbody>\n",
       "</table>\n",
       "</div>"
      ],
      "text/plain": [
       "         response  text_length\n",
       "count  432.000000   514.000000\n",
       "mean    23.560185  1037.513619\n",
       "std     66.497919  1021.613140\n",
       "min      1.000000     3.000000\n",
       "25%      2.000000   142.750000\n",
       "50%      5.000000   771.500000\n",
       "75%     14.250000  1666.250000\n",
       "max    827.000000  5610.000000"
      ]
     },
     "execution_count": 3,
     "metadata": {
      "tags": []
     },
     "output_type": "execute_result"
    }
   ],
   "source": [
    "test[['response', 'text_length']].describe()"
   ]
  },
  {
   "cell_type": "code",
   "execution_count": null,
   "metadata": {
    "colab": {
     "base_uri": "https://localhost:8080/",
     "height": 297
    },
    "colab_type": "code",
    "id": "rLcLTsFIvgH7",
    "outputId": "734402a0-d5a7-43a4-c0c3-630c112d0545"
   },
   "outputs": [
    {
     "data": {
      "text/html": [
       "<div>\n",
       "<style scoped>\n",
       "    .dataframe tbody tr th:only-of-type {\n",
       "        vertical-align: middle;\n",
       "    }\n",
       "\n",
       "    .dataframe tbody tr th {\n",
       "        vertical-align: top;\n",
       "    }\n",
       "\n",
       "    .dataframe thead th {\n",
       "        text-align: right;\n",
       "    }\n",
       "</style>\n",
       "<table border=\"1\" class=\"dataframe\">\n",
       "  <thead>\n",
       "    <tr style=\"text-align: right;\">\n",
       "      <th></th>\n",
       "      <th>text_length</th>\n",
       "      <th>response</th>\n",
       "      <th>totalClapCount</th>\n",
       "    </tr>\n",
       "  </thead>\n",
       "  <tbody>\n",
       "    <tr>\n",
       "      <th>count</th>\n",
       "      <td>62823.000000</td>\n",
       "      <td>62823.000000</td>\n",
       "      <td>62823.000000</td>\n",
       "    </tr>\n",
       "    <tr>\n",
       "      <th>mean</th>\n",
       "      <td>770.621222</td>\n",
       "      <td>0.690687</td>\n",
       "      <td>138.446922</td>\n",
       "    </tr>\n",
       "    <tr>\n",
       "      <th>std</th>\n",
       "      <td>491.311338</td>\n",
       "      <td>7.258722</td>\n",
       "      <td>1542.318263</td>\n",
       "    </tr>\n",
       "    <tr>\n",
       "      <th>min</th>\n",
       "      <td>0.000000</td>\n",
       "      <td>0.000000</td>\n",
       "      <td>0.000000</td>\n",
       "    </tr>\n",
       "    <tr>\n",
       "      <th>25%</th>\n",
       "      <td>401.000000</td>\n",
       "      <td>0.000000</td>\n",
       "      <td>0.000000</td>\n",
       "    </tr>\n",
       "    <tr>\n",
       "      <th>50%</th>\n",
       "      <td>679.000000</td>\n",
       "      <td>0.000000</td>\n",
       "      <td>5.000000</td>\n",
       "    </tr>\n",
       "    <tr>\n",
       "      <th>75%</th>\n",
       "      <td>1052.000000</td>\n",
       "      <td>0.000000</td>\n",
       "      <td>60.000000</td>\n",
       "    </tr>\n",
       "    <tr>\n",
       "      <th>max</th>\n",
       "      <td>2275.000000</td>\n",
       "      <td>1153.000000</td>\n",
       "      <td>291706.000000</td>\n",
       "    </tr>\n",
       "  </tbody>\n",
       "</table>\n",
       "</div>"
      ],
      "text/plain": [
       "        text_length      response  totalClapCount\n",
       "count  62823.000000  62823.000000    62823.000000\n",
       "mean     770.621222      0.690687      138.446922\n",
       "std      491.311338      7.258722     1542.318263\n",
       "min        0.000000      0.000000        0.000000\n",
       "25%      401.000000      0.000000        0.000000\n",
       "50%      679.000000      0.000000        5.000000\n",
       "75%     1052.000000      0.000000       60.000000\n",
       "max     2275.000000   1153.000000   291706.000000"
      ]
     },
     "execution_count": 7,
     "metadata": {
      "tags": []
     },
     "output_type": "execute_result"
    }
   ],
   "source": [
    "train4[['text_length', 'response', 'totalClapCount']].describe()"
   ]
  },
  {
   "cell_type": "markdown",
   "metadata": {
    "colab_type": "text",
    "id": "LCRvJp6Hygin"
   },
   "source": [
    "  From the statistics above we can see that the distribution of reponse in training data is very extreme and is far away from the range in test data. So in the following model building, this feature will be excluded. The same as for the feature'text_length', the range of train data and test data are very different. But in the previous section we have already exclude extreme values of 5%.\n",
    "  Another notice on the data is that there must be some extreme value in the column of 'totalClapCount', since the maximum number of over 290000 claps is way beyond the distribution of other instances. Although social media can go wild in recent days. It is easier for modeling to exclude this extrem value in the perspektive of statistics."
   ]
  },
  {
   "cell_type": "code",
   "execution_count": null,
   "metadata": {
    "colab": {},
    "colab_type": "code",
    "id": "M62QdadRhLJw"
   },
   "outputs": [],
   "source": [
    "train4 = pd.read_csv('/content/drive/My Drive/ADAMS_NLPtask_SS20-2/train4.csv')"
   ]
  },
  {
   "cell_type": "code",
   "execution_count": null,
   "metadata": {
    "colab": {
     "base_uri": "https://localhost:8080/",
     "height": 282
    },
    "colab_type": "code",
    "id": "OmVW1qjkfkCZ",
    "outputId": "5ac098fd-ec81-469a-8999-701c2b51fac1"
   },
   "outputs": [
    {
     "data": {
      "text/plain": [
       "[<matplotlib.lines.Line2D at 0x7fe32d350f60>]"
      ]
     },
     "execution_count": 23,
     "metadata": {
      "tags": []
     },
     "output_type": "execute_result"
    },
    {
     "data": {
      "image/png": "[encoded data removed]",
      "text/plain": [
       "<Figure size 432x288 with 1 Axes>"
      ]
     },
     "metadata": {
      "needs_background": "light",
      "tags": []
     },
     "output_type": "display_data"
    }
   ],
   "source": [
    "plt.plot('totalClapCount', data = train4)"
   ]
  },
  {
   "cell_type": "code",
   "execution_count": null,
   "metadata": {
    "colab": {},
    "colab_type": "code",
    "id": "-x0gFgLrgdrc"
   },
   "outputs": [],
   "source": [
    "train4 = train4[train4.totalClapCount < 150000]"
   ]
  },
  {
   "cell_type": "code",
   "execution_count": null,
   "metadata": {
    "colab": {
     "base_uri": "https://localhost:8080/",
     "height": 282
    },
    "colab_type": "code",
    "id": "oQ84Eb3-g9C-",
    "outputId": "9d12412a-1bae-4cd5-d63d-108288e87840"
   },
   "outputs": [
    {
     "data": {
      "text/plain": [
       "[<matplotlib.lines.Line2D at 0x7fe32d2b9e80>]"
      ]
     },
     "execution_count": 25,
     "metadata": {
      "tags": []
     },
     "output_type": "execute_result"
    },
    {
     "data": {
      "image/png": "[encoded data removed]",
      "text/plain": [
       "<Figure size 432x288 with 1 Axes>"
      ]
     },
     "metadata": {
      "needs_background": "light",
      "tags": []
     },
     "output_type": "display_data"
    }
   ],
   "source": [
    "plt.plot('totalClapCount', data = train4)"
   ]
  },
  {
   "cell_type": "code",
   "execution_count": null,
   "metadata": {
    "colab": {},
    "colab_type": "code",
    "id": "i94EbGPqwZk3"
   },
   "outputs": [],
   "source": [
    "#remove outlier data points, so that the graph will not be too small to see\n",
    "def remove_outliers(df, column):\n",
    "    Q1 = df[column].quantile(0.25)\n",
    "    Q3 = df[column].quantile(0.75)\n",
    "    IQR = Q3 - Q1\n",
    "    non_outliers = (df[column] >= Q1 - 1.5 * IQR) & (df[column] <= Q3 + 1.5 * IQR)\n",
    "    return df.loc[non_outliers]"
   ]
  },
  {
   "cell_type": "code",
   "execution_count": null,
   "metadata": {
    "colab": {},
    "colab_type": "code",
    "id": "TwyNNsP7Y8kH"
   },
   "outputs": [],
   "source": [
    "clap2text = {'column_name': 'totalClapCount', 'column_text':'number of Claps'}"
   ]
  },
  {
   "cell_type": "code",
   "execution_count": null,
   "metadata": {
    "colab": {},
    "colab_type": "code",
    "id": "jYZ7ge7zpOrG"
   },
   "outputs": [],
   "source": [
    "def plot_claps(feature, is_grouped):\n",
    "    plt.figure(figsize=(15, 6))      \n",
    "    class_name = clap2text['column_name']\n",
    "    column = train4[class_name]\n",
    "    # remove outliers\n",
    "    train4_in = remove_outliers(train4, class_name)\n",
    "    train4_in = train4_in.sort_values(by=[class_name], ascending=False).head(int(len(train4_in)))\n",
    "    temp = train4_in.groupby(pd.cut(train4_in[feature], bins=np.arange(0, 2600, step=200))).mean()[class_name]\n",
    "    temp.plot.bar()\n",
    "    plt.title('{} in different {}'.format(clap2text['column_text'], feature))"
   ]
  },
  {
   "cell_type": "code",
   "execution_count": null,
   "metadata": {
    "colab": {
     "base_uri": "https://localhost:8080/",
     "height": 459
    },
    "colab_type": "code",
    "id": "2OQYoVt6e_w1",
    "outputId": "15421757-48c3-417a-bc1d-7daf98653ebe"
   },
   "outputs": [
    {
     "data": {
      "image/png": "[encoded data removed]",
      "text/plain": [
       "<Figure size 1080x432 with 1 Axes>"
      ]
     },
     "metadata": {
      "needs_background": "light",
      "tags": []
     },
     "output_type": "display_data"
    }
   ],
   "source": [
    "plot_claps('text_length', True)"
   ]
  },
  {
   "cell_type": "markdown",
   "metadata": {
    "colab_type": "text",
    "id": "hog_GbYYgW__"
   },
   "source": [
    "From this grapth above, a clear increasing trend of number of claps due by increasing the length of text is shown. While for text longer that 2000, the monoton increasing trend has stopped. Maybe because that there are not so many data points allocating in that area. But the last bar of text length above 2200 words has absolute highes average number of claps. This shows that the longest text has the most claps. So that in the later prediction model, the feature of text_length will be included."
   ]
  },
  {
   "cell_type": "code",
   "execution_count": null,
   "metadata": {
    "colab": {},
    "colab_type": "code",
    "id": "kzGU_3l6pzBR"
   },
   "outputs": [],
   "source": [
    "word_counter = collections.Counter()\n",
    "tokenizer = WordPunctTokenizer()\n",
    "#set bag of stopwords in english\n",
    "stops = set(stopwords.words(\"english\")) "
   ]
  },
  {
   "cell_type": "code",
   "execution_count": null,
   "metadata": {
    "colab": {},
    "colab_type": "code",
    "id": "l_4vThdyAZ8n"
   },
   "outputs": [],
   "source": [
    "#define a combined function that can tokenize sentences into words and then filter out stopwords\n",
    "def filter_stopwords(data):#data is a string\n",
    "    tokens = tokenizer.tokenize(data)\n",
    "    words = [w for w in tokens if w.isalpha()]#taken only words and numeric (not punctuation)\n",
    "    meaningful_words = [w.lower() for w in words if not w.lower() in stops]#convert to lower class\n",
    "    return (meaningful_words)# return a list of meaningful words"
   ]
  },
  {
   "cell_type": "code",
   "execution_count": null,
   "metadata": {
    "colab": {
     "base_uri": "https://localhost:8080/",
     "height": 357
    },
    "colab_type": "code",
    "id": "ZsJCoevfqbWg",
    "outputId": "2cc0ab94-9f54-45f5-b7f1-775d22ecc048"
   },
   "outputs": [
    {
     "data": {
      "text/plain": [
       "[('data', 2371),\n",
       " ('netflix', 1733),\n",
       " ('food', 1519),\n",
       " ('one', 1426),\n",
       " ('time', 1278),\n",
       " ('like', 1146),\n",
       " ('also', 1110),\n",
       " ('use', 1089),\n",
       " ('new', 1054),\n",
       " ('video', 983),\n",
       " ('us', 916),\n",
       " ('would', 833),\n",
       " ('system', 801),\n",
       " ('service', 759),\n",
       " ('people', 747),\n",
       " ('need', 722),\n",
       " ('using', 706),\n",
       " ('get', 701),\n",
       " ('different', 698),\n",
       " ('first', 691)]"
      ]
     },
     "execution_count": 45,
     "metadata": {
      "tags": []
     },
     "output_type": "execute_result"
    }
   ],
   "source": [
    "for x in test['text']:\n",
    "    words = filter_stopwords(x)\n",
    "    for word in words:\n",
    "      word_counter.update({word:1})\n",
    "\n",
    "word_counter.most_common(20)"
   ]
  },
  {
   "cell_type": "code",
   "execution_count": null,
   "metadata": {
    "colab": {
     "base_uri": "https://localhost:8080/",
     "height": 357
    },
    "colab_type": "code",
    "id": "HfEf39hQ2qXl",
    "outputId": "79c08296-70b0-49dc-f447-ff634786ab12"
   },
   "outputs": [
    {
     "data": {
      "text/plain": [
       "[('data', 360287),\n",
       " ('ai', 216844),\n",
       " ('learning', 176248),\n",
       " ('one', 123479),\n",
       " ('machine', 116437),\n",
       " ('time', 109303),\n",
       " ('like', 106503),\n",
       " ('use', 97945),\n",
       " ('new', 97427),\n",
       " ('also', 91181),\n",
       " ('model', 89180),\n",
       " ('using', 81556),\n",
       " ('intelligence', 80013),\n",
       " ('would', 73015),\n",
       " ('people', 71559),\n",
       " ('us', 71005),\n",
       " ('need', 68817),\n",
       " ('human', 68468),\n",
       " ('make', 68402),\n",
       " ('technology', 68347)]"
      ]
     },
     "execution_count": 46,
     "metadata": {
      "tags": []
     },
     "output_type": "execute_result"
    }
   ],
   "source": [
    "for x in train4['text']:\n",
    "    words = filter_stopwords(x)\n",
    "    for word in words:\n",
    "      word_counter.update({word:1})\n",
    "\n",
    "word_counter.most_common(20)"
   ]
  },
  {
   "cell_type": "markdown",
   "metadata": {
    "colab_type": "text",
    "id": "j94mxk_T3aQQ"
   },
   "source": [
    "As shown above, 'data' appear mostly both in the training data set and in the test data set. Which is a good sign that it will play a good role in the model training and hence very applicable to apply the model to test data. But it can also be observed that in the training data sets, vocabulary of movie, entertainment, video, food appear most frequently. While in the test data sets, the most commen shown words are located in the technology area, such as AI, machine, learning, intelligence. This might be a warning sign that the topics in test data sets probably vary from the data sets used for model training."
   ]
  },
  {
   "cell_type": "markdown",
   "metadata": {
    "colab_type": "text",
    "id": "gnT0Iago89bQ"
   },
   "source": [
    "### **1.3 Data Preprocessing for Modeling**"
   ]
  },
  {
   "cell_type": "markdown",
   "metadata": {
    "colab_type": "text",
    "id": "rYGFYstdtZ1r"
   },
   "source": [
    "In the following part of data preprocessing, text data are firstly tagged, then lemmatized. The URL part of article are removed since it is not meaningful to learn the content of URL link. And meaningless stop words in english are also removed. After this procedure, data are detokenzied back to a data frame for storation reason. Because the structure of tokenized text data cannot be saved and due to the capacity of computer, data after each procedure will be stored to disk. So that these procedures do not need to be done again for each time.Although detokenization is inefficient[4].\n"
   ]
  },
  {
   "cell_type": "code",
   "execution_count": null,
   "metadata": {
    "colab": {},
    "colab_type": "code",
    "id": "JZQROTF8C5_P"
   },
   "outputs": [],
   "source": [
    "# Lemmatize with POS Tag\n",
    "def get_wordnet_pos(word):\n",
    "    tag = nltk.pos_tag([word])[0][1][0].upper()\n",
    "    tag_dict = {\"J\": wordnet.ADJ,\n",
    "                \"N\": wordnet.NOUN,\n",
    "                \"V\": wordnet.VERB,\n",
    "                \"R\": wordnet.ADV}\n",
    "\n",
    "    return tag_dict.get(tag, wordnet.NOUN)"
   ]
  },
  {
   "cell_type": "code",
   "execution_count": null,
   "metadata": {
    "colab": {},
    "colab_type": "code",
    "id": "ySFX8YOJ_3vQ"
   },
   "outputs": [],
   "source": [
    "#define a data cleaning function\n",
    "def clean_text(df):\n",
    "  lemmatizer = WordNetLemmatizer()\n",
    "  print('cleaning {} texts'.format(df.shape[0]))\n",
    "  base = []\n",
    "  counter = 0\n",
    "  for x in df:\n",
    "    x_text = BeautifulSoup(x).get_text()\n",
    "    words = filter_stopwords(x_text)\n",
    "    lemma_words = [lemmatizer.lemmatize(word, get_wordnet_pos(word)) for word in words]\n",
    "    base.append(lemma_words)\n",
    "    if (counter>0 and counter%500==0):\n",
    "      print('lemmatized {} texts'.format(counter))\n",
    "    counter += 1\n",
    "  print('DONE')\n",
    "  return base"
   ]
  },
  {
   "cell_type": "code",
   "execution_count": null,
   "metadata": {
    "colab": {},
    "colab_type": "code",
    "id": "0Gr-1dYoi4ow"
   },
   "outputs": [],
   "source": [
    "word_base = clean_text(train4.text)"
   ]
  },
  {
   "cell_type": "code",
   "execution_count": null,
   "metadata": {
    "colab": {},
    "colab_type": "code",
    "id": "e4u3jdXYxT4z"
   },
   "outputs": [],
   "source": [
    "#save word_base as pickle form data\n",
    "with open('/content/drive/My Drive/ADAMS_NLPtask_SS20-2/word_base.pkl','wb') as path_name:\n",
    "    pickle.dump(word_base, path_name)"
   ]
  },
  {
   "cell_type": "code",
   "execution_count": null,
   "metadata": {
    "colab": {},
    "colab_type": "code",
    "id": "Yazl9-pS8hxy"
   },
   "outputs": [],
   "source": [
    "with open('/content/drive/My Drive/ADAMS_NLPtask_SS20-2/word_base.pkl','rb') as path_name:\n",
    "    word_base = pickle.load(path_name)"
   ]
  },
  {
   "cell_type": "code",
   "execution_count": null,
   "metadata": {
    "colab": {},
    "colab_type": "code",
    "id": "miLI_NDXxu6g"
   },
   "outputs": [],
   "source": [
    "# Check all is well\n",
    "print(train4.text[1])\n",
    "print(word_base[1])"
   ]
  },
  {
   "cell_type": "code",
   "execution_count": null,
   "metadata": {
    "colab": {},
    "colab_type": "code",
    "id": "SzcB8WmpAJdX"
   },
   "outputs": [],
   "source": [
    "test_base = clean_text(test.text)"
   ]
  },
  {
   "cell_type": "code",
   "execution_count": null,
   "metadata": {
    "colab": {
     "base_uri": "https://localhost:8080/",
     "height": 71
    },
    "colab_type": "code",
    "id": "aWZcK8I4Az-G",
    "outputId": "3dffca09-cede-42f1-cd7e-0be034a9e372"
   },
   "outputs": [
    {
     "name": "stdout",
     "output_type": "stream",
     "text": [
      "<img class=\"progressiveMedia-noscript js-progressiveMedia-inner\" src=\"https://cdn-images-1.medium.com/max/1500/1*6BEujBdCk3By8N4AIrWIrQ.png\">OnChainNEO’s founders Da HongFei and Erik Zhang founded a company called OnChain. Understanding OnChain is critical to understanding NEO. They’re not the same company, but their interests align and they have a partnership together. OnChain’s system, known as DNA (Decentralized Network Architecture) aims to work with Chinese businesses and government. NEO acts as the foundation of DNA. If OnChain can integrate with Chinese businesses and government, that will greatly spur adoption of NEO.Ultimately, DNA develops public and private blockchains for businesses. These blockchains then link up to NEO to join the decentralized economy. Businesses then have all the benefits of both private and public blockchains. Think of NEO as providing the public blockchains and OnChain’s DNA providing the private blockchains. Then, they can link up and get the best of both worlds.OnChain also has several projects and partnerships and newsworthy mentions that all contribute to the DNA ecosystem:Established in 2014, this is not a fresh-off-the-shelf companyFirst Chinese blockchain company to join Hyperledger — a collaboration of projects that work towards integrating blockchain with established businesses.Legal Chain — works with Microsoft China in digitizing and securing signatures via blockchain technology.Strategic partner of Microsoft China on multiple projectsWorked with the Japanese Ministry of Economy, Trade and IndustryVoted as KPMG’s top 50 Fintech Company in ChinaPartnership with Alibaba to provide an email certification service for Ali CloudInvestment from Fosun Group—China’s largest private conglomerate — to integrate OnChain across their businesses.Collaboration with Chinese regional government — using OnChain to develop public services and digital identityOnChain’s recent development was of the ICO Ontology. Ontology uses the same architecture as NEO but ultimately works with businesses in creating a private, encrypted data network. Essentially, this is important when we have information that we need securing, but we also need it to be private. This will enable people to bring this information in a secure manner to blockchains.References on OnChain’s roadmapHonestly, I don’t understand why NEO doesn’t advertise their collaboration with OnChain more. NEO in itself is solid, offering several potential benefits over Ethereum. But combined with OnChain, NEO truly has the potential to implement itself as THE smart economy platform of the East.The Ethereum Comparison: Ethereum’s equivalent is the Enterprise Ethereum Alliance, an open source blockchain initiative dedicated to linking Ethereum with the business world. Their list of partnerships is robust and impressive — no surprise for those familiar with Ethereum. Included among their members are: BP, HP, Toyota, MasterCard, Microsoft, and Intel, among many others.TLDR: OnChain is a company partnered with NEO. They have extensive experience and many accolades in bringing blockchain to businesses. They work with companies and governments in the East. They are a huge component to NEO’s potential.NEOX:NEOX is NEO’s version of atomic swaps (directly swapping tokens without any exchange) and cross-chain integration. Think Ark Ecosystem. This will enable people to swap crypto assets and transact across different blockchains. It also allows smart contracts to interact across chains.NEOX is important because it allows collaboration between the blockchains (both private and public) created by OnChain and by NEO’s public blockchain. As more components of the Smart Economy develop, NEOX will link them all together.Ethereum Comparison: Ethereum has the ability to do atomic swaps, but has only completed this once — this isn’t to put down Ethereum; NEO has never completed one. However, Ethereum will need an outside application to accommodate large scale cross-chain integration.<img class=\"progressiveMedia-noscript js-progressiveMedia-inner\" src=\"https://cdn-images-1.medium.com/max/1500/1*Wj1icXY53ewztCE_UxkZ4g.jpeg\">Not quite the City of Zion we’re talking about…City of Zion:City of Zion (CoZ) is an independent, open source community of developers, translators, and designers who work towards the betterment of NEO. They have received funding from NEO to help incentivize project development. The community has contributed considerably to NEO. They have developed the NEON wallet, created a NEO block scanner, translated documents for NEO, and developed the NEX platform (see below). They recently received NEO funding to award $270,000 to 10 winners as part of their DApp competition. It is incredibly advantageous to have a network of support such as CoZ.Ethereum Comparison: There isn’t really a good comparison for this on the Ethereum network.NEX:Nex is an upcoming ICO developed by City of Zion that offers a platform for the creation of payment solutions and decentralized exchanges on NEO. It links to NEO with NEOX.Because of differences with NEO in the token model, account balances, and way smart contract interact — in comparison to Ethereum — NEO needed a solution to be able to effectively house decentralized exchanges. NEX offers that solution.Ethereum Comparison: Already ERC20 tokens are easy to transact with on decentralized exchanges.ProjectICO:A turnkey, all-in-one ICO company that helps blockchain companies develop: from initial idea to ICO. They recently decided to move from Ethereum to NEO. They have an interesting Reddit AMA on their reasons for switching.Ethereum Comparison: TokenHub is a similar project developing on Ethereum.Microsoft China:NEO is currently hosting a developer competition in partnership with Microsoft China with $490,000 as prize money.Ethereum Comparison: Ethereum is incredibly well connected with established corporations. NEO is playing catchup.DApps and ICOs:The bread and butter of platforms; until now, NEO has only had one ICO (Red Pulse) and one DApp (AdEx). However, with several planned in the near future and with an upgrade last month which will enable NEO smart contracts to interact with website interfaces, I think this is only the beginning for NEO.Ethereum Comparison: Ethereum hands down beats NEO in this area. Ethereum is the go-to platform for ICOs and DApps.Ecosystem RecapWe hopefully have a strong understanding of the differences in the goals of Ethereum and NEO, as well as a good overview of NEO’s network and the network’s advantages in the smart economy. It’s important to understand this network for NEO because NEO is more than just a public blockchain, it is a piece in the larger picture. When NEO’s public blockchain can link up with OnChain’s private and business oriented blockchains and ultimately with all other DApps on it’s platform, it could truly become a smart economy.The biggest differences between Ethereum and NEO<img class=\"progressiveMedia-noscript js-progressiveMedia-inner\" src=\"https://cdn-images-1.medium.com/max/1500/1*ebCspz_oVD0R3uN7AcMhgw.jpeg\">Ethereum’s energy consumption could power 1,025,438 American homes for a year. — Source —ProtocolEthereum uses the same protocol as Bitcoin — Proof of Work (PoW). With Proof of Work, computers on the network compete to solve mathematical formulas and win the right to confirm transactions into the blockchain, and thus, secure the network. The two major drawbacks to the PoW protocol is the danger of a 51% attack and the massive energy consumption required for network security. For these reasons, I think that PoW will soon be an outdated system, as blockchain transitions to a new protocol called Proof of Stake (PoS).Proof of Stake works similarly to PoW except that instead of computers validating the network and receiving rewards equivalent to their relative computing power, PoS uses token holders. Those who hold tokens can “stake” their tokens (staking means to temporarily place the tokens in a locked smart contract — until staking is over) and in exchange, confirm transactions and receive rewards based on the relative number of tokens held. In PoW, if you operate 5% of the total computing power of the network, you can expect to get 5% of the block rewards. In PoS, if you own 5% of tokens, you can also expect to receive 5% of block rewards.PoS offers a solution to the issues plaguing PoW — mainly it takes virtually no energy to run PoS — without compromising the security. I would argue that it actually improves security. With Ethereum, and all other PoW protocols, the difficulty algorithm (how hard it is to solve the mathematical formula) must constantly be updated to account for better computer hardware and more powerful mining groups. With PoS there is no need to do this. With Ethereum, you could conceivably purchase enough computing hardware to achieve a 51% attack; even after comprising the network, you would still have all of that hardware and could potentially use it to attack other PoW platforms. With PoS, because you must stake your coins, any malicious behavior results in the loss of all staked coins. So if you bought 51% of all tokens, you would immediately lose your substantial investment. In addition, the costs of purchasing 51% of the network tokens are equal for everyone. The costs of obtaining 51% of computer power — due to discounts for mass computer purchases and countries with extremely cheap electricity — are not.<img class=\"progressiveMedia-noscript js-progressiveMedia-inner\" src=\"https://cdn-images-1.medium.com/max/1500/1*Q4fDzZ1KgZMFtnkzvXXBGA.jpeg\">Byzantine Fault Tolerance attempts to solve the Byzantine General’s ProblemNEO uses a protocol called dBFT (Delegated Byzantine Fault Tolerance) sounds like a term you’d see on your AP History Test. The simplest explanation of Byzantine Fault Tolerance is the issue with how to get everyone on the network to be honest and work together — because one bad apple could ruin everything. NEO’s dBFT is a modification of the classic PoS protocol, with some significant advantages and one primary disadvantage.I imagine dBFT as working similar to how the U.S. Senate works (and if that analogy made you want to just give up on Neo entirely, I understand, but hold on…keep reading). If every person in America — all 323.1 million—was allowed to directly participate in the governmental decision making process, it would be catastrophic. It would be brutally slow as millions competed for the microphone, all shouting their opinion and arguing with each other. Making decisions would also be agonizingly slow. So instead, everyone in the country gets a vote. And with this vote, they can elect their representatives, someone to speak for them. This system directly reflects NEO’s governance. Instead of everyone participating in the validating process — which can be incredibly limiting in terms of transaction speed — those who hold NEO tokens can vote for delegates. These delegates (called bookkeepers) maintain the network for everyone. Thus, NEO can run faster, more efficiently, and with quicker and more finite decisions, and you can stay home, drink Bud Light, and watch the Patriots game with your computer in sleep mode.Remember too that these bookkeepers will have their digital identity known, making NEO much more compliant with national regulations.The disadvantage with this system is a lack of decentralization. In its purest sense, instead of thousands of validators being scattered all across the world, governance is concentrated in a few dozen validators. The majority of these nodes are currently operated by the NEO team. However, as of Quarter 1, 2018, NEO will hold less than 2/3 and will continue to hold fewer as time progresses. Regardless, NEO will never be as decentralized as other pure PoS platforms.I would however argue that Ethereum is also not as decentralized as you might think. While the PoW protocol is decentralized, you can count the number of core developer’s for Ethereum on one hand. In addition, while I trust Vitalik Buterin, he does have enormous power and influence over the direction of Ethereum.Ethereum will transition to a PoS protocol in the future. They already have begun the process and the mining difficulty of confirming new blocks will increase exponentially until it is impossible to mine anymore and everyone must transition to the PoS protocol. This will happen but it is likely more than a year out.TLDR: Ethereum uses a Proof of Work protocol and will evolve into Proof of Stake. NEO uses a Delegated Byzantine Fault Tolerance (dBFT) protocol which is a modification of the standard proof of stake protocol.<img class=\"progressiveMedia-noscript js-progressiveMedia-inner\" src=\"https://cdn-images-1.medium.com/max/1500/1*P6e7ZXg7uOS2JYMbZfXBwg.jpeg\">Transaction Speed:Because NEO doesn’t run on PoW and has a more streamlined PoS protocol, NEO can process transactions far more quickly than Ethereum. Now when we compare these, there are both theoretical and practical speeds. Theoretical transaction speeds are the absolute maximum speed mathematically possible for the network. For NEO, this number is 10,000tps (transactions/second). Ethereum can do 30tps. In practicality, because of real world inconsistencies and difficulties, NEO can do 1,000tps in comparison to Ethereum’s 15tps. As protocols improve it is possible that both platforms will approach their theoretical speed.This is an enormous difference and a massive advantage for NEO. NEO’s transaction speeds could conceivably accommodate the kind of smart economy they’re envisioning; Ethereum’s can not. Now in exchange for this speed, NEO is not as decentralized as Ethereum. In addition, it’s important to recognize that Vitalik and Ethereum are well aware of this limitation. Solutions such as Raiden and sharding (two fascinating technologies but far beyond the scope of this article) are on the roadmap for Ethereum and could drastically improve Ethereum’s transaction speed.TLDR: Ethereum can transact at 15tps with a maximum of 30tps. NEO can transact at 1,000tps with a maximum of 10,000tps. Ethereum has plans and solutions to scale to close this gap.Forking and scaling:Ethereum forks to update its software, just like Bitcoin. I describe this here. Forks aren’t necessarily bad, but they certainly can be. Look at Ethereum’s DAO fork for an example of this. After millions were stolen from an Ethereum smart contract, Ethereum forked to refund the money to the original holders. Whether or not this decision was correct, it divided the community and Ethereum Classic was created alongside Ethereum.Forks happen because there is no finality in the consensus mechanism of Ethereum. Multiple chains in the blockchain can be created at once — ultimately, both are valid chains and can continued to be mined on. Forks happen constantly but are usually resolved when the chain with the most computer power is chosen as legitimate. With Ethereum, it’s always recommended that when you place a transaction, you wait until a few blocks have been mined on top of yours before considering the transaction permanent.NEO has finality. This is because the bookkeepers must reach a 66% consensus for the transaction to be placed into the blockchain. Here is an analogy to understand this. Imagine a first grade class. Timmy asks how much chocolate milk costs. Cynthia has no concept of price (she’s in first grade for God’s sake) and shouts $15! A few students walk over to her in agreement. Bobby’s a chocolate milk aficionado — he knows his milk. He says $1.25. Most of the room walks over to him. He has a majority. Now assuming Cynthia’s group realizes their flaw and joins Bobby’s group, then the group reaches consensus. But if Cynthia is having a particularly stubborn day, she could keep on with her decision — a fork. It might not be the right answer, but she still has a valid answer. This is how Ethereum works.<img class=\"progressiveMedia-noscript js-progressiveMedia-inner\" src=\"https://cdn-images-1.medium.com/max/2000/1*KJTJ1p6WWouvhO5N_pmDzA.jpeg\">Only in Israel do they have chocolate milk in a bag…NEO works like this. Imagine the same scenario. Timmy again asks how much chocolate milk costs. First Cynthia speaks up: “$15!” A few murmur in support, but it’s clearly not 66% of the class so her idea is discarded. Next Bobby says “$1.25.” 66% of the class support his claim and thus, his idea is final. With NEO, the bookkeepers each propose the correct state of the next block. When 66% of them support the proposition, the block is finalized.The implications of this are huge. Finality is incredibly important for the type of economy NEO hopes to support. The financial industry and other complicated, fast moving markets (stock markets for example), can’t operate on a system without finality. They need to know that when their information is placed into the blockchain, it is there for good. They also need the assurance that their blockchain won’t suddenly become irrelevant because of a fork.TLDR: Ethereum can fork; NEO can’t — this is important for adoption by our real world economy.Decoupling of GAS and NEOThis may very well be NEO’s most ingenious characteristic. The native token of Ethereum is ether. The gas needed to run the Ethereum network (execute contracts, conduct transactions, etc.) is actually just small units of ether. There is no separation between ether and gas.However, NEO decoupled itself from the token needed to run the network: GAS. The NEO token is like partial ownership of the NEO platform. NEO token holders are entitled to vote for bookkeepers. NEO’s use as a share in the company rather than a token is furthered by the fact that NEO is non-divisible. NEO is not meant to be transacted with — that’s why there is GAS.GAS is used for all operations on the NEO network. Now when a company registers or changes assets on the NEO blockchain, they pay in GAS — this GAS is then distributed to all NEO holders. Anyone can claim this GAS by just holding their NEO in a personal wallet. Such as this one: NEONBookkeepers are entitled to charge a transaction fee (in GAS) for general transactions on the blockchain that only they (the bookkeepers) receive. However, by decoupling NEO and GAS, there is an incentive to keep transaction fees low; here’s why:High transaction fees, which only benefit the bookkeepers, will prevent people from wanting to register their assets on the blockchain. The less assets registered, the less rewards NEO holders will get. Thus, NEO holders are incentivized to vote in bookkeepers who will keep transaction fees low.“ Low transaction fees = more users = more assets registered = more GAS to NEO holders.” — Malcolm Lerider from his article:Bookkeepers are primarily incentivized by their desire to secure the network. They use the network, benefit from it, and have money staked in NEO. Thus, it is advantageous for them to secure it.It is unclear how rewards will be divided amongst ether holders when Ethereum becomes Proof of Stake. However, it appears that only large Ethereum holders will be able to stake and receive rewards.<img class=\"progressiveMedia-noscript js-progressiveMedia-inner\" src=\"https://cdn-images-1.medium.com/max/1500/1*nuH0O-EE9kgzG9iHLWjUCg.png\">The NEON Wallet with the “claim gas” buttonThe genius of the NEO token is that it allows users to passively acquire GAS in their wallet. No need to run the computer, keep the wallet open, or expend electricity. No need to “stake” your tokens — bookkeepers do this for you. You could even have your NEO in a paper wallet. GAS is collected when you physically push the “claim GAS” button. This also ensures that the NEO network doesn’t need to calculate the interest of NEO holders with every block, reducing traffic and simplifying the compound interest formulas. The delegated bookkeepers maintain the network; your investment gains interest. This would not be possible without two separate tokens.Both NEO and GAS are capped at 100 million tokens.TLDR: Ethereum has one token: ether. NEO has two: NEO and GAS. There are huge advantages to having two tokens when using a proof of stake protocol.<img class=\"progressiveMedia-noscript js-progressiveMedia-inner\" src=\"https://cdn-images-1.medium.com/max/1500/1*hki47s34zdWbIqfQOoBb0Q.png\">SourceSmart Contract LanguageThe biggest difference between Ethereum and NEO smart contracts is the coding language options available. With Ethereum, contracts must be written in solidity — A coding language created specifically for Ethereum. NEO on the other hand supports a variety of different languages, including the most commonly known. NEO supports five programming languages with plans to support an additional five in the future.There are certainly advantages to crafting a particular language for a particular platform. Ethereum developers designed solidity for Ethereum. However, far fewer people know solidity. By supporting the most common coding languages, NEO has an advantage in facilitating adoption. Most programmers today would have to learn solidity before working with Ethereum whereas with NEO, their knowledge is already applicable. It’s also possible that existing business platforms could be placed onto the NEO blockchain without much modification.TLDR (seriously? It’s like two paragraphs): Ethereum has one coding language: Solidity. NEO supports many different coding languages.Smart Contract ExecutionSmart contracts use what are called virtual machines (VM). Essentially, in layman’s terms, virtual machines are machines that execute smart contracts and run inside the computers of miners or other validators. The VM is the environment that the smart contract runs in. Thus, if we want to know how efficient and effective smart contracts can be, we need to analyze the VM.<img class=\"progressiveMedia-noscript js-progressiveMedia-inner\" src=\"https://cdn-images-1.medium.com/max/1500/1*zlmNMBQUUkO-B9C2_f-JKw.jpeg\">NEO’s VM optimizes smart contract code before executing the contract. What this means is that it takes the code and reorganizes it to make it more efficient. Imagine your mom gives you a grocery list. If it’s anything like my mom’s lists — and she will probably object to this — the items have no organization and I am constantly ping-ponging back and forth across the grocery store. But by organizing all the items into categories that I can then pick up together at the same part of the store (dairy, canned goods, cereals), my job becomes much quicker and easier. NEO does this; Ethereum does not. Now while this makes things much easier in the long run, in the initial phase it takes a bit longer to organize the list. NEO’s contract execution takes slightly longer than Ethereum’s, but is much more efficient in the long run.Ethereum plans to roll out this mechanism, but there is no timeline for it. Ultimately, this allows NEO to execute and run complex smart contracts faster and more efficiently than Ethereum.TLDR: NEO has a more efficient and faster way of executing smart contracts than Ethereum.Additional Important DifferencesNEO is theoretically quantum computer resistant, Ethereum is not — When quantum computers develop enough, blockchains could be vulnerable. NEO has theoretically designed their blockchain to account for this. Ethereum does not have that capability.sk-Snarks: Ethereum’s new privacy tool. sk-Snarks is the privacy protocol of ZCash. While there are far smarter people who can explain the technology far more intelligently than me, essentially sk-Snarks is important when we want to have data or contracts whose contents are private or confidential. We need to maintain the privacy of the data, but at the same time, prove we have ownership of it. sk-Snarks allows users to prove they have ownership without actually giving up the private data. NEO has no such capabilities. However, NEO’s partnership with OnChain’s Ontology offers NEO a privacy solution for businesses.\n",
      "['onchainneo', 'founder', 'da', 'hongfei', 'erik', 'zhang', 'found', 'company', 'call', 'onchain', 'understand', 'onchain', 'critical', 'understand', 'neo', 'company', 'interest', 'align', 'partnership', 'together', 'onchain', 'system', 'know', 'dna', 'decentralize', 'network', 'architecture', 'aim', 'work', 'chinese', 'business', 'government', 'neo', 'act', 'foundation', 'dna', 'onchain', 'integrate', 'chinese', 'business', 'government', 'greatly', 'spur', 'adoption', 'neo', 'ultimately', 'dna', 'develops', 'public', 'private', 'blockchains', 'business', 'blockchains', 'link', 'neo', 'join', 'decentralize', 'economy', 'business', 'benefit', 'private', 'public', 'blockchains', 'think', 'neo', 'provide', 'public', 'blockchains', 'onchain', 'dna', 'provide', 'private', 'blockchains', 'link', 'get', 'best', 'world', 'onchain', 'also', 'several', 'project', 'partnership', 'newsworthy', 'mention', 'contribute', 'dna', 'ecosystem', 'establish', 'fresh', 'shelf', 'companyfirst', 'chinese', 'blockchain', 'company', 'join', 'hyperledger', 'collaboration', 'project', 'work', 'towards', 'integrate', 'blockchain', 'establish', 'business', 'legal', 'chain', 'work', 'microsoft', 'china', 'digitize', 'secure', 'signature', 'via', 'blockchain', 'technology', 'strategic', 'partner', 'microsoft', 'china', 'multiple', 'projectsworked', 'japanese', 'ministry', 'economy', 'trade', 'industryvoted', 'kpmg', 'top', 'fintech', 'company', 'chinapartnership', 'alibaba', 'provide', 'email', 'certification', 'service', 'ali', 'cloudinvestment', 'fosun', 'group', 'china', 'large', 'private', 'conglomerate', 'integrate', 'onchain', 'across', 'business', 'collaboration', 'chinese', 'regional', 'government', 'use', 'onchain', 'develop', 'public', 'service', 'digital', 'identityonchain', 'recent', 'development', 'ico', 'ontology', 'ontology', 'us', 'architecture', 'neo', 'ultimately', 'work', 'business', 'create', 'private', 'encrypt', 'data', 'network', 'essentially', 'important', 'information', 'need', 'secure', 'also', 'need', 'private', 'enable', 'people', 'bring', 'information', 'secure', 'manner', 'blockchains', 'reference', 'onchain', 'roadmaphonestly', 'understand', 'neo', 'advertise', 'collaboration', 'onchain', 'neo', 'solid', 'offering', 'several', 'potential', 'benefit', 'ethereum', 'combine', 'onchain', 'neo', 'truly', 'potential', 'implement', 'smart', 'economy', 'platform', 'east', 'ethereum', 'comparison', 'ethereum', 'equivalent', 'enterprise', 'ethereum', 'alliance', 'open', 'source', 'blockchain', 'initiative', 'dedicate', 'link', 'ethereum', 'business', 'world', 'list', 'partnership', 'robust', 'impressive', 'surprise', 'familiar', 'ethereum', 'include', 'among', 'member', 'bp', 'hp', 'toyota', 'mastercard', 'microsoft', 'intel', 'among', 'many', 'others', 'tldr', 'onchain', 'company', 'partner', 'neo', 'extensive', 'experience', 'many', 'accolade', 'bring', 'blockchain', 'business', 'work', 'company', 'government', 'east', 'huge', 'component', 'neo', 'potential', 'neox', 'neox', 'neo', 'version', 'atomic', 'swap', 'directly', 'swap', 'token', 'without', 'exchange', 'cross', 'chain', 'integration', 'think', 'ark', 'ecosystem', 'enable', 'people', 'swap', 'crypto', 'asset', 'transact', 'across', 'different', 'blockchains', 'also', 'allows', 'smart', 'contract', 'interact', 'across', 'chain', 'neox', 'important', 'allows', 'collaboration', 'blockchains', 'private', 'public', 'create', 'onchain', 'neo', 'public', 'blockchain', 'component', 'smart', 'economy', 'develop', 'neox', 'link', 'together', 'ethereum', 'comparison', 'ethereum', 'ability', 'atomic', 'swap', 'complete', 'put', 'ethereum', 'neo', 'never', 'complete', 'one', 'however', 'ethereum', 'need', 'outside', 'application', 'accommodate', 'large', 'scale', 'cross', 'chain', 'integration', 'quite', 'city', 'zion', 'talk', 'city', 'zion', 'city', 'zion', 'coz', 'independent', 'open', 'source', 'community', 'developer', 'translator', 'designer', 'work', 'towards', 'betterment', 'neo', 'receive', 'funding', 'neo', 'help', 'incentivize', 'project', 'development', 'community', 'contribute', 'considerably', 'neo', 'developed', 'neon', 'wallet', 'create', 'neo', 'block', 'scanner', 'translate', 'document', 'neo', 'developed', 'nex', 'platform', 'see', 'recently', 'receive', 'neo', 'funding', 'award', 'winner', 'part', 'dapp', 'competition', 'incredibly', 'advantageous', 'network', 'support', 'coz', 'ethereum', 'comparison', 'really', 'good', 'comparison', 'ethereum', 'network', 'nex', 'nex', 'upcoming', 'ico', 'developed', 'city', 'zion', 'offer', 'platform', 'creation', 'payment', 'solution', 'decentralize', 'exchange', 'neo', 'link', 'neo', 'neox', 'difference', 'neo', 'token', 'model', 'account', 'balance', 'way', 'smart', 'contract', 'interact', 'comparison', 'ethereum', 'neo', 'need', 'solution', 'able', 'effectively', 'house', 'decentralize', 'exchange', 'nex', 'offer', 'solution', 'ethereum', 'comparison', 'already', 'token', 'easy', 'transact', 'decentralize', 'exchange', 'projectico', 'turnkey', 'one', 'ico', 'company', 'help', 'blockchain', 'company', 'develop', 'initial', 'idea', 'ico', 'recently', 'decide', 'move', 'ethereum', 'neo', 'interest', 'reddit', 'ama', 'reason', 'switch', 'ethereum', 'comparison', 'tokenhub', 'similar', 'project', 'develop', 'ethereum', 'microsoft', 'china', 'neo', 'currently', 'host', 'developer', 'competition', 'partnership', 'microsoft', 'china', 'prize', 'money', 'ethereum', 'comparison', 'ethereum', 'incredibly', 'well', 'connect', 'establish', 'corporation', 'neo', 'play', 'catchup', 'dapps', 'icos', 'bread', 'butter', 'platform', 'neo', 'one', 'ico', 'red', 'pulse', 'one', 'dapp', 'adex', 'however', 'several', 'plan', 'near', 'future', 'upgrade', 'last', 'month', 'enable', 'neo', 'smart', 'contract', 'interact', 'website', 'interface', 'think', 'begin', 'neo', 'ethereum', 'comparison', 'ethereum', 'hand', 'beat', 'neo', 'area', 'ethereum', 'go', 'platform', 'icos', 'dapps', 'ecosystem', 'recapwe', 'hopefully', 'strong', 'understand', 'difference', 'goal', 'ethereum', 'neo', 'well', 'good', 'overview', 'neo', 'network', 'network', 'advantage', 'smart', 'economy', 'important', 'understand', 'network', 'neo', 'neo', 'public', 'blockchain', 'piece', 'large', 'picture', 'neo', 'public', 'blockchain', 'link', 'onchain', 'private', 'business', 'orient', 'blockchains', 'ultimately', 'dapps', 'platform', 'could', 'truly', 'become', 'smart', 'economy', 'big', 'difference', 'ethereum', 'neoethereum', 'energy', 'consumption', 'could', 'power', 'american', 'home', 'year', 'source', 'protocolethereum', 'us', 'protocol', 'bitcoin', 'proof', 'work', 'pow', 'proof', 'work', 'computer', 'network', 'compete', 'solve', 'mathematical', 'formula', 'win', 'right', 'confirm', 'transaction', 'blockchain', 'thus', 'secure', 'network', 'two', 'major', 'drawback', 'pow', 'protocol', 'danger', 'attack', 'massive', 'energy', 'consumption', 'require', 'network', 'security', 'reason', 'think', 'pow', 'soon', 'outdated', 'system', 'blockchain', 'transition', 'new', 'protocol', 'call', 'proof', 'stake', 'po', 'proof', 'stake', 'work', 'similarly', 'pow', 'except', 'instead', 'computer', 'validate', 'network', 'receive', 'reward', 'equivalent', 'relative', 'compute', 'power', 'po', 'us', 'token', 'holder', 'hold', 'token', 'stake', 'token', 'stake', 'mean', 'temporarily', 'place', 'token', 'lock', 'smart', 'contract', 'stake', 'exchange', 'confirm', 'transaction', 'receive', 'reward', 'base', 'relative', 'number', 'token', 'held', 'pow', 'operate', 'total', 'compute', 'power', 'network', 'expect', 'get', 'block', 'reward', 'po', 'token', 'also', 'expect', 'receive', 'block', 'reward', 'po', 'offer', 'solution', 'issue', 'plague', 'pow', 'mainly', 'take', 'virtually', 'energy', 'run', 'po', 'without', 'compromise', 'security', 'would', 'argue', 'actually', 'improves', 'security', 'ethereum', 'pow', 'protocol', 'difficulty', 'algorithm', 'hard', 'solve', 'mathematical', 'formula', 'must', 'constantly', 'update', 'account', 'well', 'computer', 'hardware', 'powerful', 'mining', 'group', 'po', 'need', 'ethereum', 'could', 'conceivably', 'purchase', 'enough', 'compute', 'hardware', 'achieve', 'attack', 'even', 'comprise', 'network', 'would', 'still', 'hardware', 'could', 'potentially', 'use', 'attack', 'pow', 'platform', 'po', 'must', 'stake', 'coin', 'malicious', 'behavior', 'result', 'loss', 'stake', 'coin', 'bought', 'token', 'would', 'immediately', 'lose', 'substantial', 'investment', 'addition', 'cost', 'purchasing', 'network', 'token', 'equal', 'everyone', 'cost', 'obtain', 'computer', 'power', 'due', 'discount', 'mass', 'computer', 'purchase', 'country', 'extremely', 'cheap', 'electricity', 'byzantine', 'fault', 'tolerance', 'attempt', 'solve', 'byzantine', 'general', 'problemneo', 'us', 'protocol', 'call', 'dbft', 'delegate', 'byzantine', 'fault', 'tolerance', 'sound', 'like', 'term', 'see', 'ap', 'history', 'test', 'simplest', 'explanation', 'byzantine', 'fault', 'tolerance', 'issue', 'get', 'everyone', 'network', 'honest', 'work', 'together', 'one', 'bad', 'apple', 'could', 'ruin', 'everything', 'neo', 'dbft', 'modification', 'classic', 'po', 'protocol', 'significant', 'advantage', 'one', 'primary', 'disadvantage', 'imagine', 'dbft', 'work', 'similar', 'u', 'senate', 'work', 'analogy', 'make', 'want', 'give', 'neo', 'entirely', 'understand', 'hold', 'keep', 'reading', 'every', 'person', 'america', 'million', 'allow', 'directly', 'participate', 'governmental', 'decision', 'make', 'process', 'would', 'catastrophic', 'would', 'brutally', 'slow', 'million', 'compete', 'microphone', 'shout', 'opinion', 'argue', 'make', 'decision', 'would', 'also', 'agonizingly', 'slow', 'instead', 'everyone', 'country', 'get', 'vote', 'vote', 'elect', 'representative', 'someone', 'speak', 'system', 'directly', 'reflect', 'neo', 'governance', 'instead', 'everyone', 'participate', 'validate', 'process', 'incredibly', 'limit', 'term', 'transaction', 'speed', 'hold', 'neo', 'token', 'vote', 'delegate', 'delegate', 'call', 'bookkeeper', 'maintain', 'network', 'everyone', 'thus', 'neo', 'run', 'faster', 'efficiently', 'quicker', 'finite', 'decision', 'stay', 'home', 'drink', 'bud', 'light', 'watch', 'patriot', 'game', 'computer', 'sleep', 'mode', 'remember', 'bookkeeper', 'digital', 'identity', 'know', 'make', 'neo', 'much', 'compliant', 'national', 'regulation', 'disadvantage', 'system', 'lack', 'decentralization', 'purest', 'sense', 'instead', 'thousand', 'validators', 'scatter', 'across', 'world', 'governance', 'concentrate', 'dozen', 'validators', 'majority', 'node', 'currently', 'operate', 'neo', 'team', 'however', 'quarter', 'neo', 'hold', 'less', 'continue', 'hold', 'few', 'time', 'progress', 'regardless', 'neo', 'never', 'decentralize', 'pure', 'po', 'platform', 'would', 'however', 'argue', 'ethereum', 'also', 'decentralize', 'might', 'think', 'pow', 'protocol', 'decentralize', 'count', 'number', 'core', 'developer', 'ethereum', 'one', 'hand', 'addition', 'trust', 'vitalik', 'buterin', 'enormous', 'power', 'influence', 'direction', 'ethereum', 'ethereum', 'transition', 'po', 'protocol', 'future', 'already', 'begin', 'process', 'mining', 'difficulty', 'confirm', 'new', 'block', 'increase', 'exponentially', 'impossible', 'mine', 'anymore', 'everyone', 'must', 'transition', 'po', 'protocol', 'happen', 'likely', 'year', 'tldr', 'ethereum', 'us', 'proof', 'work', 'protocol', 'evolve', 'proof', 'stake', 'neo', 'us', 'delegate', 'byzantine', 'fault', 'tolerance', 'dbft', 'protocol', 'modification', 'standard', 'proof', 'stake', 'protocol', 'transaction', 'speed', 'neo', 'run', 'pow', 'streamline', 'po', 'protocol', 'neo', 'process', 'transaction', 'far', 'quickly', 'ethereum', 'compare', 'theoretical', 'practical', 'speed', 'theoretical', 'transaction', 'speed', 'absolute', 'maximum', 'speed', 'mathematically', 'possible', 'network', 'neo', 'number', 'transaction', 'second', 'ethereum', 'practicality', 'real', 'world', 'inconsistency', 'difficulty', 'neo', 'comparison', 'ethereum', 'protocol', 'improve', 'possible', 'platform', 'approach', 'theoretical', 'speed', 'enormous', 'difference', 'massive', 'advantage', 'neo', 'neo', 'transaction', 'speed', 'could', 'conceivably', 'accommodate', 'kind', 'smart', 'economy', 'envision', 'ethereum', 'exchange', 'speed', 'neo', 'decentralize', 'ethereum', 'addition', 'important', 'recognize', 'vitalik', 'ethereum', 'well', 'aware', 'limitation', 'solution', 'raiden', 'sharding', 'two', 'fascinate', 'technology', 'far', 'beyond', 'scope', 'article', 'roadmap', 'ethereum', 'could', 'drastically', 'improve', 'ethereum', 'transaction', 'speed', 'tldr', 'ethereum', 'transact', 'maximum', 'neo', 'transact', 'maximum', 'ethereum', 'plan', 'solution', 'scale', 'close', 'gap', 'fork', 'scale', 'ethereum', 'fork', 'update', 'software', 'like', 'bitcoin', 'describe', 'fork', 'necessarily', 'bad', 'certainly', 'look', 'ethereum', 'dao', 'fork', 'example', 'million', 'steal', 'ethereum', 'smart', 'contract', 'ethereum', 'fork', 'refund', 'money', 'original', 'holder', 'whether', 'decision', 'correct', 'divide', 'community', 'ethereum', 'classic', 'create', 'alongside', 'ethereum', 'fork', 'happen', 'finality', 'consensus', 'mechanism', 'ethereum', 'multiple', 'chain', 'blockchain', 'create', 'ultimately', 'valid', 'chain', 'continued', 'mine', 'fork', 'happen', 'constantly', 'usually', 'resolve', 'chain', 'computer', 'power', 'chosen', 'legitimate', 'ethereum', 'always', 'recommend', 'place', 'transaction', 'wait', 'block', 'mine', 'top', 'consider', 'transaction', 'permanent', 'neo', 'finality', 'bookkeeper', 'must', 'reach', 'consensus', 'transaction', 'place', 'blockchain', 'analogy', 'understand', 'imagine', 'first', 'grade', 'class', 'timmy', 'asks', 'much', 'chocolate', 'milk', 'cost', 'cynthia', 'concept', 'price', 'first', 'grade', 'god', 'sake', 'shout', 'student', 'walk', 'agreement', 'bobby', 'chocolate', 'milk', 'aficionado', 'know', 'milk', 'say', 'room', 'walk', 'majority', 'assume', 'cynthia', 'group', 'realizes', 'flaw', 'join', 'bobby', 'group', 'group', 'reach', 'consensus', 'cynthia', 'particularly', 'stubborn', 'day', 'could', 'keep', 'decision', 'fork', 'might', 'right', 'answer', 'still', 'valid', 'answer', 'ethereum', 'work', 'israel', 'chocolate', 'milk', 'bag', 'neo', 'work', 'like', 'imagine', 'scenario', 'timmy', 'asks', 'much', 'chocolate', 'milk', 'cost', 'first', 'cynthia', 'speaks', 'murmur', 'support', 'clearly', 'class', 'idea', 'discard', 'next', 'bobby', 'say', 'class', 'support', 'claim', 'thus', 'idea', 'final', 'neo', 'bookkeeper', 'propose', 'correct', 'state', 'next', 'block', 'support', 'proposition', 'block', 'finalize', 'implication', 'huge', 'finality', 'incredibly', 'important', 'type', 'economy', 'neo', 'hope', 'support', 'financial', 'industry', 'complicate', 'fast', 'move', 'market', 'stock', 'market', 'example', 'operate', 'system', 'without', 'finality', 'need', 'know', 'information', 'place', 'blockchain', 'good', 'also', 'need', 'assurance', 'blockchain', 'suddenly', 'become', 'irrelevant', 'fork', 'tldr', 'ethereum', 'fork', 'neo', 'important', 'adoption', 'real', 'world', 'economy', 'decouple', 'gas', 'neothis', 'may', 'well', 'neo', 'ingenious', 'characteristic', 'native', 'token', 'ethereum', 'ether', 'gas', 'need', 'run', 'ethereum', 'network', 'execute', 'contract', 'conduct', 'transaction', 'etc', 'actually', 'small', 'unit', 'ether', 'separation', 'ether', 'gas', 'however', 'neo', 'decouple', 'token', 'need', 'run', 'network', 'gas', 'neo', 'token', 'like', 'partial', 'ownership', 'neo', 'platform', 'neo', 'token', 'holder', 'entitle', 'vote', 'bookkeeper', 'neo', 'use', 'share', 'company', 'rather', 'token', 'further', 'fact', 'neo', 'non', 'divisible', 'neo', 'meant', 'transact', 'gas', 'gas', 'use', 'operation', 'neo', 'network', 'company', 'register', 'change', 'asset', 'neo', 'blockchain', 'pay', 'gas', 'gas', 'distribute', 'neo', 'holder', 'anyone', 'claim', 'gas', 'hold', 'neo', 'personal', 'wallet', 'one', 'neonbookkeepers', 'entitle', 'charge', 'transaction', 'fee', 'gas', 'general', 'transaction', 'blockchain', 'bookkeeper', 'receive', 'however', 'decouple', 'neo', 'gas', 'incentive', 'keep', 'transaction', 'fee', 'low', 'high', 'transaction', 'fee', 'benefit', 'bookkeeper', 'prevent', 'people', 'want', 'register', 'asset', 'blockchain', 'less', 'asset', 'register', 'less', 'reward', 'neo', 'holder', 'get', 'thus', 'neo', 'holder', 'incentivized', 'vote', 'bookkeeper', 'keep', 'transaction', 'fee', 'low', 'low', 'transaction', 'fee', 'user', 'asset', 'register', 'gas', 'neo', 'holder', 'malcolm', 'lerider', 'article', 'bookkeeper', 'primarily', 'incentivized', 'desire', 'secure', 'network', 'use', 'network', 'benefit', 'money', 'stake', 'neo', 'thus', 'advantageous', 'secure', 'unclear', 'reward', 'divide', 'amongst', 'ether', 'holder', 'ethereum', 'becomes', 'proof', 'stake', 'however', 'appear', 'large', 'ethereum', 'holder', 'able', 'stake', 'receive', 'reward', 'neon', 'wallet', 'claim', 'gas', 'buttonthe', 'genius', 'neo', 'token', 'allows', 'user', 'passively', 'acquire', 'gas', 'wallet', 'need', 'run', 'computer', 'keep', 'wallet', 'open', 'expend', 'electricity', 'need', 'stake', 'token', 'bookkeeper', 'could', 'even', 'neo', 'paper', 'wallet', 'gas', 'collect', 'physically', 'push', 'claim', 'gas', 'button', 'also', 'ensures', 'neo', 'network', 'need', 'calculate', 'interest', 'neo', 'holder', 'every', 'block', 'reduce', 'traffic', 'simplify', 'compound', 'interest', 'formula', 'delegate', 'bookkeeper', 'maintain', 'network', 'investment', 'gain', 'interest', 'would', 'possible', 'without', 'two', 'separate', 'token', 'neo', 'gas', 'capped', 'million', 'token', 'tldr', 'ethereum', 'one', 'token', 'ether', 'neo', 'two', 'neo', 'gas', 'huge', 'advantage', 'two', 'token', 'use', 'proof', 'stake', 'protocol', 'sourcesmart', 'contract', 'languagethe', 'big', 'difference', 'ethereum', 'neo', 'smart', 'contract', 'cod', 'language', 'option', 'available', 'ethereum', 'contract', 'must', 'write', 'solidity', 'cod', 'language', 'create', 'specifically', 'ethereum', 'neo', 'hand', 'support', 'variety', 'different', 'language', 'include', 'commonly', 'know', 'neo', 'support', 'five', 'program', 'language', 'plan', 'support', 'additional', 'five', 'future', 'certainly', 'advantage', 'craft', 'particular', 'language', 'particular', 'platform', 'ethereum', 'developer', 'design', 'solidity', 'ethereum', 'however', 'far', 'few', 'people', 'know', 'solidity', 'support', 'common', 'cod', 'language', 'neo', 'advantage', 'facilitate', 'adoption', 'programmer', 'today', 'would', 'learn', 'solidity', 'work', 'ethereum', 'whereas', 'neo', 'knowledge', 'already', 'applicable', 'also', 'possible', 'exist', 'business', 'platform', 'could', 'place', 'onto', 'neo', 'blockchain', 'without', 'much', 'modification', 'tldr', 'seriously', 'like', 'two', 'paragraph', 'ethereum', 'one', 'cod', 'language', 'solidity', 'neo', 'support', 'many', 'different', 'cod', 'language', 'smart', 'contract', 'executionsmart', 'contract', 'use', 'call', 'virtual', 'machine', 'vm', 'essentially', 'layman', 'term', 'virtual', 'machine', 'machine', 'execute', 'smart', 'contract', 'run', 'inside', 'computer', 'miner', 'validators', 'vm', 'environment', 'smart', 'contract', 'run', 'thus', 'want', 'know', 'efficient', 'effective', 'smart', 'contract', 'need', 'analyze', 'vm', 'neo', 'vm', 'optimizes', 'smart', 'contract', 'code', 'execute', 'contract', 'mean', 'take', 'code', 'reorganizes', 'make', 'efficient', 'imagine', 'mom', 'give', 'grocery', 'list', 'anything', 'like', 'mom', 'list', 'probably', 'object', 'item', 'organization', 'constantly', 'ping', 'ponging', 'back', 'forth', 'across', 'grocery', 'store', 'organize', 'item', 'category', 'pick', 'together', 'part', 'store', 'dairy', 'can', 'good', 'cereal', 'job', 'becomes', 'much', 'quicker', 'easy', 'neo', 'ethereum', 'make', 'thing', 'much', 'easy', 'long', 'run', 'initial', 'phase', 'take', 'bit', 'longer', 'organize', 'list', 'neo', 'contract', 'execution', 'take', 'slightly', 'longer', 'ethereum', 'much', 'efficient', 'long', 'run', 'ethereum', 'plan', 'roll', 'mechanism', 'timeline', 'ultimately', 'allows', 'neo', 'execute', 'run', 'complex', 'smart', 'contract', 'faster', 'efficiently', 'ethereum', 'tldr', 'neo', 'efficient', 'faster', 'way', 'execute', 'smart', 'contract', 'ethereum', 'additional', 'important', 'differencesneo', 'theoretically', 'quantum', 'computer', 'resistant', 'ethereum', 'quantum', 'computer', 'develop', 'enough', 'blockchains', 'could', 'vulnerable', 'neo', 'theoretically', 'design', 'blockchain', 'account', 'ethereum', 'capability', 'sk', 'snarks', 'ethereum', 'new', 'privacy', 'tool', 'sk', 'snarks', 'privacy', 'protocol', 'zcash', 'far', 'smarter', 'people', 'explain', 'technology', 'far', 'intelligently', 'essentially', 'sk', 'snarks', 'important', 'want', 'data', 'contract', 'whose', 'content', 'private', 'confidential', 'need', 'maintain', 'privacy', 'data', 'time', 'prove', 'ownership', 'sk', 'snarks', 'allows', 'user', 'prove', 'ownership', 'without', 'actually', 'give', 'private', 'data', 'neo', 'capability', 'however', 'neo', 'partnership', 'onchain', 'ontology', 'offer', 'neo', 'privacy', 'solution', 'business']\n"
     ]
    }
   ],
   "source": [
    "print(test.text[1])\n",
    "print(test_base[1])"
   ]
  },
  {
   "cell_type": "code",
   "execution_count": null,
   "metadata": {
    "colab": {},
    "colab_type": "code",
    "id": "EwfXs_XEBItZ"
   },
   "outputs": [],
   "source": [
    "# Undo the tokenization and put the data into a new column in the data frame.\n",
    "from nltk.tokenize.treebank import TreebankWordDetokenizer"
   ]
  },
  {
   "cell_type": "code",
   "execution_count": null,
   "metadata": {
    "colab": {},
    "colab_type": "code",
    "id": "gaUICO-DyH6V"
   },
   "outputs": [],
   "source": [
    "train4['text_clean'] = [TreebankWordDetokenizer().detokenize(word) for word in word_base]"
   ]
  },
  {
   "cell_type": "code",
   "execution_count": null,
   "metadata": {
    "colab": {},
    "colab_type": "code",
    "id": "hfu-L1f0Ytfw"
   },
   "outputs": [],
   "source": [
    "train5 = train4.copy()"
   ]
  },
  {
   "cell_type": "code",
   "execution_count": null,
   "metadata": {
    "colab": {},
    "colab_type": "code",
    "id": "kRCXhg2WzVb_"
   },
   "outputs": [],
   "source": [
    "train5.drop(['text','Unnamed: 0', 'response'], inplace=True, axis=1)"
   ]
  },
  {
   "cell_type": "code",
   "execution_count": null,
   "metadata": {
    "colab": {
     "base_uri": "https://localhost:8080/",
     "height": 204
    },
    "colab_type": "code",
    "id": "prs0UxzwZwny",
    "outputId": "672907c8-0f85-4f60-dcc1-85e076a11a97"
   },
   "outputs": [
    {
     "data": {
      "text/html": [
       "<div>\n",
       "<style scoped>\n",
       "    .dataframe tbody tr th:only-of-type {\n",
       "        vertical-align: middle;\n",
       "    }\n",
       "\n",
       "    .dataframe tbody tr th {\n",
       "        vertical-align: top;\n",
       "    }\n",
       "\n",
       "    .dataframe thead th {\n",
       "        text-align: right;\n",
       "    }\n",
       "</style>\n",
       "<table border=\"1\" class=\"dataframe\">\n",
       "  <thead>\n",
       "    <tr style=\"text-align: right;\">\n",
       "      <th></th>\n",
       "      <th>text_length</th>\n",
       "      <th>totalClapCount</th>\n",
       "      <th>text_clean</th>\n",
       "    </tr>\n",
       "  </thead>\n",
       "  <tbody>\n",
       "    <tr>\n",
       "      <th>0</th>\n",
       "      <td>192</td>\n",
       "      <td>100</td>\n",
       "      <td>private business government blockchain major p...</td>\n",
       "    </tr>\n",
       "    <tr>\n",
       "      <th>1</th>\n",
       "      <td>533</td>\n",
       "      <td>0</td>\n",
       "      <td>ascent data science sa big data analyst traini...</td>\n",
       "    </tr>\n",
       "    <tr>\n",
       "      <th>2</th>\n",
       "      <td>173</td>\n",
       "      <td>50</td>\n",
       "      <td>robot love u well another human discuss michel...</td>\n",
       "    </tr>\n",
       "    <tr>\n",
       "      <th>3</th>\n",
       "      <td>1762</td>\n",
       "      <td>27</td>\n",
       "      <td>big data ai iot use case active list interest ...</td>\n",
       "    </tr>\n",
       "    <tr>\n",
       "      <th>4</th>\n",
       "      <td>379</td>\n",
       "      <td>1</td>\n",
       "      <td>artificial intelligence next frontier company ...</td>\n",
       "    </tr>\n",
       "  </tbody>\n",
       "</table>\n",
       "</div>"
      ],
      "text/plain": [
       "   text_length  ...                                         text_clean\n",
       "0          192  ...  private business government blockchain major p...\n",
       "1          533  ...  ascent data science sa big data analyst traini...\n",
       "2          173  ...  robot love u well another human discuss michel...\n",
       "3         1762  ...  big data ai iot use case active list interest ...\n",
       "4          379  ...  artificial intelligence next frontier company ...\n",
       "\n",
       "[5 rows x 3 columns]"
      ]
     },
     "execution_count": 43,
     "metadata": {
      "tags": []
     },
     "output_type": "execute_result"
    }
   ],
   "source": [
    "train5.head()"
   ]
  },
  {
   "cell_type": "code",
   "execution_count": null,
   "metadata": {
    "colab": {},
    "colab_type": "code",
    "id": "pY_jtoKKBOiP"
   },
   "outputs": [],
   "source": [
    "test2 = test.copy()\n",
    "test2['text_clean'] = [TreebankWordDetokenizer().detokenize(word) for word in test_base]"
   ]
  },
  {
   "cell_type": "code",
   "execution_count": null,
   "metadata": {
    "colab": {},
    "colab_type": "code",
    "id": "actOJo5MB1B7"
   },
   "outputs": [],
   "source": [
    "test2.drop(['text','Unnamed: 0', 'response'], inplace=True, axis=1)"
   ]
  },
  {
   "cell_type": "code",
   "execution_count": null,
   "metadata": {
    "colab": {},
    "colab_type": "code",
    "id": "zevOG9vvBo2A"
   },
   "outputs": [],
   "source": [
    "test2.head()"
   ]
  },
  {
   "cell_type": "code",
   "execution_count": null,
   "metadata": {
    "colab": {},
    "colab_type": "code",
    "id": "4BxtKfCrz27O"
   },
   "outputs": [],
   "source": [
    "# Store data frame to disk\n",
    "file_name = 'train5_clean.pkl'\n",
    "train5.to_pickle('/content/drive/My Drive/ADAMS_NLPtask_SS20-2/'+file_name)"
   ]
  },
  {
   "cell_type": "code",
   "execution_count": null,
   "metadata": {
    "colab": {
     "base_uri": "https://localhost:8080/",
     "height": 204
    },
    "colab_type": "code",
    "id": "zwbQvLu_znWP",
    "outputId": "0a8dad7d-588e-48e2-de57-dbb04e9f1a41"
   },
   "outputs": [
    {
     "data": {
      "text/html": [
       "<div>\n",
       "<style scoped>\n",
       "    .dataframe tbody tr th:only-of-type {\n",
       "        vertical-align: middle;\n",
       "    }\n",
       "\n",
       "    .dataframe tbody tr th {\n",
       "        vertical-align: top;\n",
       "    }\n",
       "\n",
       "    .dataframe thead th {\n",
       "        text-align: right;\n",
       "    }\n",
       "</style>\n",
       "<table border=\"1\" class=\"dataframe\">\n",
       "  <thead>\n",
       "    <tr style=\"text-align: right;\">\n",
       "      <th></th>\n",
       "      <th>text_length</th>\n",
       "      <th>totalClapCount</th>\n",
       "      <th>text_clean</th>\n",
       "    </tr>\n",
       "  </thead>\n",
       "  <tbody>\n",
       "    <tr>\n",
       "      <th>0</th>\n",
       "      <td>192</td>\n",
       "      <td>100</td>\n",
       "      <td>private business government blockchain major p...</td>\n",
       "    </tr>\n",
       "    <tr>\n",
       "      <th>1</th>\n",
       "      <td>533</td>\n",
       "      <td>0</td>\n",
       "      <td>ascent data science sa big data analyst traini...</td>\n",
       "    </tr>\n",
       "    <tr>\n",
       "      <th>2</th>\n",
       "      <td>173</td>\n",
       "      <td>50</td>\n",
       "      <td>robot love u well another human discuss michel...</td>\n",
       "    </tr>\n",
       "    <tr>\n",
       "      <th>3</th>\n",
       "      <td>1762</td>\n",
       "      <td>27</td>\n",
       "      <td>big data ai iot use case active list interest ...</td>\n",
       "    </tr>\n",
       "    <tr>\n",
       "      <th>4</th>\n",
       "      <td>379</td>\n",
       "      <td>1</td>\n",
       "      <td>artificial intelligence next frontier company ...</td>\n",
       "    </tr>\n",
       "  </tbody>\n",
       "</table>\n",
       "</div>"
      ],
      "text/plain": [
       "   text_length  ...                                         text_clean\n",
       "0          192  ...  private business government blockchain major p...\n",
       "1          533  ...  ascent data science sa big data analyst traini...\n",
       "2          173  ...  robot love u well another human discuss michel...\n",
       "3         1762  ...  big data ai iot use case active list interest ...\n",
       "4          379  ...  artificial intelligence next frontier company ...\n",
       "\n",
       "[5 rows x 3 columns]"
      ]
     },
     "execution_count": 45,
     "metadata": {
      "tags": []
     },
     "output_type": "execute_result"
    }
   ],
   "source": [
    "train5.head()"
   ]
  },
  {
   "cell_type": "code",
   "execution_count": null,
   "metadata": {
    "colab": {},
    "colab_type": "code",
    "id": "qYQuk064CfCD"
   },
   "outputs": [],
   "source": [
    "file_name = 'test2_clean.pkl'\n",
    "test2.to_pickle('/content/drive/My Drive/ADAMS_NLPtask_SS20-2/'+file_name)"
   ]
  },
  {
   "cell_type": "markdown",
   "metadata": {
    "colab_type": "text",
    "id": "XOucYnZt6XMJ"
   },
   "source": [
    "## **2. Modeling**"
   ]
  },
  {
   "cell_type": "code",
   "execution_count": null,
   "metadata": {
    "colab": {},
    "colab_type": "code",
    "id": "lgRr4i7_w5HZ"
   },
   "outputs": [],
   "source": [
    "# Load data frame from disk\n",
    "file_name = 'train5_clean.pkl'\n",
    "train5 = pd.read_pickle('/content/drive/My Drive/ADAMS_NLPtask_SS20-2/' + file_name)"
   ]
  },
  {
   "cell_type": "code",
   "execution_count": null,
   "metadata": {
    "colab": {
     "base_uri": "https://localhost:8080/",
     "height": 204
    },
    "colab_type": "code",
    "id": "lH-6a3aVySvU",
    "outputId": "29deb1bb-d31c-493a-efff-d3fb08ed6195"
   },
   "outputs": [
    {
     "data": {
      "text/html": [
       "<div>\n",
       "<style scoped>\n",
       "    .dataframe tbody tr th:only-of-type {\n",
       "        vertical-align: middle;\n",
       "    }\n",
       "\n",
       "    .dataframe tbody tr th {\n",
       "        vertical-align: top;\n",
       "    }\n",
       "\n",
       "    .dataframe thead th {\n",
       "        text-align: right;\n",
       "    }\n",
       "</style>\n",
       "<table border=\"1\" class=\"dataframe\">\n",
       "  <thead>\n",
       "    <tr style=\"text-align: right;\">\n",
       "      <th></th>\n",
       "      <th>text_length</th>\n",
       "      <th>totalClapCount</th>\n",
       "      <th>text_clean</th>\n",
       "    </tr>\n",
       "  </thead>\n",
       "  <tbody>\n",
       "    <tr>\n",
       "      <th>0</th>\n",
       "      <td>192</td>\n",
       "      <td>100</td>\n",
       "      <td>private business government blockchain major p...</td>\n",
       "    </tr>\n",
       "    <tr>\n",
       "      <th>1</th>\n",
       "      <td>533</td>\n",
       "      <td>0</td>\n",
       "      <td>ascent data science sa big data analyst traini...</td>\n",
       "    </tr>\n",
       "    <tr>\n",
       "      <th>2</th>\n",
       "      <td>173</td>\n",
       "      <td>50</td>\n",
       "      <td>robot love u well another human discuss michel...</td>\n",
       "    </tr>\n",
       "    <tr>\n",
       "      <th>3</th>\n",
       "      <td>1762</td>\n",
       "      <td>27</td>\n",
       "      <td>big data ai iot use case active list interest ...</td>\n",
       "    </tr>\n",
       "    <tr>\n",
       "      <th>4</th>\n",
       "      <td>379</td>\n",
       "      <td>1</td>\n",
       "      <td>artificial intelligence next frontier company ...</td>\n",
       "    </tr>\n",
       "  </tbody>\n",
       "</table>\n",
       "</div>"
      ],
      "text/plain": [
       "   text_length  ...                                         text_clean\n",
       "0          192  ...  private business government blockchain major p...\n",
       "1          533  ...  ascent data science sa big data analyst traini...\n",
       "2          173  ...  robot love u well another human discuss michel...\n",
       "3         1762  ...  big data ai iot use case active list interest ...\n",
       "4          379  ...  artificial intelligence next frontier company ...\n",
       "\n",
       "[5 rows x 3 columns]"
      ]
     },
     "execution_count": 6,
     "metadata": {
      "tags": []
     },
     "output_type": "execute_result"
    }
   ],
   "source": [
    "train5.head()"
   ]
  },
  {
   "cell_type": "code",
   "execution_count": null,
   "metadata": {
    "colab": {},
    "colab_type": "code",
    "id": "CckGeWruCu19"
   },
   "outputs": [],
   "source": [
    "file_name = 'test2_clean.pkl'\n",
    "test2 = pd.read_pickle('/content/drive/My Drive/ADAMS_NLPtask_SS20-2/'+file_name)"
   ]
  },
  {
   "cell_type": "code",
   "execution_count": null,
   "metadata": {
    "colab": {
     "base_uri": "https://localhost:8080/",
     "height": 204
    },
    "colab_type": "code",
    "id": "nQeN3-c6C94g",
    "outputId": "80ec2d48-1383-4650-f807-42080c5b0819"
   },
   "outputs": [
    {
     "data": {
      "text/html": [
       "<div>\n",
       "<style scoped>\n",
       "    .dataframe tbody tr th:only-of-type {\n",
       "        vertical-align: middle;\n",
       "    }\n",
       "\n",
       "    .dataframe tbody tr th {\n",
       "        vertical-align: top;\n",
       "    }\n",
       "\n",
       "    .dataframe thead th {\n",
       "        text-align: right;\n",
       "    }\n",
       "</style>\n",
       "<table border=\"1\" class=\"dataframe\">\n",
       "  <thead>\n",
       "    <tr style=\"text-align: right;\">\n",
       "      <th></th>\n",
       "      <th>index</th>\n",
       "      <th>text_length</th>\n",
       "      <th>text_clean</th>\n",
       "    </tr>\n",
       "  </thead>\n",
       "  <tbody>\n",
       "    <tr>\n",
       "      <th>0</th>\n",
       "      <td>0</td>\n",
       "      <td>3697</td>\n",
       "      <td>one incredible feature cryptocurrencies almost...</td>\n",
       "    </tr>\n",
       "    <tr>\n",
       "      <th>1</th>\n",
       "      <td>1</td>\n",
       "      <td>3622</td>\n",
       "      <td>onchainneo founder da hongfei erik zhang found...</td>\n",
       "    </tr>\n",
       "    <tr>\n",
       "      <th>2</th>\n",
       "      <td>2</td>\n",
       "      <td>71</td>\n",
       "      <td>want trade cryptocurrency see eye pop return w...</td>\n",
       "    </tr>\n",
       "    <tr>\n",
       "      <th>3</th>\n",
       "      <td>5</td>\n",
       "      <td>2986</td>\n",
       "      <td>useful currency medium exchange unit account s...</td>\n",
       "    </tr>\n",
       "    <tr>\n",
       "      <th>4</th>\n",
       "      <td>7</td>\n",
       "      <td>810</td>\n",
       "      <td>crypto crypto crypto crypto happen big way fas...</td>\n",
       "    </tr>\n",
       "  </tbody>\n",
       "</table>\n",
       "</div>"
      ],
      "text/plain": [
       "   index  text_length                                         text_clean\n",
       "0      0         3697  one incredible feature cryptocurrencies almost...\n",
       "1      1         3622  onchainneo founder da hongfei erik zhang found...\n",
       "2      2           71  want trade cryptocurrency see eye pop return w...\n",
       "3      5         2986  useful currency medium exchange unit account s...\n",
       "4      7          810  crypto crypto crypto crypto happen big way fas..."
      ]
     },
     "execution_count": 8,
     "metadata": {
      "tags": []
     },
     "output_type": "execute_result"
    }
   ],
   "source": [
    "test2.head()"
   ]
  },
  {
   "cell_type": "markdown",
   "metadata": {
    "colab_type": "text",
    "id": "OchlxU8j6knQ"
   },
   "source": [
    "### **2.1 Spliting Training Data**\n",
    "Before starting the training and the evaluation of the models, we split the dataset into test and training sets. Training data sets have a total of 62822 data points, with 50257 (80%) as training and 12565(20%) as testing points. Partition our data to estimate model performance on a hold-out test set."
   ]
  },
  {
   "cell_type": "code",
   "execution_count": null,
   "metadata": {
    "colab": {},
    "colab_type": "code",
    "id": "Q3B1GYIQIFS5"
   },
   "outputs": [],
   "source": [
    "from sklearn.model_selection import train_test_split"
   ]
  },
  {
   "cell_type": "code",
   "execution_count": null,
   "metadata": {
    "colab": {},
    "colab_type": "code",
    "id": "_uPzy7FHIIgm"
   },
   "outputs": [],
   "source": [
    "#split trainging set and validation set\n",
    "X_train, X_test, y_train, y_test = train_test_split(train5[['text_clean','text_length']], train5['totalClapCount'], test_size=0.2, random_state=123)"
   ]
  },
  {
   "cell_type": "markdown",
   "metadata": {
    "colab_type": "text",
    "id": "T8ZStnQNzfNl"
   },
   "source": [
    "### **2.2 Simple Linear Regression Model**\n",
    "Before building complex deep learning model, we first use a simple regression model as baseline model, so that later we can compare the improvement in more complicated models. In this part Stochastic Gradient Descent(SGD) model is chosen, because that is very efficient to fit very large data size."
   ]
  },
  {
   "cell_type": "code",
   "execution_count": null,
   "metadata": {
    "colab": {},
    "colab_type": "code",
    "id": "1Uu5zNJuHsc8"
   },
   "outputs": [],
   "source": [
    "from sklearn.feature_extraction.text import TfidfVectorizer\n",
    "from sklearn.linear_model import SGDRegressor"
   ]
  },
  {
   "cell_type": "code",
   "execution_count": null,
   "metadata": {
    "colab": {},
    "colab_type": "code",
    "id": "GtGbtNPT1MqP"
   },
   "outputs": [],
   "source": [
    "vect = TfidfVectorizer(input='text_clean')\n",
    "Xtrain = vect.fit_transform(X_train.text_clean)"
   ]
  },
  {
   "cell_type": "code",
   "execution_count": null,
   "metadata": {
    "colab": {
     "base_uri": "https://localhost:8080/",
     "height": 34
    },
    "colab_type": "code",
    "id": "SD_Uqfxe5j8W",
    "outputId": "d7253545-7f0e-40b3-a7f7-c92487ef3956"
   },
   "outputs": [
    {
     "data": {
      "text/plain": [
       "(50257, 181295)"
      ]
     },
     "execution_count": 123,
     "metadata": {
      "tags": []
     },
     "output_type": "execute_result"
    }
   ],
   "source": [
    "Xtrain.shape"
   ]
  },
  {
   "cell_type": "code",
   "execution_count": null,
   "metadata": {
    "colab": {
     "base_uri": "https://localhost:8080/",
     "height": 173
    },
    "colab_type": "code",
    "id": "7R06zS6W1v0f",
    "outputId": "d09c1133-536a-40ff-f03f-486f309f0cbe"
   },
   "outputs": [
    {
     "name": "stderr",
     "output_type": "stream",
     "text": [
      "/usr/local/lib/python3.6/dist-packages/sklearn/linear_model/_stochastic_gradient.py:1187: ConvergenceWarning: Maximum number of iteration reached before convergence. Consider increasing max_iter to improve the fit.\n",
      "  ConvergenceWarning)\n"
     ]
    },
    {
     "data": {
      "text/plain": [
       "SGDRegressor(alpha=0.0001, average=False, early_stopping=False, epsilon=0.1,\n",
       "             eta0=0.01, fit_intercept=True, l1_ratio=0.15,\n",
       "             learning_rate='invscaling', loss='squared_loss', max_iter=1000,\n",
       "             n_iter_no_change=5, penalty='l2', power_t=0.25, random_state=None,\n",
       "             shuffle=True, tol=0.001, validation_fraction=0.1, verbose=0,\n",
       "             warm_start=False)"
      ]
     },
     "execution_count": 132,
     "metadata": {
      "tags": []
     },
     "output_type": "execute_result"
    }
   ],
   "source": [
    "# train a linear regression model using stochastic gradient descent (SGD)\n",
    "regr = SGDRegressor()\n",
    "regr.fit(Xtrain, y_train)"
   ]
  },
  {
   "cell_type": "code",
   "execution_count": null,
   "metadata": {
    "colab": {},
    "colab_type": "code",
    "id": "3EKjSqbo2Cgt"
   },
   "outputs": [],
   "source": [
    "Xtest = vect.transform(X_test.text_clean)\n",
    "y_hat = regr.predict(Xtest)"
   ]
  },
  {
   "cell_type": "code",
   "execution_count": null,
   "metadata": {
    "colab": {
     "base_uri": "https://localhost:8080/",
     "height": 34
    },
    "colab_type": "code",
    "id": "7ipzpZcoJS24",
    "outputId": "d13a7d5b-11df-46e5-fc73-f10406be117d"
   },
   "outputs": [
    {
     "name": "stdout",
     "output_type": "stream",
     "text": [
      "1840620.927429358\n"
     ]
    }
   ],
   "source": [
    "#calculate MSE between y_test and y_hat\n",
    "from sklearn.metrics import mean_squared_error\n",
    "mse = mean_squared_error(y_test, y_hat)\n",
    "print(mse)"
   ]
  },
  {
   "cell_type": "markdown",
   "metadata": {
    "colab_type": "text",
    "id": "Nb_FAO33N_3h"
   },
   "source": [
    "In the above part of linear regression, we manually leave 20% of training data as validation, and after model prediction we have a loss(mean squared error) of 1840620 as starting point. This will serve as a benchmark for the following deep learning model."
   ]
  },
  {
   "cell_type": "markdown",
   "metadata": {
    "colab_type": "text",
    "id": "HejH2JZ6ihmC"
   },
   "source": [
    "### **2.3 Deep Learning Using Neural Networks**"
   ]
  },
  {
   "cell_type": "markdown",
   "metadata": {
    "colab_type": "text",
    "id": "aZE6YlXfbYC-"
   },
   "source": [
    "#### **2.3.1 Processing for Model Training**\n",
    "Before building models, all text-based data need to be converted into numeric so that the maschine can process. As in section 1.3 raw data have already beed preprocessed so that in this section, tokenization is fairly simple."
   ]
  },
  {
   "cell_type": "code",
   "execution_count": null,
   "metadata": {
    "colab": {},
    "colab_type": "code",
    "id": "ftSsDlisKdHW"
   },
   "outputs": [],
   "source": [
    "#build vocabulary from local text-based data using keras\n",
    "from keras.preprocessing.text import Tokenizer\n",
    "from keras.preprocessing.sequence import pad_sequences"
   ]
  },
  {
   "cell_type": "code",
   "execution_count": null,
   "metadata": {
    "colab": {},
    "colab_type": "code",
    "id": "exicbTJUKpUM"
   },
   "outputs": [],
   "source": [
    "NUM_WORDS = 5000  \n",
    "\n",
    "#create tokenizer object and build vocab from the training set\n",
    "tokenizer_obj = Tokenizer(NUM_WORDS, oov_token=1)  \n",
    "tokenizer_obj.fit_on_texts(X_train.text_clean)  "
   ]
  },
  {
   "cell_type": "code",
   "execution_count": null,
   "metadata": {
    "colab": {},
    "colab_type": "code",
    "id": "nKauPQ6jLFd6"
   },
   "outputs": [],
   "source": [
    "#convert tokenizer object into sequence of integer values\n",
    "X_tr_int = tokenizer_obj.texts_to_sequences(X_train.text_clean)"
   ]
  },
  {
   "cell_type": "code",
   "execution_count": null,
   "metadata": {
    "colab": {
     "base_uri": "https://localhost:8080/",
     "height": 34
    },
    "colab_type": "code",
    "id": "s4lWl2KLLXSr",
    "outputId": "1cedff3b-8b07-4dfd-b3de-5550988dbcf9"
   },
   "outputs": [
    {
     "name": "stdout",
     "output_type": "stream",
     "text": [
      "The longest text of the training set has 1771 words.\n"
     ]
    }
   ],
   "source": [
    "#define the maximum text length in the training set\n",
    "max_text_length = max([len(text) for text in X_tr_int])\n",
    "print('The longest text of the training set has {} words.'.format(max_text_length))"
   ]
  },
  {
   "cell_type": "code",
   "execution_count": null,
   "metadata": {
    "colab": {},
    "colab_type": "code",
    "id": "sp5YP-_8Lj7l"
   },
   "outputs": [],
   "source": [
    "#set upper bound of the text length for padding\n",
    "MAX_TEXT_LENGTH = 1000\n",
    "X_tr_int_pad = pad_sequences(X_tr_int, MAX_TEXT_LENGTH)"
   ]
  },
  {
   "cell_type": "code",
   "execution_count": null,
   "metadata": {
    "colab": {},
    "colab_type": "code",
    "id": "k442sxNcLyCy"
   },
   "outputs": [],
   "source": [
    "#do the above 2 steps to test data set\n",
    "X_ts_int = tokenizer_obj.texts_to_sequences(X_test.text_clean) \n",
    "X_ts_int_pad = pad_sequences(X_ts_int, MAX_TEXT_LENGTH)"
   ]
  },
  {
   "cell_type": "code",
   "execution_count": null,
   "metadata": {
    "colab": {
     "base_uri": "https://localhost:8080/",
     "height": 34
    },
    "colab_type": "code",
    "id": "sTP0qw9mL_dk",
    "outputId": "222b9a13-5939-4a89-e0f1-b13cb693097b"
   },
   "outputs": [
    {
     "data": {
      "text/plain": [
       "((50257, 1000), (50257,), (12565, 1000), (12565,))"
      ]
     },
     "execution_count": 149,
     "metadata": {
      "tags": []
     },
     "output_type": "execute_result"
    }
   ],
   "source": [
    "# Structure of the prepared training and test data\n",
    "X_tr_int_pad.shape, y_train.shape, X_ts_int_pad.shape, y_test.shape"
   ]
  },
  {
   "cell_type": "markdown",
   "metadata": {
    "colab_type": "text",
    "id": "dOmYDmO2kPQg"
   },
   "source": [
    "After vectorizing already splited training data set, the same procedure is also applied to real test data. So that the contingency of the form and data structure of both two groups of data sets will be kept."
   ]
  },
  {
   "cell_type": "code",
   "execution_count": null,
   "metadata": {
    "colab": {},
    "colab_type": "code",
    "id": "H9DGOnENMJJX"
   },
   "outputs": [],
   "source": [
    "test_int = tokenizer_obj.texts_to_sequences(test2.text_clean) \n",
    "test_int_pad = pad_sequences(test_int, MAX_TEXT_LENGTH)"
   ]
  },
  {
   "cell_type": "code",
   "execution_count": null,
   "metadata": {
    "colab": {
     "base_uri": "https://localhost:8080/",
     "height": 34
    },
    "colab_type": "code",
    "id": "u9JndhT3EJ6y",
    "outputId": "5ffb49aa-e10a-477c-a1db-16db2d0ed763"
   },
   "outputs": [
    {
     "data": {
      "text/plain": [
       "(514, 1000)"
      ]
     },
     "execution_count": 152,
     "metadata": {
      "tags": []
     },
     "output_type": "execute_result"
    }
   ],
   "source": [
    "test_int_pad.shape"
   ]
  },
  {
   "cell_type": "markdown",
   "metadata": {
    "colab_type": "text",
    "id": "Qjgk558ronQX"
   },
   "source": [
    "#### **2.3.2 Basic GRU Model**"
   ]
  },
  {
   "cell_type": "markdown",
   "metadata": {
    "colab_type": "text",
    "id": "H6H_y8Tkqb3H"
   },
   "source": [
    "In the GRU model, long sequences are processed. Because in all RNN neural networks they suffer from short time memory problem which means important information in the beginning will gradually lose it's importance and in the end these important information will not bring so much to the model as it should be. But GRU model can learn which information is important and keep it in the model, while throw away the not important ones, which is a perfect fit for training models based on text of natural language. "
   ]
  },
  {
   "cell_type": "code",
   "execution_count": null,
   "metadata": {
    "colab": {},
    "colab_type": "code",
    "id": "fbFFwgQXMRAn"
   },
   "outputs": [],
   "source": [
    "from keras.models import Sequential\n",
    "from keras.layers import Dense, Embedding, GRU, Dropout\n",
    "from keras.layers.embeddings import Embedding\n",
    "from keras.initializers import Constant"
   ]
  },
  {
   "cell_type": "code",
   "execution_count": null,
   "metadata": {
    "colab": {},
    "colab_type": "code",
    "id": "RMI17jJKNqhF"
   },
   "outputs": [],
   "source": [
    "#parameter setting of the configuration of deep learning models\n",
    "NB_HIDDEN = 10\n",
    "EPOCH = 10\n",
    "BATCH_SIZE = 128\n",
    "EMBEDDING_DIM = 50\n",
    "VAL_SPLIT = 0.2  #fraction of the training set used for validation"
   ]
  },
  {
   "cell_type": "code",
   "execution_count": null,
   "metadata": {
    "colab": {
     "base_uri": "https://localhost:8080/",
     "height": 255
    },
    "colab_type": "code",
    "id": "K8r3IaEUufDb",
    "outputId": "b2216b0d-6ca5-46d7-9dee-913de8b04b2b"
   },
   "outputs": [
    {
     "name": "stdout",
     "output_type": "stream",
     "text": [
      "Model: \"sequential_1\"\n",
      "_________________________________________________________________\n",
      "Layer (type)                 Output Shape              Param #   \n",
      "=================================================================\n",
      "embedding_1 (Embedding)      (None, 1000, 50)          250000    \n",
      "_________________________________________________________________\n",
      "gru_1 (GRU)                  (None, 10)                1860      \n",
      "_________________________________________________________________\n",
      "dense_1 (Dense)              (None, 1)                 11        \n",
      "=================================================================\n",
      "Total params: 251,871\n",
      "Trainable params: 251,871\n",
      "Non-trainable params: 0\n",
      "_________________________________________________________________\n"
     ]
    }
   ],
   "source": [
    "# Embedding layer\n",
    "embedding_layer=Embedding(input_dim=NUM_WORDS, \n",
    "                          output_dim=EMBEDDING_DIM, \n",
    "                          input_length=MAX_TEXT_LENGTH\n",
    "                         )\n",
    "model1=Sequential()                        \n",
    "model1.add(embedding_layer)\n",
    "model1.add(GRU(NB_HIDDEN))\n",
    "model1.add(Dense(1, activation = 'linear'))\n",
    "model1.compile(loss=\"mean_squared_error\", optimizer=\"adam\", metrics=\"mean_squared_error\")\n",
    "model1.summary()"
   ]
  },
  {
   "cell_type": "code",
   "execution_count": null,
   "metadata": {
    "colab": {
     "base_uri": "https://localhost:8080/",
     "height": 377
    },
    "colab_type": "code",
    "id": "ylo7WP-PsVRE",
    "outputId": "2ad789a5-7da1-46a7-8abb-82317db29971"
   },
   "outputs": [
    {
     "name": "stdout",
     "output_type": "stream",
     "text": [
      "Epoch 1/10\n",
      "315/315 [==============================] - 165s 524ms/step - loss: 849181.0000 - mean_squared_error: 849181.0000 - val_loss: 771304.1875 - val_mean_squared_error: 771304.1875\n",
      "Epoch 2/10\n",
      "315/315 [==============================] - 171s 543ms/step - loss: 848077.2500 - mean_squared_error: 848077.2500 - val_loss: 770482.3750 - val_mean_squared_error: 770482.3750\n",
      "Epoch 3/10\n",
      "315/315 [==============================] - 169s 537ms/step - loss: 847330.1875 - mean_squared_error: 847330.1875 - val_loss: 769723.5000 - val_mean_squared_error: 769723.5000\n",
      "Epoch 4/10\n",
      "315/315 [==============================] - 171s 544ms/step - loss: 846629.3125 - mean_squared_error: 846629.3125 - val_loss: 769000.2500 - val_mean_squared_error: 769000.2500\n",
      "Epoch 5/10\n",
      "315/315 [==============================] - 169s 536ms/step - loss: 845965.4375 - mean_squared_error: 845965.4375 - val_loss: 768340.4375 - val_mean_squared_error: 768340.4375\n",
      "Epoch 6/10\n",
      "315/315 [==============================] - 169s 537ms/step - loss: 845330.1250 - mean_squared_error: 845330.1250 - val_loss: 767746.7500 - val_mean_squared_error: 767746.7500\n",
      "Epoch 7/10\n",
      "315/315 [==============================] - 170s 541ms/step - loss: 844709.9375 - mean_squared_error: 844709.9375 - val_loss: 767180.5000 - val_mean_squared_error: 767180.5000\n",
      "Epoch 8/10\n",
      "315/315 [==============================] - 169s 537ms/step - loss: 844116.7500 - mean_squared_error: 844116.7500 - val_loss: 766672.6250 - val_mean_squared_error: 766672.6250\n",
      "Epoch 9/10\n",
      "315/315 [==============================] - 169s 536ms/step - loss: 843535.3125 - mean_squared_error: 843535.3125 - val_loss: 766158.0625 - val_mean_squared_error: 766158.0625\n",
      "Epoch 10/10\n",
      "315/315 [==============================] - 170s 540ms/step - loss: 842959.3125 - mean_squared_error: 842959.3125 - val_loss: 765676.0625 - val_mean_squared_error: 765676.0625\n"
     ]
    }
   ],
   "source": [
    "model1_story = model1.fit(X_tr_int_pad, y_train, batch_size=BATCH_SIZE, epochs=EPOCH, validation_split=VAL_SPLIT)"
   ]
  },
  {
   "cell_type": "markdown",
   "metadata": {
    "colab_type": "text",
    "id": "CXU9Gp_cfLTH"
   },
   "source": [
    "In model1 we have a validation loss of 765676 with 20% of hold out data. Compared to the simple linear regression model, it is already a significant improvement of 58.4%."
   ]
  },
  {
   "cell_type": "code",
   "execution_count": null,
   "metadata": {
    "colab": {
     "base_uri": "https://localhost:8080/",
     "height": 34
    },
    "colab_type": "code",
    "id": "RXfF6Dn2TUSE",
    "outputId": "fdcd577f-2664-4051-b81a-a76e4acf1df1"
   },
   "outputs": [
    {
     "name": "stdout",
     "output_type": "stream",
     "text": [
      "INFO:tensorflow:Assets written to: /content/drive/My Drive/ADAMS_NLPtask_SS20-2/model1/assets\n"
     ]
    }
   ],
   "source": [
    "# Store model to disk\n",
    "model1.save('/content/drive/My Drive/ADAMS_NLPtask_SS20-2/model1')"
   ]
  },
  {
   "cell_type": "markdown",
   "metadata": {
    "colab_type": "text",
    "id": "eeyxFy1pb0ua"
   },
   "source": [
    "#### **2.3.3 Generate Prediction for Submission**"
   ]
  },
  {
   "cell_type": "code",
   "execution_count": null,
   "metadata": {
    "colab": {},
    "colab_type": "code",
    "id": "vawvIA9P6Bwv"
   },
   "outputs": [],
   "source": [
    "# Load the model\n",
    "filepath = '/content/drive/My Drive/ADAMS_NLPtask_SS20-2/model1'\n",
    "model1 = load_model(filepath, compile = True)"
   ]
  },
  {
   "cell_type": "code",
   "execution_count": null,
   "metadata": {
    "colab": {},
    "colab_type": "code",
    "id": "-QSgGvcFgtO3"
   },
   "outputs": [],
   "source": [
    "predict = model1.predict(test_int_pad)"
   ]
  },
  {
   "cell_type": "code",
   "execution_count": null,
   "metadata": {
    "colab": {},
    "colab_type": "code",
    "id": "cTCF5o0-5sIg"
   },
   "outputs": [],
   "source": [
    "data = predict.copy()"
   ]
  },
  {
   "cell_type": "code",
   "execution_count": null,
   "metadata": {
    "colab": {},
    "colab_type": "code",
    "id": "Rcf1Q5bW5OmP"
   },
   "outputs": [],
   "source": [
    "df = pd.DataFrame(data=data[0:,0:],\n",
    "                   index=[i for i in range(data.shape[0])],\n",
    "                   columns=['f'+str(i) for i in range(data.shape[1])])\n"
   ]
  },
  {
   "cell_type": "code",
   "execution_count": null,
   "metadata": {
    "colab": {},
    "colab_type": "code",
    "id": "doDQ2SNt7G-E"
   },
   "outputs": [],
   "source": [
    "df['f0'] = df['f0'].astype(float)"
   ]
  },
  {
   "cell_type": "code",
   "execution_count": null,
   "metadata": {
    "colab": {},
    "colab_type": "code",
    "id": "CYxQ2pxO8Vla"
   },
   "outputs": [],
   "source": [
    "df[df < 0] = 0"
   ]
  },
  {
   "cell_type": "code",
   "execution_count": null,
   "metadata": {
    "colab": {
     "base_uri": "https://localhost:8080/",
     "height": 204
    },
    "colab_type": "code",
    "id": "T1j4DWUF6W9D",
    "outputId": "5bc93cc8-20ec-490e-e428-aa51ab2b0175"
   },
   "outputs": [
    {
     "data": {
      "text/html": [
       "<div>\n",
       "<style scoped>\n",
       "    .dataframe tbody tr th:only-of-type {\n",
       "        vertical-align: middle;\n",
       "    }\n",
       "\n",
       "    .dataframe tbody tr th {\n",
       "        vertical-align: top;\n",
       "    }\n",
       "\n",
       "    .dataframe thead th {\n",
       "        text-align: right;\n",
       "    }\n",
       "</style>\n",
       "<table border=\"1\" class=\"dataframe\">\n",
       "  <thead>\n",
       "    <tr style=\"text-align: right;\">\n",
       "      <th></th>\n",
       "      <th>index</th>\n",
       "      <th>Claps</th>\n",
       "    </tr>\n",
       "  </thead>\n",
       "  <tbody>\n",
       "    <tr>\n",
       "      <th>0</th>\n",
       "      <td>0</td>\n",
       "      <td>4708.880317</td>\n",
       "    </tr>\n",
       "    <tr>\n",
       "      <th>1</th>\n",
       "      <td>1</td>\n",
       "      <td>4925.785997</td>\n",
       "    </tr>\n",
       "    <tr>\n",
       "      <th>2</th>\n",
       "      <td>2</td>\n",
       "      <td>4399.108583</td>\n",
       "    </tr>\n",
       "    <tr>\n",
       "      <th>3</th>\n",
       "      <td>5</td>\n",
       "      <td>4091.812227</td>\n",
       "    </tr>\n",
       "    <tr>\n",
       "      <th>4</th>\n",
       "      <td>7</td>\n",
       "      <td>3838.688318</td>\n",
       "    </tr>\n",
       "  </tbody>\n",
       "</table>\n",
       "</div>"
      ],
      "text/plain": [
       "   index        Claps\n",
       "0      0  4708.880317\n",
       "1      1  4925.785997\n",
       "2      2  4399.108583\n",
       "3      5  4091.812227\n",
       "4      7  3838.688318"
      ]
     },
     "execution_count": 221,
     "metadata": {
      "tags": []
     },
     "output_type": "execute_result"
    }
   ],
   "source": [
    "tem = pd.read_csv(\"/content/drive/My Drive/ADAMS_NLPtask_SS20-2/Sample_submission.csv\")\n",
    "tem.head()"
   ]
  },
  {
   "cell_type": "code",
   "execution_count": null,
   "metadata": {
    "colab": {},
    "colab_type": "code",
    "id": "u_pU96aC8igP"
   },
   "outputs": [],
   "source": [
    "tem.Claps = df.f0"
   ]
  },
  {
   "cell_type": "code",
   "execution_count": null,
   "metadata": {
    "colab": {},
    "colab_type": "code",
    "id": "OhtYRWq78o_u"
   },
   "outputs": [],
   "source": [
    "tem.head()"
   ]
  },
  {
   "cell_type": "code",
   "execution_count": null,
   "metadata": {
    "colab": {},
    "colab_type": "code",
    "id": "uNhxrrOc8xLr"
   },
   "outputs": [],
   "source": [
    "tem.to_csv('/content/drive/My Drive/ADAMS_NLPtask_SS20-2/Sample_submission.csv')"
   ]
  },
  {
   "cell_type": "markdown",
   "metadata": {
    "colab_type": "text",
    "id": "2lTYPrehxIW4"
   },
   "source": [
    "## **Reflection**"
   ]
  },
  {
   "cell_type": "markdown",
   "metadata": {
    "colab_type": "text",
    "id": "kGRHpwXyxSkw"
   },
   "source": [
    "In this project a deep learning model for text data was developed to predict a sign of popularity: number of claps, for article published on social media. A new feature: length of text was also extracted from the text data and in the explanatory analysis, it has shown a correlation between the number of claps and the text length. \\\n",
    "Compare to our benchmark linear regression model, the deep learning model has shown a significant improvement based on evaluation metrics mean squared error by 58.4%.\n",
    "For future work, more additional features can be added to the neural network model, such as in the raw data. And additional improvement for modeling could be mixed input model combining both text data and other data form. Another improvement could be detecting a list of 'hit' words and mark our data if it is included."
   ]
  },
  {
   "cell_type": "markdown",
   "metadata": {
    "colab_type": "text",
    "id": "a6EhM8FkSAyl"
   },
   "source": [
    "## **References**\n",
    "[1] Flavio Henrique de Freitas.(2018).Predicting article retweets and likes based on the title using Machine Learning.Accessed 29 Aug.2020. Available at: https://github.com/flaviohenriquecbc/machine-learning-capstone-project/blob/master/final-report.pdf/. \\\n",
    "[2] Dylan Bray, Hassan Chughtai, Numan Gilani, Simon Xie, Charlie Yeng, and Gui Zamorano.(2019).Predicting the Popularity of Instagram Posts. Accessed 29 Aug.2020. Available at:https://towardsdatascience.com/predicting-the-popularity-of-instagram-posts-deeb7dc27a8f/. \\\n",
    "[3]Michael Phi.(2018).Illustrated Guide to LSTM’s and GRU’s: A step by step explanation.Accessed 29 Aug.2020. Available at: https://towardsdatascience.com/illustrated-guide-to-lstms-and-gru-s-a-step-by-step-explanation-44e9eb85bf21/ \\\n",
    "[4]Stefan Lessmann.(2020).ADAMS Tutorial#11: Sentiment Analysis. Available at:https://github.com/Humboldt-WI/adams/blob/master/exercises/Ex11-sentiment-analysis.ipynb/ \\\n",
    "[5]Mohamed Afham.(2019).Twitter Sentiment Analysis using NLTK, Python.Accessed 29 Aug.2020. Available at:https://towardsdatascience.com/twitter-sentiment-analysis-classification-using-nltk-python-fa912578614c/."
   ]
  }
 ],
 "metadata": {
  "colab": {
   "name": "adams-Yang Chen576421.ipynb",
   "provenance": []
  },
  "kernelspec": {
   "display_name": "Python 3",
   "language": "python",
   "name": "python3"
  },
  "language_info": {
   "codemirror_mode": {
    "name": "ipython",
    "version": 3
   },
   "file_extension": ".py",
   "mimetype": "text/x-python",
   "name": "python",
   "nbconvert_exporter": "python",
   "pygments_lexer": "ipython3",
   "version": "3.7.6"
  }
 },
 "nbformat": 4,
 "nbformat_minor": 1
}
